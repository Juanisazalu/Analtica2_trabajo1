{
  "cells": [
    {
      "cell_type": "markdown",
      "metadata": {
        "colab_type": "text",
        "id": "view-in-github"
      },
      "source": [
        "<a href=\"https://colab.research.google.com/github/CamiloLoaiza12/Analitica2_trabajo1/blob/main/Selecci%C3%B3n_de_variables_y_regularizaci%C3%B3n.ipynb\" target=\"_parent\"><img src=\"https://colab.research.google.com/assets/colab-badge.svg\" alt=\"Open In Colab\"/></a>"
      ]
    },
    {
      "cell_type": "markdown",
      "metadata": {},
      "source": [
        "# Librerias"
      ]
    },
    {
      "cell_type": "code",
      "execution_count": 1,
      "metadata": {
        "id": "F1C8ZCjFGBqM"
      },
      "outputs": [],
      "source": [
        "## Remove Warnings\n",
        "import warnings\n",
        "warnings.filterwarnings(\"ignore\")\n",
        "\n",
        "## Data\n",
        "import pandas as pd\n",
        "import numpy as np\n",
        "from itertools import product\n",
        "\n",
        "## Visualization\n",
        "import matplotlib.pyplot as plt\n",
        "import seaborn as sns\n",
        "from plotly.subplots import make_subplots\n",
        "import plotly.express as px\n",
        "import plotly.graph_objects as go\n",
        "import plotly.figure_factory as ff\n",
        "\n",
        "## Modelling\n",
        "from sklearn.metrics import mean_squared_error\n",
        "from sklearn.model_selection import train_test_split, GridSearchCV\n",
        "from sklearn.linear_model import LinearRegression\n",
        "import statsmodels.api as sm\n",
        "from sklearn.metrics import mean_squared_error,  mean_absolute_error, mean_absolute_percentage_error, r2_score, classification_report\n",
        "import math"
      ]
    },
    {
      "cell_type": "code",
      "execution_count": 2,
      "metadata": {
        "id": "cxpMgQ7H4deN"
      },
      "outputs": [],
      "source": [
        "# Importar librerias necesarias\n",
        "import pandas as pd\n",
        "import numpy as np\n",
        "import seaborn as sns\n",
        "import matplotlib.pyplot as plt\n",
        "from sklearn.linear_model import LinearRegression, Ridge, RidgeCV, Lasso\n",
        "from sklearn.impute import SimpleImputer\n",
        "from sklearn.preprocessing import OneHotEncoder, StandardScaler\n",
        "from sklearn.compose import ColumnTransformer\n",
        "from sklearn.model_selection import train_test_split\n",
        "from sklearn.metrics import mean_absolute_error, mean_squared_error, r2_score\n",
        "from sklearn import metrics\n",
        "\n",
        "%matplotlib inline"
      ]
    },
    {
      "cell_type": "code",
      "execution_count": 3,
      "metadata": {
        "id": "SzM3fvwo4deO"
      },
      "outputs": [],
      "source": [
        "# Importar librerias necesarias\n",
        "import pandas as pd\n",
        "import numpy as np\n",
        "import seaborn as sns\n",
        "import matplotlib.pyplot as plt\n",
        "from sklearn.linear_model import LogisticRegression\n",
        "\n",
        "%matplotlib inline"
      ]
    },
    {
      "cell_type": "code",
      "execution_count": 4,
      "metadata": {},
      "outputs": [],
      "source": [
        "from imblearn.under_sampling import NearMiss\n",
        "from imblearn.over_sampling import RandomOverSampler\n",
        "from imblearn.combine import SMOTETomek\n",
        "from imblearn.ensemble import BalancedBaggingClassifier\n",
        "from sklearn.datasets import make_classification\n",
        "from collections import Counter"
      ]
    },
    {
      "cell_type": "code",
      "execution_count": 5,
      "metadata": {},
      "outputs": [],
      "source": [
        "from sklearn.metrics import confusion_matrix, ConfusionMatrixDisplay\n",
        "from sklearn.metrics import accuracy_score"
      ]
    },
    {
      "cell_type": "markdown",
      "metadata": {
        "id": "AE_s_x4ndroU"
      },
      "source": [
        "# Importacion de datos"
      ]
    },
    {
      "cell_type": "markdown",
      "metadata": {},
      "source": [
        "Lecutra de tabla"
      ]
    },
    {
      "cell_type": "code",
      "execution_count": 6,
      "metadata": {},
      "outputs": [],
      "source": [
        "tabla_base = pd.read_csv('tabla_base.csv', sep = \",\")"
      ]
    },
    {
      "cell_type": "markdown",
      "metadata": {},
      "source": [
        "Informacion de la tabla"
      ]
    },
    {
      "cell_type": "code",
      "execution_count": 7,
      "metadata": {},
      "outputs": [
        {
          "name": "stdout",
          "output_type": "stream",
          "text": [
            "<class 'pandas.core.frame.DataFrame'>\n",
            "RangeIndex: 4410 entries, 0 to 4409\n",
            "Data columns (total 21 columns):\n",
            " #   Column                         Non-Null Count  Dtype  \n",
            "---  ------                         --------------  -----  \n",
            " 0   desercion_año_anterior         4410 non-null   object \n",
            " 1   frecuencia_viajes              4410 non-null   object \n",
            " 2   departamento                   4410 non-null   object \n",
            " 3   distancia_domicilio            4410 non-null   int64  \n",
            " 4   educacion                      4410 non-null   int64  \n",
            " 5   formacion                      4410 non-null   object \n",
            " 6   nivel_de_cargo                 4410 non-null   int64  \n",
            " 7   nombre_cargo                   4410 non-null   object \n",
            " 8   estado_civil                   4410 non-null   object \n",
            " 9   ingresos_mensuales             4410 non-null   int64  \n",
            " 10  empresas_anteriores            4410 non-null   float64\n",
            " 11  porcentaje_aumentosalario      4410 non-null   int64  \n",
            " 12  nivel_de_opciones              4410 non-null   int64  \n",
            " 13  años_de_trabajo                4410 non-null   float64\n",
            " 14  numero_capacitaciones          4410 non-null   int64  \n",
            " 15  años_jefe_actual               4410 non-null   int64  \n",
            " 16  satisfaccion_entorno           4410 non-null   float64\n",
            " 17  satisfaccion_laboral           4410 non-null   float64\n",
            " 18  conciliacion_faimilar_laboral  4410 non-null   float64\n",
            " 19  implicacion_laboral            4410 non-null   int64  \n",
            " 20  tiempo_prom_dia                4410 non-null   float64\n",
            "dtypes: float64(6), int64(9), object(6)\n",
            "memory usage: 723.6+ KB\n"
          ]
        }
      ],
      "source": [
        "tabla_base.info()"
      ]
    },
    {
      "cell_type": "markdown",
      "metadata": {
        "id": "nssp5dg-4df6"
      },
      "source": [
        "# Normalización"
      ]
    },
    {
      "cell_type": "markdown",
      "metadata": {},
      "source": [
        "Variables numericas a categoricas"
      ]
    },
    {
      "cell_type": "code",
      "execution_count": 8,
      "metadata": {
        "id": "n3RP-zXQ4dgD",
        "outputId": "e6247824-dd32-401e-def6-72c32b48a374"
      },
      "outputs": [
        {
          "data": {
            "text/plain": [
              "desercion_año_anterior            object\n",
              "frecuencia_viajes                 object\n",
              "departamento                      object\n",
              "distancia_domicilio                int64\n",
              "educacion                          int64\n",
              "formacion                         object\n",
              "nivel_de_cargo                     int64\n",
              "nombre_cargo                      object\n",
              "estado_civil                      object\n",
              "ingresos_mensuales                 int64\n",
              "empresas_anteriores              float64\n",
              "porcentaje_aumentosalario          int64\n",
              "nivel_de_opciones                  int64\n",
              "años_de_trabajo                  float64\n",
              "numero_capacitaciones             object\n",
              "años_jefe_actual                   int64\n",
              "satisfaccion_entorno             float64\n",
              "satisfaccion_laboral             float64\n",
              "conciliacion_faimilar_laboral    float64\n",
              "implicacion_laboral                int64\n",
              "tiempo_prom_dia                  float64\n",
              "dtype: object"
            ]
          },
          "execution_count": 8,
          "metadata": {},
          "output_type": "execute_result"
        }
      ],
      "source": [
        "tablabase=tabla_base.copy()\n",
        "columnascategoricas=[\"numero_capacitaciones\",\"frecuencia_viajes\"]\n",
        "tablabase[columnascategoricas] = tablabase[columnascategoricas].astype(str)\n",
        "tablabase.dtypes"
      ]
    },
    {
      "cell_type": "markdown",
      "metadata": {},
      "source": [
        "Cambio de la variable respuesta, de object a int"
      ]
    },
    {
      "cell_type": "code",
      "execution_count": 9,
      "metadata": {
        "id": "ZPVLGNaY4dgF",
        "outputId": "6e941115-175c-4eb5-bfd3-8bf2de80fa16"
      },
      "outputs": [
        {
          "data": {
            "text/html": [
              "<div>\n",
              "<style scoped>\n",
              "    .dataframe tbody tr th:only-of-type {\n",
              "        vertical-align: middle;\n",
              "    }\n",
              "\n",
              "    .dataframe tbody tr th {\n",
              "        vertical-align: top;\n",
              "    }\n",
              "\n",
              "    .dataframe thead th {\n",
              "        text-align: right;\n",
              "    }\n",
              "</style>\n",
              "<table border=\"1\" class=\"dataframe\">\n",
              "  <thead>\n",
              "    <tr style=\"text-align: right;\">\n",
              "      <th></th>\n",
              "      <th>frecuencia_viajes</th>\n",
              "      <th>departamento</th>\n",
              "      <th>distancia_domicilio</th>\n",
              "      <th>educacion</th>\n",
              "      <th>formacion</th>\n",
              "      <th>nivel_de_cargo</th>\n",
              "      <th>nombre_cargo</th>\n",
              "      <th>estado_civil</th>\n",
              "      <th>ingresos_mensuales</th>\n",
              "      <th>empresas_anteriores</th>\n",
              "      <th>...</th>\n",
              "      <th>nivel_de_opciones</th>\n",
              "      <th>años_de_trabajo</th>\n",
              "      <th>numero_capacitaciones</th>\n",
              "      <th>años_jefe_actual</th>\n",
              "      <th>satisfaccion_entorno</th>\n",
              "      <th>satisfaccion_laboral</th>\n",
              "      <th>conciliacion_faimilar_laboral</th>\n",
              "      <th>implicacion_laboral</th>\n",
              "      <th>tiempo_prom_dia</th>\n",
              "      <th>desercion</th>\n",
              "    </tr>\n",
              "  </thead>\n",
              "  <tbody>\n",
              "    <tr>\n",
              "      <th>0</th>\n",
              "      <td>Travel_Rarely</td>\n",
              "      <td>Sales</td>\n",
              "      <td>6</td>\n",
              "      <td>2</td>\n",
              "      <td>Life Sciences</td>\n",
              "      <td>1</td>\n",
              "      <td>Healthcare Representative</td>\n",
              "      <td>Married</td>\n",
              "      <td>131160</td>\n",
              "      <td>1.0</td>\n",
              "      <td>...</td>\n",
              "      <td>0</td>\n",
              "      <td>1.0</td>\n",
              "      <td>6</td>\n",
              "      <td>0</td>\n",
              "      <td>3.0</td>\n",
              "      <td>4.0</td>\n",
              "      <td>2.0</td>\n",
              "      <td>3</td>\n",
              "      <td>6.8702</td>\n",
              "      <td>0</td>\n",
              "    </tr>\n",
              "    <tr>\n",
              "      <th>1</th>\n",
              "      <td>Travel_Frequently</td>\n",
              "      <td>Research &amp; Development</td>\n",
              "      <td>10</td>\n",
              "      <td>1</td>\n",
              "      <td>Life Sciences</td>\n",
              "      <td>1</td>\n",
              "      <td>Research Scientist</td>\n",
              "      <td>Single</td>\n",
              "      <td>41890</td>\n",
              "      <td>0.0</td>\n",
              "      <td>...</td>\n",
              "      <td>1</td>\n",
              "      <td>6.0</td>\n",
              "      <td>3</td>\n",
              "      <td>4</td>\n",
              "      <td>3.0</td>\n",
              "      <td>2.0</td>\n",
              "      <td>4.0</td>\n",
              "      <td>2</td>\n",
              "      <td>7.3160</td>\n",
              "      <td>1</td>\n",
              "    </tr>\n",
              "    <tr>\n",
              "      <th>2</th>\n",
              "      <td>Travel_Frequently</td>\n",
              "      <td>Research &amp; Development</td>\n",
              "      <td>17</td>\n",
              "      <td>4</td>\n",
              "      <td>Other</td>\n",
              "      <td>4</td>\n",
              "      <td>Sales Executive</td>\n",
              "      <td>Married</td>\n",
              "      <td>193280</td>\n",
              "      <td>1.0</td>\n",
              "      <td>...</td>\n",
              "      <td>3</td>\n",
              "      <td>5.0</td>\n",
              "      <td>2</td>\n",
              "      <td>3</td>\n",
              "      <td>2.0</td>\n",
              "      <td>2.0</td>\n",
              "      <td>1.0</td>\n",
              "      <td>3</td>\n",
              "      <td>6.8161</td>\n",
              "      <td>0</td>\n",
              "    </tr>\n",
              "    <tr>\n",
              "      <th>3</th>\n",
              "      <td>Non-Travel</td>\n",
              "      <td>Research &amp; Development</td>\n",
              "      <td>2</td>\n",
              "      <td>5</td>\n",
              "      <td>Life Sciences</td>\n",
              "      <td>3</td>\n",
              "      <td>Human Resources</td>\n",
              "      <td>Married</td>\n",
              "      <td>83210</td>\n",
              "      <td>3.0</td>\n",
              "      <td>...</td>\n",
              "      <td>3</td>\n",
              "      <td>13.0</td>\n",
              "      <td>5</td>\n",
              "      <td>5</td>\n",
              "      <td>4.0</td>\n",
              "      <td>4.0</td>\n",
              "      <td>3.0</td>\n",
              "      <td>2</td>\n",
              "      <td>6.7892</td>\n",
              "      <td>0</td>\n",
              "    </tr>\n",
              "    <tr>\n",
              "      <th>4</th>\n",
              "      <td>Travel_Rarely</td>\n",
              "      <td>Research &amp; Development</td>\n",
              "      <td>10</td>\n",
              "      <td>1</td>\n",
              "      <td>Medical</td>\n",
              "      <td>1</td>\n",
              "      <td>Sales Executive</td>\n",
              "      <td>Single</td>\n",
              "      <td>23420</td>\n",
              "      <td>4.0</td>\n",
              "      <td>...</td>\n",
              "      <td>2</td>\n",
              "      <td>9.0</td>\n",
              "      <td>2</td>\n",
              "      <td>4</td>\n",
              "      <td>4.0</td>\n",
              "      <td>1.0</td>\n",
              "      <td>3.0</td>\n",
              "      <td>3</td>\n",
              "      <td>7.8776</td>\n",
              "      <td>0</td>\n",
              "    </tr>\n",
              "    <tr>\n",
              "      <th>...</th>\n",
              "      <td>...</td>\n",
              "      <td>...</td>\n",
              "      <td>...</td>\n",
              "      <td>...</td>\n",
              "      <td>...</td>\n",
              "      <td>...</td>\n",
              "      <td>...</td>\n",
              "      <td>...</td>\n",
              "      <td>...</td>\n",
              "      <td>...</td>\n",
              "      <td>...</td>\n",
              "      <td>...</td>\n",
              "      <td>...</td>\n",
              "      <td>...</td>\n",
              "      <td>...</td>\n",
              "      <td>...</td>\n",
              "      <td>...</td>\n",
              "      <td>...</td>\n",
              "      <td>...</td>\n",
              "      <td>...</td>\n",
              "      <td>...</td>\n",
              "    </tr>\n",
              "    <tr>\n",
              "      <th>4405</th>\n",
              "      <td>Travel_Rarely</td>\n",
              "      <td>Research &amp; Development</td>\n",
              "      <td>5</td>\n",
              "      <td>4</td>\n",
              "      <td>Medical</td>\n",
              "      <td>1</td>\n",
              "      <td>Research Scientist</td>\n",
              "      <td>Single</td>\n",
              "      <td>60290</td>\n",
              "      <td>3.0</td>\n",
              "      <td>...</td>\n",
              "      <td>1</td>\n",
              "      <td>10.0</td>\n",
              "      <td>5</td>\n",
              "      <td>2</td>\n",
              "      <td>4.0</td>\n",
              "      <td>1.0</td>\n",
              "      <td>3.0</td>\n",
              "      <td>3</td>\n",
              "      <td>8.3169</td>\n",
              "      <td>0</td>\n",
              "    </tr>\n",
              "    <tr>\n",
              "      <th>4406</th>\n",
              "      <td>Travel_Rarely</td>\n",
              "      <td>Research &amp; Development</td>\n",
              "      <td>2</td>\n",
              "      <td>4</td>\n",
              "      <td>Medical</td>\n",
              "      <td>1</td>\n",
              "      <td>Laboratory Technician</td>\n",
              "      <td>Divorced</td>\n",
              "      <td>26790</td>\n",
              "      <td>2.0</td>\n",
              "      <td>...</td>\n",
              "      <td>0</td>\n",
              "      <td>10.0</td>\n",
              "      <td>2</td>\n",
              "      <td>2</td>\n",
              "      <td>4.0</td>\n",
              "      <td>4.0</td>\n",
              "      <td>3.0</td>\n",
              "      <td>2</td>\n",
              "      <td>5.8972</td>\n",
              "      <td>0</td>\n",
              "    </tr>\n",
              "    <tr>\n",
              "      <th>4407</th>\n",
              "      <td>Travel_Rarely</td>\n",
              "      <td>Research &amp; Development</td>\n",
              "      <td>25</td>\n",
              "      <td>2</td>\n",
              "      <td>Life Sciences</td>\n",
              "      <td>2</td>\n",
              "      <td>Sales Executive</td>\n",
              "      <td>Married</td>\n",
              "      <td>37020</td>\n",
              "      <td>0.0</td>\n",
              "      <td>...</td>\n",
              "      <td>0</td>\n",
              "      <td>5.0</td>\n",
              "      <td>4</td>\n",
              "      <td>2</td>\n",
              "      <td>1.0</td>\n",
              "      <td>3.0</td>\n",
              "      <td>3.0</td>\n",
              "      <td>3</td>\n",
              "      <td>7.1495</td>\n",
              "      <td>0</td>\n",
              "    </tr>\n",
              "    <tr>\n",
              "      <th>4408</th>\n",
              "      <td>Travel_Rarely</td>\n",
              "      <td>Sales</td>\n",
              "      <td>18</td>\n",
              "      <td>2</td>\n",
              "      <td>Medical</td>\n",
              "      <td>1</td>\n",
              "      <td>Laboratory Technician</td>\n",
              "      <td>Divorced</td>\n",
              "      <td>23980</td>\n",
              "      <td>0.0</td>\n",
              "      <td>...</td>\n",
              "      <td>1</td>\n",
              "      <td>10.0</td>\n",
              "      <td>2</td>\n",
              "      <td>8</td>\n",
              "      <td>4.0</td>\n",
              "      <td>1.0</td>\n",
              "      <td>3.0</td>\n",
              "      <td>2</td>\n",
              "      <td>9.1876</td>\n",
              "      <td>0</td>\n",
              "    </tr>\n",
              "    <tr>\n",
              "      <th>4409</th>\n",
              "      <td>Travel_Rarely</td>\n",
              "      <td>Research &amp; Development</td>\n",
              "      <td>28</td>\n",
              "      <td>3</td>\n",
              "      <td>Medical</td>\n",
              "      <td>2</td>\n",
              "      <td>Laboratory Technician</td>\n",
              "      <td>Divorced</td>\n",
              "      <td>54680</td>\n",
              "      <td>0.0</td>\n",
              "      <td>...</td>\n",
              "      <td>0</td>\n",
              "      <td>11.0</td>\n",
              "      <td>6</td>\n",
              "      <td>9</td>\n",
              "      <td>1.0</td>\n",
              "      <td>3.0</td>\n",
              "      <td>3.0</td>\n",
              "      <td>4</td>\n",
              "      <td>6.5118</td>\n",
              "      <td>0</td>\n",
              "    </tr>\n",
              "  </tbody>\n",
              "</table>\n",
              "<p>4410 rows × 21 columns</p>\n",
              "</div>"
            ],
            "text/plain": [
              "      frecuencia_viajes            departamento  distancia_domicilio  \\\n",
              "0         Travel_Rarely                   Sales                    6   \n",
              "1     Travel_Frequently  Research & Development                   10   \n",
              "2     Travel_Frequently  Research & Development                   17   \n",
              "3            Non-Travel  Research & Development                    2   \n",
              "4         Travel_Rarely  Research & Development                   10   \n",
              "...                 ...                     ...                  ...   \n",
              "4405      Travel_Rarely  Research & Development                    5   \n",
              "4406      Travel_Rarely  Research & Development                    2   \n",
              "4407      Travel_Rarely  Research & Development                   25   \n",
              "4408      Travel_Rarely                   Sales                   18   \n",
              "4409      Travel_Rarely  Research & Development                   28   \n",
              "\n",
              "      educacion      formacion  nivel_de_cargo               nombre_cargo  \\\n",
              "0             2  Life Sciences               1  Healthcare Representative   \n",
              "1             1  Life Sciences               1         Research Scientist   \n",
              "2             4          Other               4            Sales Executive   \n",
              "3             5  Life Sciences               3            Human Resources   \n",
              "4             1        Medical               1            Sales Executive   \n",
              "...         ...            ...             ...                        ...   \n",
              "4405          4        Medical               1         Research Scientist   \n",
              "4406          4        Medical               1      Laboratory Technician   \n",
              "4407          2  Life Sciences               2            Sales Executive   \n",
              "4408          2        Medical               1      Laboratory Technician   \n",
              "4409          3        Medical               2      Laboratory Technician   \n",
              "\n",
              "     estado_civil  ingresos_mensuales  empresas_anteriores  ...  \\\n",
              "0         Married              131160                  1.0  ...   \n",
              "1          Single               41890                  0.0  ...   \n",
              "2         Married              193280                  1.0  ...   \n",
              "3         Married               83210                  3.0  ...   \n",
              "4          Single               23420                  4.0  ...   \n",
              "...           ...                 ...                  ...  ...   \n",
              "4405       Single               60290                  3.0  ...   \n",
              "4406     Divorced               26790                  2.0  ...   \n",
              "4407      Married               37020                  0.0  ...   \n",
              "4408     Divorced               23980                  0.0  ...   \n",
              "4409     Divorced               54680                  0.0  ...   \n",
              "\n",
              "      nivel_de_opciones  años_de_trabajo  numero_capacitaciones  \\\n",
              "0                     0              1.0                      6   \n",
              "1                     1              6.0                      3   \n",
              "2                     3              5.0                      2   \n",
              "3                     3             13.0                      5   \n",
              "4                     2              9.0                      2   \n",
              "...                 ...              ...                    ...   \n",
              "4405                  1             10.0                      5   \n",
              "4406                  0             10.0                      2   \n",
              "4407                  0              5.0                      4   \n",
              "4408                  1             10.0                      2   \n",
              "4409                  0             11.0                      6   \n",
              "\n",
              "     años_jefe_actual  satisfaccion_entorno  satisfaccion_laboral  \\\n",
              "0                   0                   3.0                   4.0   \n",
              "1                   4                   3.0                   2.0   \n",
              "2                   3                   2.0                   2.0   \n",
              "3                   5                   4.0                   4.0   \n",
              "4                   4                   4.0                   1.0   \n",
              "...               ...                   ...                   ...   \n",
              "4405                2                   4.0                   1.0   \n",
              "4406                2                   4.0                   4.0   \n",
              "4407                2                   1.0                   3.0   \n",
              "4408                8                   4.0                   1.0   \n",
              "4409                9                   1.0                   3.0   \n",
              "\n",
              "      conciliacion_faimilar_laboral  implicacion_laboral  tiempo_prom_dia  \\\n",
              "0                               2.0                    3           6.8702   \n",
              "1                               4.0                    2           7.3160   \n",
              "2                               1.0                    3           6.8161   \n",
              "3                               3.0                    2           6.7892   \n",
              "4                               3.0                    3           7.8776   \n",
              "...                             ...                  ...              ...   \n",
              "4405                            3.0                    3           8.3169   \n",
              "4406                            3.0                    2           5.8972   \n",
              "4407                            3.0                    3           7.1495   \n",
              "4408                            3.0                    2           9.1876   \n",
              "4409                            3.0                    4           6.5118   \n",
              "\n",
              "      desercion  \n",
              "0             0  \n",
              "1             1  \n",
              "2             0  \n",
              "3             0  \n",
              "4             0  \n",
              "...         ...  \n",
              "4405          0  \n",
              "4406          0  \n",
              "4407          0  \n",
              "4408          0  \n",
              "4409          0  \n",
              "\n",
              "[4410 rows x 21 columns]"
            ]
          },
          "execution_count": 9,
          "metadata": {},
          "output_type": "execute_result"
        }
      ],
      "source": [
        "tablabase[\"desercion\"]=tablabase['desercion_año_anterior'].replace({'No':0, 'Yes':1})\n",
        "del tablabase['desercion_año_anterior']\n",
        "tablabase"
      ]
    },
    {
      "cell_type": "markdown",
      "metadata": {},
      "source": [
        "Volviendo a dummies las variables categoricas predictoras"
      ]
    },
    {
      "cell_type": "code",
      "execution_count": 10,
      "metadata": {
        "id": "nKyVsIj84dgG",
        "outputId": "f0bead88-2185-49e1-cc39-39fadeb9a0af"
      },
      "outputs": [
        {
          "data": {
            "text/html": [
              "<div>\n",
              "<style scoped>\n",
              "    .dataframe tbody tr th:only-of-type {\n",
              "        vertical-align: middle;\n",
              "    }\n",
              "\n",
              "    .dataframe tbody tr th {\n",
              "        vertical-align: top;\n",
              "    }\n",
              "\n",
              "    .dataframe thead th {\n",
              "        text-align: right;\n",
              "    }\n",
              "</style>\n",
              "<table border=\"1\" class=\"dataframe\">\n",
              "  <thead>\n",
              "    <tr style=\"text-align: right;\">\n",
              "      <th></th>\n",
              "      <th>distancia_domicilio</th>\n",
              "      <th>educacion</th>\n",
              "      <th>nivel_de_cargo</th>\n",
              "      <th>ingresos_mensuales</th>\n",
              "      <th>empresas_anteriores</th>\n",
              "      <th>porcentaje_aumentosalario</th>\n",
              "      <th>nivel_de_opciones</th>\n",
              "      <th>años_de_trabajo</th>\n",
              "      <th>años_jefe_actual</th>\n",
              "      <th>satisfaccion_entorno</th>\n",
              "      <th>...</th>\n",
              "      <th>estado_civil_Divorced</th>\n",
              "      <th>estado_civil_Married</th>\n",
              "      <th>estado_civil_Single</th>\n",
              "      <th>numero_capacitaciones_0</th>\n",
              "      <th>numero_capacitaciones_1</th>\n",
              "      <th>numero_capacitaciones_2</th>\n",
              "      <th>numero_capacitaciones_3</th>\n",
              "      <th>numero_capacitaciones_4</th>\n",
              "      <th>numero_capacitaciones_5</th>\n",
              "      <th>numero_capacitaciones_6</th>\n",
              "    </tr>\n",
              "  </thead>\n",
              "  <tbody>\n",
              "    <tr>\n",
              "      <th>0</th>\n",
              "      <td>6</td>\n",
              "      <td>2</td>\n",
              "      <td>1</td>\n",
              "      <td>131160</td>\n",
              "      <td>1.0</td>\n",
              "      <td>11</td>\n",
              "      <td>0</td>\n",
              "      <td>1.0</td>\n",
              "      <td>0</td>\n",
              "      <td>3.0</td>\n",
              "      <td>...</td>\n",
              "      <td>0</td>\n",
              "      <td>1</td>\n",
              "      <td>0</td>\n",
              "      <td>0</td>\n",
              "      <td>0</td>\n",
              "      <td>0</td>\n",
              "      <td>0</td>\n",
              "      <td>0</td>\n",
              "      <td>0</td>\n",
              "      <td>1</td>\n",
              "    </tr>\n",
              "    <tr>\n",
              "      <th>1</th>\n",
              "      <td>10</td>\n",
              "      <td>1</td>\n",
              "      <td>1</td>\n",
              "      <td>41890</td>\n",
              "      <td>0.0</td>\n",
              "      <td>23</td>\n",
              "      <td>1</td>\n",
              "      <td>6.0</td>\n",
              "      <td>4</td>\n",
              "      <td>3.0</td>\n",
              "      <td>...</td>\n",
              "      <td>0</td>\n",
              "      <td>0</td>\n",
              "      <td>1</td>\n",
              "      <td>0</td>\n",
              "      <td>0</td>\n",
              "      <td>0</td>\n",
              "      <td>1</td>\n",
              "      <td>0</td>\n",
              "      <td>0</td>\n",
              "      <td>0</td>\n",
              "    </tr>\n",
              "    <tr>\n",
              "      <th>2</th>\n",
              "      <td>17</td>\n",
              "      <td>4</td>\n",
              "      <td>4</td>\n",
              "      <td>193280</td>\n",
              "      <td>1.0</td>\n",
              "      <td>15</td>\n",
              "      <td>3</td>\n",
              "      <td>5.0</td>\n",
              "      <td>3</td>\n",
              "      <td>2.0</td>\n",
              "      <td>...</td>\n",
              "      <td>0</td>\n",
              "      <td>1</td>\n",
              "      <td>0</td>\n",
              "      <td>0</td>\n",
              "      <td>0</td>\n",
              "      <td>1</td>\n",
              "      <td>0</td>\n",
              "      <td>0</td>\n",
              "      <td>0</td>\n",
              "      <td>0</td>\n",
              "    </tr>\n",
              "    <tr>\n",
              "      <th>3</th>\n",
              "      <td>2</td>\n",
              "      <td>5</td>\n",
              "      <td>3</td>\n",
              "      <td>83210</td>\n",
              "      <td>3.0</td>\n",
              "      <td>11</td>\n",
              "      <td>3</td>\n",
              "      <td>13.0</td>\n",
              "      <td>5</td>\n",
              "      <td>4.0</td>\n",
              "      <td>...</td>\n",
              "      <td>0</td>\n",
              "      <td>1</td>\n",
              "      <td>0</td>\n",
              "      <td>0</td>\n",
              "      <td>0</td>\n",
              "      <td>0</td>\n",
              "      <td>0</td>\n",
              "      <td>0</td>\n",
              "      <td>1</td>\n",
              "      <td>0</td>\n",
              "    </tr>\n",
              "    <tr>\n",
              "      <th>4</th>\n",
              "      <td>10</td>\n",
              "      <td>1</td>\n",
              "      <td>1</td>\n",
              "      <td>23420</td>\n",
              "      <td>4.0</td>\n",
              "      <td>12</td>\n",
              "      <td>2</td>\n",
              "      <td>9.0</td>\n",
              "      <td>4</td>\n",
              "      <td>4.0</td>\n",
              "      <td>...</td>\n",
              "      <td>0</td>\n",
              "      <td>0</td>\n",
              "      <td>1</td>\n",
              "      <td>0</td>\n",
              "      <td>0</td>\n",
              "      <td>1</td>\n",
              "      <td>0</td>\n",
              "      <td>0</td>\n",
              "      <td>0</td>\n",
              "      <td>0</td>\n",
              "    </tr>\n",
              "    <tr>\n",
              "      <th>...</th>\n",
              "      <td>...</td>\n",
              "      <td>...</td>\n",
              "      <td>...</td>\n",
              "      <td>...</td>\n",
              "      <td>...</td>\n",
              "      <td>...</td>\n",
              "      <td>...</td>\n",
              "      <td>...</td>\n",
              "      <td>...</td>\n",
              "      <td>...</td>\n",
              "      <td>...</td>\n",
              "      <td>...</td>\n",
              "      <td>...</td>\n",
              "      <td>...</td>\n",
              "      <td>...</td>\n",
              "      <td>...</td>\n",
              "      <td>...</td>\n",
              "      <td>...</td>\n",
              "      <td>...</td>\n",
              "      <td>...</td>\n",
              "      <td>...</td>\n",
              "    </tr>\n",
              "    <tr>\n",
              "      <th>4405</th>\n",
              "      <td>5</td>\n",
              "      <td>4</td>\n",
              "      <td>1</td>\n",
              "      <td>60290</td>\n",
              "      <td>3.0</td>\n",
              "      <td>17</td>\n",
              "      <td>1</td>\n",
              "      <td>10.0</td>\n",
              "      <td>2</td>\n",
              "      <td>4.0</td>\n",
              "      <td>...</td>\n",
              "      <td>0</td>\n",
              "      <td>0</td>\n",
              "      <td>1</td>\n",
              "      <td>0</td>\n",
              "      <td>0</td>\n",
              "      <td>0</td>\n",
              "      <td>0</td>\n",
              "      <td>0</td>\n",
              "      <td>1</td>\n",
              "      <td>0</td>\n",
              "    </tr>\n",
              "    <tr>\n",
              "      <th>4406</th>\n",
              "      <td>2</td>\n",
              "      <td>4</td>\n",
              "      <td>1</td>\n",
              "      <td>26790</td>\n",
              "      <td>2.0</td>\n",
              "      <td>15</td>\n",
              "      <td>0</td>\n",
              "      <td>10.0</td>\n",
              "      <td>2</td>\n",
              "      <td>4.0</td>\n",
              "      <td>...</td>\n",
              "      <td>1</td>\n",
              "      <td>0</td>\n",
              "      <td>0</td>\n",
              "      <td>0</td>\n",
              "      <td>0</td>\n",
              "      <td>1</td>\n",
              "      <td>0</td>\n",
              "      <td>0</td>\n",
              "      <td>0</td>\n",
              "      <td>0</td>\n",
              "    </tr>\n",
              "    <tr>\n",
              "      <th>4407</th>\n",
              "      <td>25</td>\n",
              "      <td>2</td>\n",
              "      <td>2</td>\n",
              "      <td>37020</td>\n",
              "      <td>0.0</td>\n",
              "      <td>20</td>\n",
              "      <td>0</td>\n",
              "      <td>5.0</td>\n",
              "      <td>2</td>\n",
              "      <td>1.0</td>\n",
              "      <td>...</td>\n",
              "      <td>0</td>\n",
              "      <td>1</td>\n",
              "      <td>0</td>\n",
              "      <td>0</td>\n",
              "      <td>0</td>\n",
              "      <td>0</td>\n",
              "      <td>0</td>\n",
              "      <td>1</td>\n",
              "      <td>0</td>\n",
              "      <td>0</td>\n",
              "    </tr>\n",
              "    <tr>\n",
              "      <th>4408</th>\n",
              "      <td>18</td>\n",
              "      <td>2</td>\n",
              "      <td>1</td>\n",
              "      <td>23980</td>\n",
              "      <td>0.0</td>\n",
              "      <td>14</td>\n",
              "      <td>1</td>\n",
              "      <td>10.0</td>\n",
              "      <td>8</td>\n",
              "      <td>4.0</td>\n",
              "      <td>...</td>\n",
              "      <td>1</td>\n",
              "      <td>0</td>\n",
              "      <td>0</td>\n",
              "      <td>0</td>\n",
              "      <td>0</td>\n",
              "      <td>1</td>\n",
              "      <td>0</td>\n",
              "      <td>0</td>\n",
              "      <td>0</td>\n",
              "      <td>0</td>\n",
              "    </tr>\n",
              "    <tr>\n",
              "      <th>4409</th>\n",
              "      <td>28</td>\n",
              "      <td>3</td>\n",
              "      <td>2</td>\n",
              "      <td>54680</td>\n",
              "      <td>0.0</td>\n",
              "      <td>12</td>\n",
              "      <td>0</td>\n",
              "      <td>11.0</td>\n",
              "      <td>9</td>\n",
              "      <td>1.0</td>\n",
              "      <td>...</td>\n",
              "      <td>1</td>\n",
              "      <td>0</td>\n",
              "      <td>0</td>\n",
              "      <td>0</td>\n",
              "      <td>0</td>\n",
              "      <td>0</td>\n",
              "      <td>0</td>\n",
              "      <td>0</td>\n",
              "      <td>0</td>\n",
              "      <td>1</td>\n",
              "    </tr>\n",
              "  </tbody>\n",
              "</table>\n",
              "<p>4410 rows × 46 columns</p>\n",
              "</div>"
            ],
            "text/plain": [
              "      distancia_domicilio  educacion  nivel_de_cargo  ingresos_mensuales  \\\n",
              "0                       6          2               1              131160   \n",
              "1                      10          1               1               41890   \n",
              "2                      17          4               4              193280   \n",
              "3                       2          5               3               83210   \n",
              "4                      10          1               1               23420   \n",
              "...                   ...        ...             ...                 ...   \n",
              "4405                    5          4               1               60290   \n",
              "4406                    2          4               1               26790   \n",
              "4407                   25          2               2               37020   \n",
              "4408                   18          2               1               23980   \n",
              "4409                   28          3               2               54680   \n",
              "\n",
              "      empresas_anteriores  porcentaje_aumentosalario  nivel_de_opciones  \\\n",
              "0                     1.0                         11                  0   \n",
              "1                     0.0                         23                  1   \n",
              "2                     1.0                         15                  3   \n",
              "3                     3.0                         11                  3   \n",
              "4                     4.0                         12                  2   \n",
              "...                   ...                        ...                ...   \n",
              "4405                  3.0                         17                  1   \n",
              "4406                  2.0                         15                  0   \n",
              "4407                  0.0                         20                  0   \n",
              "4408                  0.0                         14                  1   \n",
              "4409                  0.0                         12                  0   \n",
              "\n",
              "      años_de_trabajo  años_jefe_actual  satisfaccion_entorno  ...  \\\n",
              "0                 1.0                 0                   3.0  ...   \n",
              "1                 6.0                 4                   3.0  ...   \n",
              "2                 5.0                 3                   2.0  ...   \n",
              "3                13.0                 5                   4.0  ...   \n",
              "4                 9.0                 4                   4.0  ...   \n",
              "...               ...               ...                   ...  ...   \n",
              "4405             10.0                 2                   4.0  ...   \n",
              "4406             10.0                 2                   4.0  ...   \n",
              "4407              5.0                 2                   1.0  ...   \n",
              "4408             10.0                 8                   4.0  ...   \n",
              "4409             11.0                 9                   1.0  ...   \n",
              "\n",
              "      estado_civil_Divorced  estado_civil_Married  estado_civil_Single  \\\n",
              "0                         0                     1                    0   \n",
              "1                         0                     0                    1   \n",
              "2                         0                     1                    0   \n",
              "3                         0                     1                    0   \n",
              "4                         0                     0                    1   \n",
              "...                     ...                   ...                  ...   \n",
              "4405                      0                     0                    1   \n",
              "4406                      1                     0                    0   \n",
              "4407                      0                     1                    0   \n",
              "4408                      1                     0                    0   \n",
              "4409                      1                     0                    0   \n",
              "\n",
              "      numero_capacitaciones_0  numero_capacitaciones_1  \\\n",
              "0                           0                        0   \n",
              "1                           0                        0   \n",
              "2                           0                        0   \n",
              "3                           0                        0   \n",
              "4                           0                        0   \n",
              "...                       ...                      ...   \n",
              "4405                        0                        0   \n",
              "4406                        0                        0   \n",
              "4407                        0                        0   \n",
              "4408                        0                        0   \n",
              "4409                        0                        0   \n",
              "\n",
              "      numero_capacitaciones_2  numero_capacitaciones_3  \\\n",
              "0                           0                        0   \n",
              "1                           0                        1   \n",
              "2                           1                        0   \n",
              "3                           0                        0   \n",
              "4                           1                        0   \n",
              "...                       ...                      ...   \n",
              "4405                        0                        0   \n",
              "4406                        1                        0   \n",
              "4407                        0                        0   \n",
              "4408                        1                        0   \n",
              "4409                        0                        0   \n",
              "\n",
              "      numero_capacitaciones_4  numero_capacitaciones_5  \\\n",
              "0                           0                        0   \n",
              "1                           0                        0   \n",
              "2                           0                        0   \n",
              "3                           0                        1   \n",
              "4                           0                        0   \n",
              "...                       ...                      ...   \n",
              "4405                        0                        1   \n",
              "4406                        0                        0   \n",
              "4407                        1                        0   \n",
              "4408                        0                        0   \n",
              "4409                        0                        0   \n",
              "\n",
              "      numero_capacitaciones_6  \n",
              "0                           1  \n",
              "1                           0  \n",
              "2                           0  \n",
              "3                           0  \n",
              "4                           0  \n",
              "...                       ...  \n",
              "4405                        0  \n",
              "4406                        0  \n",
              "4407                        0  \n",
              "4408                        0  \n",
              "4409                        1  \n",
              "\n",
              "[4410 rows x 46 columns]"
            ]
          },
          "execution_count": 10,
          "metadata": {},
          "output_type": "execute_result"
        }
      ],
      "source": [
        "tablabase1=pd.get_dummies(tablabase)\n",
        "tablabase1"
      ]
    },
    {
      "cell_type": "markdown",
      "metadata": {},
      "source": [
        "Separacion de datos, cambio de variables numericas tipo int a float y escalado de variables numericas"
      ]
    },
    {
      "cell_type": "code",
      "execution_count": 11,
      "metadata": {
        "id": "oAcX6NCn4dgK"
      },
      "outputs": [],
      "source": [
        "y=tablabase1[\"desercion\"]\n",
        "x=tablabase1.drop([\"desercion\"],axis=1)\n",
        "\n",
        "X_train, X_test, y_train, y_test = train_test_split(x, y, test_size=0.2)\n",
        "\n",
        "columnasenteras=[\"distancia_domicilio\",\"educacion\",\"nivel_de_cargo\",\"ingresos_mensuales\",\"porcentaje_aumentosalario\",\"nivel_de_opciones\",\"años_jefe_actual\",\"implicacion_laboral\"]\n",
        "tablabase1[columnasenteras]=tablabase1[columnasenteras].astype(float)\n",
        "columnasfloat=list(tablabase1.select_dtypes(\"float64\").columns)\n",
        "pipeline=ColumnTransformer([(\"num\", StandardScaler(),columnasfloat)],remainder='passthrough')\n",
        "\n",
        "X_train_std = pipeline.fit_transform(X_train)\n",
        "X_test_std = pipeline.transform(X_test)"
      ]
    },
    {
      "cell_type": "markdown",
      "metadata": {},
      "source": [
        "# Modelo base"
      ]
    },
    {
      "cell_type": "markdown",
      "metadata": {},
      "source": [
        "## Modelo base sin balanceo de clases"
      ]
    },
    {
      "cell_type": "markdown",
      "metadata": {},
      "source": [
        "Construccion del modelo y exactitud en el entrenamiento"
      ]
    },
    {
      "cell_type": "code",
      "execution_count": 12,
      "metadata": {},
      "outputs": [
        {
          "name": "stdout",
          "output_type": "stream",
          "text": [
            "Exactitud en el entrenamiento: 0.865\n"
          ]
        }
      ],
      "source": [
        "# Entrenamiento del modelo\n",
        "modelo = LogisticRegression()\n",
        "# Ajustar el modelo a los datos\n",
        "modelo.fit(X_train_std, y_train)\n",
        "# Desempeño en el entrenamiento\n",
        "y_train_pred = modelo.predict(X_train_std)\n",
        "print('Exactitud en el entrenamiento: %.3f'  %accuracy_score(y_train, y_train_pred))"
      ]
    },
    {
      "cell_type": "markdown",
      "metadata": {},
      "source": [
        " Exactitud en la validación"
      ]
    },
    {
      "cell_type": "code",
      "execution_count": 13,
      "metadata": {},
      "outputs": [
        {
          "name": "stdout",
          "output_type": "stream",
          "text": [
            "Exactitud en la validacion: 0.875\n"
          ]
        }
      ],
      "source": [
        "y_pred = modelo.predict(X_test_std)\n",
        "# Exactitud en el conjunto de validación\n",
        "print('Exactitud en la validacion: %.3f'  %accuracy_score(y_test, y_pred))"
      ]
    },
    {
      "cell_type": "markdown",
      "metadata": {},
      "source": [
        "Matriz de confusión"
      ]
    },
    {
      "cell_type": "code",
      "execution_count": 14,
      "metadata": {},
      "outputs": [
        {
          "data": {
            "image/png": "[encoded data removed]",
            "text/plain": [
              "<Figure size 640x480 with 2 Axes>"
            ]
          },
          "metadata": {},
          "output_type": "display_data"
        }
      ],
      "source": [
        "matriz= confusion_matrix(y_test, y_pred)\n",
        "matriz_display = ConfusionMatrixDisplay(confusion_matrix=matriz, display_labels=['No renuncia', 'renuncia'])\n",
        "matriz_display.plot()\n",
        "plt.show()"
      ]
    },
    {
      "cell_type": "markdown",
      "metadata": {},
      "source": [
        "Metricas de desempeño"
      ]
    },
    {
      "cell_type": "code",
      "execution_count": 15,
      "metadata": {},
      "outputs": [
        {
          "name": "stdout",
          "output_type": "stream",
          "text": [
            "Precision: 0.8\n",
            "Recall: 0.26277372262773724\n",
            "Especificidad: 0.9879194630872483\n",
            "F1 score: 0.3956043956043957\n"
          ]
        }
      ],
      "source": [
        "tn, fp, fn, tp = matriz.ravel()\n",
        "\n",
        "precision = tp / (tp + fp)\n",
        "recall = tp / (tp + fn)\n",
        "especificidad = tn / (fp + tn)\n",
        "f1_score = 2*(precision*recall)/(precision+recall)\n",
        "\n",
        "print(f'Precision: {precision}')\n",
        "print(f'Recall: {recall}')\n",
        "print(f'Especificidad: {especificidad}')\n",
        "print(f'F1 score: {f1_score}')"
      ]
    },
    {
      "cell_type": "markdown",
      "metadata": {},
      "source": [
        "La exactitud del modelo es 87%, sin embargo esta medida es mentirosa ya que las clases estan desbalanaceadas, es decir que el modelo entiende muy bien de cuando no renuncia un empleado.\n",
        "Precision: El 80% de los predichos a desertar realmente lo haran.\n",
        "Recall: este modelo es capaz de identificar solo el 26% de los empleados que realmente van a renunciar.\n",
        "Por lo tanto se utilizara el mismo modelo con el hiperparametro class_weight para balancear las clases."
      ]
    },
    {
      "cell_type": "markdown",
      "metadata": {},
      "source": [
        "## Modelo base con balaceno de clases"
      ]
    },
    {
      "cell_type": "markdown",
      "metadata": {},
      "source": [
        "Construccion del modelo y exactitud en el entrenamiento"
      ]
    },
    {
      "cell_type": "code",
      "execution_count": 17,
      "metadata": {},
      "outputs": [
        {
          "name": "stdout",
          "output_type": "stream",
          "text": [
            "Exactitud en el entrenamiento: 0.746\n"
          ]
        }
      ],
      "source": [
        "from sklearn.metrics import accuracy_score\n",
        "X_train_std1=X_train_std.copy()\n",
        "X_test_std1=X_test_std.copy()\n",
        "# Entrenamiento del modelo\n",
        "modelo1 = LogisticRegression(class_weight=\"balanced\",random_state=142)\n",
        "\n",
        "# Ajustar el modelo a los datos\n",
        "modelo1.fit(X_train_std1, y_train)\n",
        "\n",
        "# Desempeño en el entrenamiento\n",
        "y_train_pred1 = modelo1.predict(X_train_std1)\n",
        "\n",
        "print('Exactitud en el entrenamiento: %.3f'  %accuracy_score(y_train, y_train_pred1) )"
      ]
    },
    {
      "cell_type": "markdown",
      "metadata": {},
      "source": [
        " Exactitud en el validacion"
      ]
    },
    {
      "cell_type": "code",
      "execution_count": 18,
      "metadata": {},
      "outputs": [
        {
          "name": "stdout",
          "output_type": "stream",
          "text": [
            "Exactitud en el validacion: 0.727\n"
          ]
        }
      ],
      "source": [
        "y_pred1 = modelo1.predict(X_test_std1)\n",
        "\n",
        "# Exactitud en el conjunto de validación\n",
        "print('Exactitud en el validacion: %.3f'  %accuracy_score(y_test, y_pred1))"
      ]
    },
    {
      "cell_type": "markdown",
      "metadata": {},
      "source": [
        " Matriz de confusión"
      ]
    },
    {
      "cell_type": "code",
      "execution_count": 19,
      "metadata": {},
      "outputs": [
        {
          "data": {
            "image/png": "[encoded data removed]",
            "text/plain": [
              "<Figure size 640x480 with 2 Axes>"
            ]
          },
          "metadata": {},
          "output_type": "display_data"
        }
      ],
      "source": [
        "from sklearn.metrics import confusion_matrix, ConfusionMatrixDisplay\n",
        "matriz1= confusion_matrix(y_test, y_pred1)\n",
        "matriz_display1 = ConfusionMatrixDisplay(confusion_matrix=matriz1, display_labels=['No renuncia', 'renuncia'])\n",
        "matriz_display1.plot()\n",
        "plt.show()"
      ]
    },
    {
      "cell_type": "markdown",
      "metadata": {},
      "source": [
        "Metricas de desempeño"
      ]
    },
    {
      "cell_type": "code",
      "execution_count": 20,
      "metadata": {},
      "outputs": [
        {
          "name": "stdout",
          "output_type": "stream",
          "text": [
            "Precision: 0.32781456953642385\n",
            "Recall: 0.7226277372262774\n",
            "Especificidad: 0.72751677852349\n",
            "F1 score: 0.45102505694760814\n"
          ]
        }
      ],
      "source": [
        "tn, fp, fn, tp = matriz1.ravel()\n",
        "\n",
        "precision = tp / (tp + fp)\n",
        "recall = tp / (tp + fn)\n",
        "especificidad = tn / (fp + tn)\n",
        "f1_score = 2*(precision*recall)/(precision+recall)\n",
        "\n",
        "print(f'Precision: {precision}')\n",
        "print(f'Recall: {recall}')\n",
        "print(f'Especificidad: {especificidad}')\n",
        "print(f'F1 score: {f1_score}')"
      ]
    },
    {
      "cell_type": "markdown",
      "metadata": {},
      "source": [
        "La exactitud del modelo es de 72%, de esta forma se comprueba que esta medida es mentirosa cuando las clases estan desbalanceadas, al igualar las clases al modelo se le dificulta predecir correctamente las clases.\n",
        "Precision: El 32% de los empleados predichos a desertar realmente lo haran, se evidencia una metrica muy baja, es decir que el modelo se equivoca en un 68% de las veces prediciendo si deserta o no.\n",
        "Recall: este modelo es capaz de identificar 72% de los empleados que realmente van a renunciar, mejorando esta metrica obtenida anteriormente."
      ]
    },
    {
      "cell_type": "markdown",
      "metadata": {},
      "source": [
        "# Balanceo de clases manual"
      ]
    },
    {
      "cell_type": "markdown",
      "metadata": {},
      "source": [
        "funcion smotetomek para el balanceo de clases"
      ]
    },
    {
      "cell_type": "code",
      "execution_count": 21,
      "metadata": {},
      "outputs": [
        {
          "name": "stdout",
          "output_type": "stream",
          "text": [
            "Distribution before resampling Counter({0: 2964, 1: 564})\n",
            "Distribution after resampling Counter({0: 2964, 1: 2964})\n"
          ]
        }
      ],
      "source": [
        "os_us = SMOTETomek()\n",
        "x_train_res, y_train_res = os_us.fit_resample(X_train_std, y_train)\n",
        "\n",
        "print (\"Distribution before resampling {}\".format(Counter(y_train)))\n",
        "print (\"Distribution after resampling {}\".format(Counter(y_train_res)))"
      ]
    },
    {
      "cell_type": "markdown",
      "metadata": {},
      "source": [
        "las clases se igualan en 2964 rsgistros, estos datos se utlizaran en un modelo de regresin logistica para realizar comparacines y ademas en el modelo gradient boosting, ya que este ultimo modelo no tiene hiperparametros para balancear las clases."
      ]
    },
    {
      "cell_type": "markdown",
      "metadata": {
        "id": "E7b76cCbBbtD"
      },
      "source": [
        "# Seleccion de variables\n"
      ]
    },
    {
      "cell_type": "markdown",
      "metadata": {},
      "source": [
        "## Metodo integrado "
      ]
    },
    {
      "cell_type": "code",
      "execution_count": 13,
      "metadata": {},
      "outputs": [],
      "source": [
        "from sklearn.feature_selection import SelectKBest, f_regression, mutual_info_regression,  f_classif, mutual_info_classif, chi2"
      ]
    },
    {
      "cell_type": "code",
      "execution_count": 14,
      "metadata": {},
      "outputs": [],
      "source": [
        "from sklearn.feature_selection import SelectFromModel\n",
        "from sklearn.linear_model import Lasso, Ridge"
      ]
    },
    {
      "cell_type": "markdown",
      "metadata": {},
      "source": [
        "Seleccion de variables a partir del estimador lasso, recordemos que se puede utilizar otro estimador"
      ]
    },
    {
      "cell_type": "code",
      "execution_count": 35,
      "metadata": {},
      "outputs": [
        {
          "name": "stdout",
          "output_type": "stream",
          "text": [
            "[-2.90276233e-03 -9.12014525e-03 -1.29389353e-02 -9.01175817e-03\n",
            "  3.08640006e-02  6.90255138e-03 -8.37903417e-04 -5.75542303e-02\n",
            " -2.35738771e-02 -4.42205112e-02 -4.37637142e-02 -2.69305095e-02\n",
            " -6.02194014e-03  7.08091124e-02 -5.60045656e-02  7.91914584e-02\n",
            " -0.00000000e+00  5.42803099e-02 -0.00000000e+00 -5.44611890e-03\n",
            "  9.69618253e-02  2.66073719e-02 -4.08794449e-05  5.34849606e-03\n",
            " -1.17393152e-02 -1.60234187e-02 -0.00000000e+00  0.00000000e+00\n",
            "  0.00000000e+00 -1.55257612e-02 -4.54824255e-02  5.68093198e-02\n",
            "  1.18051043e-02  9.11330196e-03 -1.72144473e-02 -1.75204275e-02\n",
            " -0.00000000e+00  1.14295646e-01  0.00000000e+00 -0.00000000e+00\n",
            "  3.26894614e-02  3.41724543e-02 -0.00000000e+00 -2.05769343e-02\n",
            " -5.39772459e-02]\n"
          ]
        },
        {
          "data": {
            "text/html": [
              "<div>\n",
              "<style scoped>\n",
              "    .dataframe tbody tr th:only-of-type {\n",
              "        vertical-align: middle;\n",
              "    }\n",
              "\n",
              "    .dataframe tbody tr th {\n",
              "        vertical-align: top;\n",
              "    }\n",
              "\n",
              "    .dataframe thead th {\n",
              "        text-align: right;\n",
              "    }\n",
              "</style>\n",
              "<table border=\"1\" class=\"dataframe\">\n",
              "  <thead>\n",
              "    <tr style=\"text-align: right;\">\n",
              "      <th></th>\n",
              "      <th>educacion</th>\n",
              "      <th>nivel_de_cargo</th>\n",
              "      <th>ingresos_mensuales</th>\n",
              "      <th>empresas_anteriores</th>\n",
              "      <th>porcentaje_aumentosalario</th>\n",
              "      <th>años_de_trabajo</th>\n",
              "      <th>años_jefe_actual</th>\n",
              "      <th>satisfaccion_entorno</th>\n",
              "      <th>satisfaccion_laboral</th>\n",
              "      <th>conciliacion_faimilar_laboral</th>\n",
              "      <th>...</th>\n",
              "      <th>nombre_cargo_Research Director</th>\n",
              "      <th>nombre_cargo_Research Scientist</th>\n",
              "      <th>nombre_cargo_Sales Executive</th>\n",
              "      <th>nombre_cargo_Sales Representative</th>\n",
              "      <th>estado_civil_Divorced</th>\n",
              "      <th>estado_civil_Single</th>\n",
              "      <th>numero_capacitaciones_2</th>\n",
              "      <th>numero_capacitaciones_3</th>\n",
              "      <th>numero_capacitaciones_5</th>\n",
              "      <th>numero_capacitaciones_6</th>\n",
              "    </tr>\n",
              "  </thead>\n",
              "  <tbody>\n",
              "    <tr>\n",
              "      <th>2675</th>\n",
              "      <td>4</td>\n",
              "      <td>4</td>\n",
              "      <td>147320</td>\n",
              "      <td>0.0</td>\n",
              "      <td>12</td>\n",
              "      <td>10.0</td>\n",
              "      <td>7</td>\n",
              "      <td>2.0</td>\n",
              "      <td>1.0</td>\n",
              "      <td>3.0</td>\n",
              "      <td>...</td>\n",
              "      <td>0</td>\n",
              "      <td>0</td>\n",
              "      <td>1</td>\n",
              "      <td>0</td>\n",
              "      <td>0</td>\n",
              "      <td>1</td>\n",
              "      <td>0</td>\n",
              "      <td>1</td>\n",
              "      <td>0</td>\n",
              "      <td>0</td>\n",
              "    </tr>\n",
              "    <tr>\n",
              "      <th>4325</th>\n",
              "      <td>3</td>\n",
              "      <td>1</td>\n",
              "      <td>54700</td>\n",
              "      <td>1.0</td>\n",
              "      <td>18</td>\n",
              "      <td>12.0</td>\n",
              "      <td>10</td>\n",
              "      <td>3.0</td>\n",
              "      <td>1.0</td>\n",
              "      <td>3.0</td>\n",
              "      <td>...</td>\n",
              "      <td>0</td>\n",
              "      <td>0</td>\n",
              "      <td>1</td>\n",
              "      <td>0</td>\n",
              "      <td>1</td>\n",
              "      <td>0</td>\n",
              "      <td>1</td>\n",
              "      <td>0</td>\n",
              "      <td>0</td>\n",
              "      <td>0</td>\n",
              "    </tr>\n",
              "    <tr>\n",
              "      <th>1189</th>\n",
              "      <td>1</td>\n",
              "      <td>1</td>\n",
              "      <td>132470</td>\n",
              "      <td>1.0</td>\n",
              "      <td>14</td>\n",
              "      <td>15.0</td>\n",
              "      <td>11</td>\n",
              "      <td>4.0</td>\n",
              "      <td>4.0</td>\n",
              "      <td>2.0</td>\n",
              "      <td>...</td>\n",
              "      <td>0</td>\n",
              "      <td>0</td>\n",
              "      <td>0</td>\n",
              "      <td>0</td>\n",
              "      <td>1</td>\n",
              "      <td>0</td>\n",
              "      <td>0</td>\n",
              "      <td>1</td>\n",
              "      <td>0</td>\n",
              "      <td>0</td>\n",
              "    </tr>\n",
              "    <tr>\n",
              "      <th>3210</th>\n",
              "      <td>2</td>\n",
              "      <td>4</td>\n",
              "      <td>44240</td>\n",
              "      <td>3.0</td>\n",
              "      <td>14</td>\n",
              "      <td>18.0</td>\n",
              "      <td>3</td>\n",
              "      <td>2.0</td>\n",
              "      <td>3.0</td>\n",
              "      <td>3.0</td>\n",
              "      <td>...</td>\n",
              "      <td>0</td>\n",
              "      <td>0</td>\n",
              "      <td>0</td>\n",
              "      <td>1</td>\n",
              "      <td>0</td>\n",
              "      <td>0</td>\n",
              "      <td>1</td>\n",
              "      <td>0</td>\n",
              "      <td>0</td>\n",
              "      <td>0</td>\n",
              "    </tr>\n",
              "    <tr>\n",
              "      <th>557</th>\n",
              "      <td>4</td>\n",
              "      <td>1</td>\n",
              "      <td>26100</td>\n",
              "      <td>1.0</td>\n",
              "      <td>11</td>\n",
              "      <td>2.0</td>\n",
              "      <td>2</td>\n",
              "      <td>4.0</td>\n",
              "      <td>2.0</td>\n",
              "      <td>4.0</td>\n",
              "      <td>...</td>\n",
              "      <td>0</td>\n",
              "      <td>1</td>\n",
              "      <td>0</td>\n",
              "      <td>0</td>\n",
              "      <td>0</td>\n",
              "      <td>1</td>\n",
              "      <td>0</td>\n",
              "      <td>1</td>\n",
              "      <td>0</td>\n",
              "      <td>0</td>\n",
              "    </tr>\n",
              "    <tr>\n",
              "      <th>...</th>\n",
              "      <td>...</td>\n",
              "      <td>...</td>\n",
              "      <td>...</td>\n",
              "      <td>...</td>\n",
              "      <td>...</td>\n",
              "      <td>...</td>\n",
              "      <td>...</td>\n",
              "      <td>...</td>\n",
              "      <td>...</td>\n",
              "      <td>...</td>\n",
              "      <td>...</td>\n",
              "      <td>...</td>\n",
              "      <td>...</td>\n",
              "      <td>...</td>\n",
              "      <td>...</td>\n",
              "      <td>...</td>\n",
              "      <td>...</td>\n",
              "      <td>...</td>\n",
              "      <td>...</td>\n",
              "      <td>...</td>\n",
              "      <td>...</td>\n",
              "    </tr>\n",
              "    <tr>\n",
              "      <th>990</th>\n",
              "      <td>3</td>\n",
              "      <td>1</td>\n",
              "      <td>66940</td>\n",
              "      <td>1.0</td>\n",
              "      <td>13</td>\n",
              "      <td>6.0</td>\n",
              "      <td>4</td>\n",
              "      <td>3.0</td>\n",
              "      <td>4.0</td>\n",
              "      <td>2.0</td>\n",
              "      <td>...</td>\n",
              "      <td>0</td>\n",
              "      <td>0</td>\n",
              "      <td>0</td>\n",
              "      <td>0</td>\n",
              "      <td>0</td>\n",
              "      <td>1</td>\n",
              "      <td>1</td>\n",
              "      <td>0</td>\n",
              "      <td>0</td>\n",
              "      <td>0</td>\n",
              "    </tr>\n",
              "    <tr>\n",
              "      <th>3364</th>\n",
              "      <td>3</td>\n",
              "      <td>1</td>\n",
              "      <td>23890</td>\n",
              "      <td>6.0</td>\n",
              "      <td>12</td>\n",
              "      <td>5.0</td>\n",
              "      <td>2</td>\n",
              "      <td>3.0</td>\n",
              "      <td>2.0</td>\n",
              "      <td>3.0</td>\n",
              "      <td>...</td>\n",
              "      <td>0</td>\n",
              "      <td>0</td>\n",
              "      <td>0</td>\n",
              "      <td>0</td>\n",
              "      <td>0</td>\n",
              "      <td>0</td>\n",
              "      <td>0</td>\n",
              "      <td>0</td>\n",
              "      <td>0</td>\n",
              "      <td>0</td>\n",
              "    </tr>\n",
              "    <tr>\n",
              "      <th>4185</th>\n",
              "      <td>4</td>\n",
              "      <td>1</td>\n",
              "      <td>36730</td>\n",
              "      <td>3.0</td>\n",
              "      <td>14</td>\n",
              "      <td>19.0</td>\n",
              "      <td>0</td>\n",
              "      <td>4.0</td>\n",
              "      <td>4.0</td>\n",
              "      <td>4.0</td>\n",
              "      <td>...</td>\n",
              "      <td>0</td>\n",
              "      <td>0</td>\n",
              "      <td>1</td>\n",
              "      <td>0</td>\n",
              "      <td>0</td>\n",
              "      <td>0</td>\n",
              "      <td>0</td>\n",
              "      <td>1</td>\n",
              "      <td>0</td>\n",
              "      <td>0</td>\n",
              "    </tr>\n",
              "    <tr>\n",
              "      <th>4358</th>\n",
              "      <td>3</td>\n",
              "      <td>4</td>\n",
              "      <td>129360</td>\n",
              "      <td>1.0</td>\n",
              "      <td>11</td>\n",
              "      <td>4.0</td>\n",
              "      <td>2</td>\n",
              "      <td>4.0</td>\n",
              "      <td>2.0</td>\n",
              "      <td>2.0</td>\n",
              "      <td>...</td>\n",
              "      <td>0</td>\n",
              "      <td>0</td>\n",
              "      <td>0</td>\n",
              "      <td>0</td>\n",
              "      <td>1</td>\n",
              "      <td>0</td>\n",
              "      <td>0</td>\n",
              "      <td>1</td>\n",
              "      <td>0</td>\n",
              "      <td>0</td>\n",
              "    </tr>\n",
              "    <tr>\n",
              "      <th>3344</th>\n",
              "      <td>3</td>\n",
              "      <td>2</td>\n",
              "      <td>93960</td>\n",
              "      <td>1.0</td>\n",
              "      <td>12</td>\n",
              "      <td>2.0</td>\n",
              "      <td>2</td>\n",
              "      <td>3.0</td>\n",
              "      <td>3.0</td>\n",
              "      <td>2.0</td>\n",
              "      <td>...</td>\n",
              "      <td>0</td>\n",
              "      <td>0</td>\n",
              "      <td>1</td>\n",
              "      <td>0</td>\n",
              "      <td>0</td>\n",
              "      <td>1</td>\n",
              "      <td>0</td>\n",
              "      <td>0</td>\n",
              "      <td>0</td>\n",
              "      <td>1</td>\n",
              "    </tr>\n",
              "  </tbody>\n",
              "</table>\n",
              "<p>3528 rows × 30 columns</p>\n",
              "</div>"
            ],
            "text/plain": [
              "      educacion  nivel_de_cargo  ingresos_mensuales  empresas_anteriores  \\\n",
              "2675          4               4              147320                  0.0   \n",
              "4325          3               1               54700                  1.0   \n",
              "1189          1               1              132470                  1.0   \n",
              "3210          2               4               44240                  3.0   \n",
              "557           4               1               26100                  1.0   \n",
              "...         ...             ...                 ...                  ...   \n",
              "990           3               1               66940                  1.0   \n",
              "3364          3               1               23890                  6.0   \n",
              "4185          4               1               36730                  3.0   \n",
              "4358          3               4              129360                  1.0   \n",
              "3344          3               2               93960                  1.0   \n",
              "\n",
              "      porcentaje_aumentosalario  años_de_trabajo  años_jefe_actual  \\\n",
              "2675                         12             10.0                 7   \n",
              "4325                         18             12.0                10   \n",
              "1189                         14             15.0                11   \n",
              "3210                         14             18.0                 3   \n",
              "557                          11              2.0                 2   \n",
              "...                         ...              ...               ...   \n",
              "990                          13              6.0                 4   \n",
              "3364                         12              5.0                 2   \n",
              "4185                         14             19.0                 0   \n",
              "4358                         11              4.0                 2   \n",
              "3344                         12              2.0                 2   \n",
              "\n",
              "      satisfaccion_entorno  satisfaccion_laboral  \\\n",
              "2675                   2.0                   1.0   \n",
              "4325                   3.0                   1.0   \n",
              "1189                   4.0                   4.0   \n",
              "3210                   2.0                   3.0   \n",
              "557                    4.0                   2.0   \n",
              "...                    ...                   ...   \n",
              "990                    3.0                   4.0   \n",
              "3364                   3.0                   2.0   \n",
              "4185                   4.0                   4.0   \n",
              "4358                   4.0                   2.0   \n",
              "3344                   3.0                   3.0   \n",
              "\n",
              "      conciliacion_faimilar_laboral  ...  nombre_cargo_Research Director  \\\n",
              "2675                            3.0  ...                               0   \n",
              "4325                            3.0  ...                               0   \n",
              "1189                            2.0  ...                               0   \n",
              "3210                            3.0  ...                               0   \n",
              "557                             4.0  ...                               0   \n",
              "...                             ...  ...                             ...   \n",
              "990                             2.0  ...                               0   \n",
              "3364                            3.0  ...                               0   \n",
              "4185                            4.0  ...                               0   \n",
              "4358                            2.0  ...                               0   \n",
              "3344                            2.0  ...                               0   \n",
              "\n",
              "      nombre_cargo_Research Scientist  nombre_cargo_Sales Executive  \\\n",
              "2675                                0                             1   \n",
              "4325                                0                             1   \n",
              "1189                                0                             0   \n",
              "3210                                0                             0   \n",
              "557                                 1                             0   \n",
              "...                               ...                           ...   \n",
              "990                                 0                             0   \n",
              "3364                                0                             0   \n",
              "4185                                0                             1   \n",
              "4358                                0                             0   \n",
              "3344                                0                             1   \n",
              "\n",
              "      nombre_cargo_Sales Representative  estado_civil_Divorced  \\\n",
              "2675                                  0                      0   \n",
              "4325                                  0                      1   \n",
              "1189                                  0                      1   \n",
              "3210                                  1                      0   \n",
              "557                                   0                      0   \n",
              "...                                 ...                    ...   \n",
              "990                                   0                      0   \n",
              "3364                                  0                      0   \n",
              "4185                                  0                      0   \n",
              "4358                                  0                      1   \n",
              "3344                                  0                      0   \n",
              "\n",
              "      estado_civil_Single  numero_capacitaciones_2  numero_capacitaciones_3  \\\n",
              "2675                    1                        0                        1   \n",
              "4325                    0                        1                        0   \n",
              "1189                    0                        0                        1   \n",
              "3210                    0                        1                        0   \n",
              "557                     1                        0                        1   \n",
              "...                   ...                      ...                      ...   \n",
              "990                     1                        1                        0   \n",
              "3364                    0                        0                        0   \n",
              "4185                    0                        0                        1   \n",
              "4358                    0                        0                        1   \n",
              "3344                    1                        0                        0   \n",
              "\n",
              "      numero_capacitaciones_5  numero_capacitaciones_6  \n",
              "2675                        0                        0  \n",
              "4325                        0                        0  \n",
              "1189                        0                        0  \n",
              "3210                        0                        0  \n",
              "557                         0                        0  \n",
              "...                       ...                      ...  \n",
              "990                         0                        0  \n",
              "3364                        0                        0  \n",
              "4185                        0                        0  \n",
              "4358                        0                        0  \n",
              "3344                        0                        1  \n",
              "\n",
              "[3528 rows x 30 columns]"
            ]
          },
          "execution_count": 35,
          "metadata": {},
          "output_type": "execute_result"
        }
      ],
      "source": [
        "\n",
        "sel_ = SelectFromModel(Lasso(alpha = 0.001, max_iter=10000), max_features=30) #entre mas aumente el parametro de serializacion, mas variables van atender a 0\n",
        "sel_.fit(X_train_std, y_train)\n",
        "print(sel_.estimator_.coef_)\n",
        "#Obtener variables seleccionadas\n",
        "X_new = sel_.get_support()#descarta los coeficientes mas cercanos a 0\n",
        "X_train_base1 = X_train_std[:,X_new]\n",
        "X_test_base1= X_test_std[:,X_new]\n",
        "X_train.iloc[:,X_new]"
      ]
    },
    {
      "cell_type": "markdown",
      "metadata": {},
      "source": [
        "variables elegidas, se eliminaron 16 columnas"
      ]
    },
    {
      "cell_type": "code",
      "execution_count": 36,
      "metadata": {},
      "outputs": [
        {
          "data": {
            "text/plain": [
              "Index(['educacion', 'nivel_de_cargo', 'ingresos_mensuales',\n",
              "       'empresas_anteriores', 'porcentaje_aumentosalario', 'años_de_trabajo',\n",
              "       'años_jefe_actual', 'satisfaccion_entorno', 'satisfaccion_laboral',\n",
              "       'conciliacion_faimilar_laboral', 'tiempo_prom_dia',\n",
              "       'frecuencia_viajes_Non-Travel', 'frecuencia_viajes_Travel_Frequently',\n",
              "       'departamento_Human Resources', 'formacion_Human Resources',\n",
              "       'formacion_Life Sciences', 'formacion_Other',\n",
              "       'formacion_Technical Degree', 'nombre_cargo_Manager',\n",
              "       'nombre_cargo_Manufacturing Director', 'nombre_cargo_Research Director',\n",
              "       'nombre_cargo_Research Scientist', 'nombre_cargo_Sales Executive',\n",
              "       'nombre_cargo_Sales Representative', 'estado_civil_Divorced',\n",
              "       'estado_civil_Single', 'numero_capacitaciones_2',\n",
              "       'numero_capacitaciones_3', 'numero_capacitaciones_5',\n",
              "       'numero_capacitaciones_6'],\n",
              "      dtype='object')"
            ]
          },
          "execution_count": 36,
          "metadata": {},
          "output_type": "execute_result"
        }
      ],
      "source": [
        "X_train.iloc[:,X_new].columns"
      ]
    },
    {
      "cell_type": "markdown",
      "metadata": {},
      "source": [
        "## Método Wrapper "
      ]
    },
    {
      "cell_type": "markdown",
      "metadata": {},
      "source": [
        "Seleccion de variables por medio del seleccionador recursivo de sklearn"
      ]
    },
    {
      "cell_type": "code",
      "execution_count": 17,
      "metadata": {},
      "outputs": [],
      "source": [
        "from sklearn.feature_selection import RFE\n",
        "from sklearn.linear_model import LinearRegression, LogisticRegression\n",
        "\n",
        "# Función recursiva de selección de características\n",
        "def recursive_feature_selection(X,y,model,k):\n",
        "  rfe = RFE(model, n_features_to_select=k, step=1)\n",
        "  fit = rfe.fit(X, y)\n",
        "  X_new = fit.support_\n",
        "  print(\"Num Features: %s\" % (fit.n_features_))\n",
        "  print(\"Selected Features: %s\" % (fit.support_))\n",
        "  print(\"Feature Ranking: %s\" % (fit.ranking_))\n",
        "  return X_new  "
      ]
    },
    {
      "cell_type": "markdown",
      "metadata": {},
      "source": [
        "Variables elegidas por la funcion recursive_feature_selection"
      ]
    },
    {
      "cell_type": "code",
      "execution_count": 18,
      "metadata": {},
      "outputs": [
        {
          "name": "stdout",
          "output_type": "stream",
          "text": [
            "Num Features: 30\n",
            "Selected Features: [False False False False  True False False  True  True  True  True  True\n",
            " False  True  True  True False  True  True  True  True  True  True False\n",
            "  True  True False False False  True  True  True False  True  True  True\n",
            "  True  True  True False  True  True False  True  True]\n",
            "Feature Ranking: [ 8  7  3  4  1  5 12  1  1  1  1  1  6  1  1  1 15  1  1  1  1  1  1 16\n",
            "  1  1 11 14 10  1  1  1  2  1  1  1  1  1  1 13  1  1  9  1  1]\n"
          ]
        },
        {
          "data": {
            "text/html": [
              "<div>\n",
              "<style scoped>\n",
              "    .dataframe tbody tr th:only-of-type {\n",
              "        vertical-align: middle;\n",
              "    }\n",
              "\n",
              "    .dataframe tbody tr th {\n",
              "        vertical-align: top;\n",
              "    }\n",
              "\n",
              "    .dataframe thead th {\n",
              "        text-align: right;\n",
              "    }\n",
              "</style>\n",
              "<table border=\"1\" class=\"dataframe\">\n",
              "  <thead>\n",
              "    <tr style=\"text-align: right;\">\n",
              "      <th></th>\n",
              "      <th>empresas_anteriores</th>\n",
              "      <th>años_de_trabajo</th>\n",
              "      <th>años_jefe_actual</th>\n",
              "      <th>satisfaccion_entorno</th>\n",
              "      <th>satisfaccion_laboral</th>\n",
              "      <th>conciliacion_faimilar_laboral</th>\n",
              "      <th>tiempo_prom_dia</th>\n",
              "      <th>frecuencia_viajes_Non-Travel</th>\n",
              "      <th>frecuencia_viajes_Travel_Frequently</th>\n",
              "      <th>departamento_Human Resources</th>\n",
              "      <th>...</th>\n",
              "      <th>nombre_cargo_Sales Executive</th>\n",
              "      <th>nombre_cargo_Sales Representative</th>\n",
              "      <th>estado_civil_Divorced</th>\n",
              "      <th>estado_civil_Married</th>\n",
              "      <th>estado_civil_Single</th>\n",
              "      <th>numero_capacitaciones_0</th>\n",
              "      <th>numero_capacitaciones_2</th>\n",
              "      <th>numero_capacitaciones_3</th>\n",
              "      <th>numero_capacitaciones_5</th>\n",
              "      <th>numero_capacitaciones_6</th>\n",
              "    </tr>\n",
              "  </thead>\n",
              "  <tbody>\n",
              "    <tr>\n",
              "      <th>2675</th>\n",
              "      <td>0.0</td>\n",
              "      <td>10.0</td>\n",
              "      <td>7</td>\n",
              "      <td>2.0</td>\n",
              "      <td>1.0</td>\n",
              "      <td>3.0</td>\n",
              "      <td>6.8529</td>\n",
              "      <td>1</td>\n",
              "      <td>0</td>\n",
              "      <td>0</td>\n",
              "      <td>...</td>\n",
              "      <td>1</td>\n",
              "      <td>0</td>\n",
              "      <td>0</td>\n",
              "      <td>0</td>\n",
              "      <td>1</td>\n",
              "      <td>0</td>\n",
              "      <td>0</td>\n",
              "      <td>1</td>\n",
              "      <td>0</td>\n",
              "      <td>0</td>\n",
              "    </tr>\n",
              "    <tr>\n",
              "      <th>4325</th>\n",
              "      <td>1.0</td>\n",
              "      <td>12.0</td>\n",
              "      <td>10</td>\n",
              "      <td>3.0</td>\n",
              "      <td>1.0</td>\n",
              "      <td>3.0</td>\n",
              "      <td>6.3337</td>\n",
              "      <td>1</td>\n",
              "      <td>0</td>\n",
              "      <td>0</td>\n",
              "      <td>...</td>\n",
              "      <td>1</td>\n",
              "      <td>0</td>\n",
              "      <td>1</td>\n",
              "      <td>0</td>\n",
              "      <td>0</td>\n",
              "      <td>0</td>\n",
              "      <td>1</td>\n",
              "      <td>0</td>\n",
              "      <td>0</td>\n",
              "      <td>0</td>\n",
              "    </tr>\n",
              "    <tr>\n",
              "      <th>1189</th>\n",
              "      <td>1.0</td>\n",
              "      <td>15.0</td>\n",
              "      <td>11</td>\n",
              "      <td>4.0</td>\n",
              "      <td>4.0</td>\n",
              "      <td>2.0</td>\n",
              "      <td>7.0588</td>\n",
              "      <td>1</td>\n",
              "      <td>0</td>\n",
              "      <td>0</td>\n",
              "      <td>...</td>\n",
              "      <td>0</td>\n",
              "      <td>0</td>\n",
              "      <td>1</td>\n",
              "      <td>0</td>\n",
              "      <td>0</td>\n",
              "      <td>0</td>\n",
              "      <td>0</td>\n",
              "      <td>1</td>\n",
              "      <td>0</td>\n",
              "      <td>0</td>\n",
              "    </tr>\n",
              "    <tr>\n",
              "      <th>3210</th>\n",
              "      <td>3.0</td>\n",
              "      <td>18.0</td>\n",
              "      <td>3</td>\n",
              "      <td>2.0</td>\n",
              "      <td>3.0</td>\n",
              "      <td>3.0</td>\n",
              "      <td>7.8252</td>\n",
              "      <td>0</td>\n",
              "      <td>1</td>\n",
              "      <td>0</td>\n",
              "      <td>...</td>\n",
              "      <td>0</td>\n",
              "      <td>1</td>\n",
              "      <td>0</td>\n",
              "      <td>1</td>\n",
              "      <td>0</td>\n",
              "      <td>0</td>\n",
              "      <td>1</td>\n",
              "      <td>0</td>\n",
              "      <td>0</td>\n",
              "      <td>0</td>\n",
              "    </tr>\n",
              "    <tr>\n",
              "      <th>557</th>\n",
              "      <td>1.0</td>\n",
              "      <td>2.0</td>\n",
              "      <td>2</td>\n",
              "      <td>4.0</td>\n",
              "      <td>2.0</td>\n",
              "      <td>4.0</td>\n",
              "      <td>9.9695</td>\n",
              "      <td>0</td>\n",
              "      <td>0</td>\n",
              "      <td>0</td>\n",
              "      <td>...</td>\n",
              "      <td>0</td>\n",
              "      <td>0</td>\n",
              "      <td>0</td>\n",
              "      <td>0</td>\n",
              "      <td>1</td>\n",
              "      <td>0</td>\n",
              "      <td>0</td>\n",
              "      <td>1</td>\n",
              "      <td>0</td>\n",
              "      <td>0</td>\n",
              "    </tr>\n",
              "    <tr>\n",
              "      <th>...</th>\n",
              "      <td>...</td>\n",
              "      <td>...</td>\n",
              "      <td>...</td>\n",
              "      <td>...</td>\n",
              "      <td>...</td>\n",
              "      <td>...</td>\n",
              "      <td>...</td>\n",
              "      <td>...</td>\n",
              "      <td>...</td>\n",
              "      <td>...</td>\n",
              "      <td>...</td>\n",
              "      <td>...</td>\n",
              "      <td>...</td>\n",
              "      <td>...</td>\n",
              "      <td>...</td>\n",
              "      <td>...</td>\n",
              "      <td>...</td>\n",
              "      <td>...</td>\n",
              "      <td>...</td>\n",
              "      <td>...</td>\n",
              "      <td>...</td>\n",
              "    </tr>\n",
              "    <tr>\n",
              "      <th>990</th>\n",
              "      <td>1.0</td>\n",
              "      <td>6.0</td>\n",
              "      <td>4</td>\n",
              "      <td>3.0</td>\n",
              "      <td>4.0</td>\n",
              "      <td>2.0</td>\n",
              "      <td>5.7975</td>\n",
              "      <td>0</td>\n",
              "      <td>0</td>\n",
              "      <td>0</td>\n",
              "      <td>...</td>\n",
              "      <td>0</td>\n",
              "      <td>0</td>\n",
              "      <td>0</td>\n",
              "      <td>0</td>\n",
              "      <td>1</td>\n",
              "      <td>0</td>\n",
              "      <td>1</td>\n",
              "      <td>0</td>\n",
              "      <td>0</td>\n",
              "      <td>0</td>\n",
              "    </tr>\n",
              "    <tr>\n",
              "      <th>3364</th>\n",
              "      <td>6.0</td>\n",
              "      <td>5.0</td>\n",
              "      <td>2</td>\n",
              "      <td>3.0</td>\n",
              "      <td>2.0</td>\n",
              "      <td>3.0</td>\n",
              "      <td>6.9008</td>\n",
              "      <td>1</td>\n",
              "      <td>0</td>\n",
              "      <td>0</td>\n",
              "      <td>...</td>\n",
              "      <td>0</td>\n",
              "      <td>0</td>\n",
              "      <td>0</td>\n",
              "      <td>1</td>\n",
              "      <td>0</td>\n",
              "      <td>0</td>\n",
              "      <td>0</td>\n",
              "      <td>0</td>\n",
              "      <td>0</td>\n",
              "      <td>0</td>\n",
              "    </tr>\n",
              "    <tr>\n",
              "      <th>4185</th>\n",
              "      <td>3.0</td>\n",
              "      <td>19.0</td>\n",
              "      <td>0</td>\n",
              "      <td>4.0</td>\n",
              "      <td>4.0</td>\n",
              "      <td>4.0</td>\n",
              "      <td>6.2989</td>\n",
              "      <td>0</td>\n",
              "      <td>0</td>\n",
              "      <td>1</td>\n",
              "      <td>...</td>\n",
              "      <td>1</td>\n",
              "      <td>0</td>\n",
              "      <td>0</td>\n",
              "      <td>1</td>\n",
              "      <td>0</td>\n",
              "      <td>0</td>\n",
              "      <td>0</td>\n",
              "      <td>1</td>\n",
              "      <td>0</td>\n",
              "      <td>0</td>\n",
              "    </tr>\n",
              "    <tr>\n",
              "      <th>4358</th>\n",
              "      <td>1.0</td>\n",
              "      <td>4.0</td>\n",
              "      <td>2</td>\n",
              "      <td>4.0</td>\n",
              "      <td>2.0</td>\n",
              "      <td>2.0</td>\n",
              "      <td>7.8275</td>\n",
              "      <td>0</td>\n",
              "      <td>0</td>\n",
              "      <td>0</td>\n",
              "      <td>...</td>\n",
              "      <td>0</td>\n",
              "      <td>0</td>\n",
              "      <td>1</td>\n",
              "      <td>0</td>\n",
              "      <td>0</td>\n",
              "      <td>0</td>\n",
              "      <td>0</td>\n",
              "      <td>1</td>\n",
              "      <td>0</td>\n",
              "      <td>0</td>\n",
              "    </tr>\n",
              "    <tr>\n",
              "      <th>3344</th>\n",
              "      <td>1.0</td>\n",
              "      <td>2.0</td>\n",
              "      <td>2</td>\n",
              "      <td>3.0</td>\n",
              "      <td>3.0</td>\n",
              "      <td>2.0</td>\n",
              "      <td>6.6316</td>\n",
              "      <td>0</td>\n",
              "      <td>0</td>\n",
              "      <td>0</td>\n",
              "      <td>...</td>\n",
              "      <td>1</td>\n",
              "      <td>0</td>\n",
              "      <td>0</td>\n",
              "      <td>0</td>\n",
              "      <td>1</td>\n",
              "      <td>0</td>\n",
              "      <td>0</td>\n",
              "      <td>0</td>\n",
              "      <td>0</td>\n",
              "      <td>1</td>\n",
              "    </tr>\n",
              "  </tbody>\n",
              "</table>\n",
              "<p>3528 rows × 30 columns</p>\n",
              "</div>"
            ],
            "text/plain": [
              "      empresas_anteriores  años_de_trabajo  años_jefe_actual  \\\n",
              "2675                  0.0             10.0                 7   \n",
              "4325                  1.0             12.0                10   \n",
              "1189                  1.0             15.0                11   \n",
              "3210                  3.0             18.0                 3   \n",
              "557                   1.0              2.0                 2   \n",
              "...                   ...              ...               ...   \n",
              "990                   1.0              6.0                 4   \n",
              "3364                  6.0              5.0                 2   \n",
              "4185                  3.0             19.0                 0   \n",
              "4358                  1.0              4.0                 2   \n",
              "3344                  1.0              2.0                 2   \n",
              "\n",
              "      satisfaccion_entorno  satisfaccion_laboral  \\\n",
              "2675                   2.0                   1.0   \n",
              "4325                   3.0                   1.0   \n",
              "1189                   4.0                   4.0   \n",
              "3210                   2.0                   3.0   \n",
              "557                    4.0                   2.0   \n",
              "...                    ...                   ...   \n",
              "990                    3.0                   4.0   \n",
              "3364                   3.0                   2.0   \n",
              "4185                   4.0                   4.0   \n",
              "4358                   4.0                   2.0   \n",
              "3344                   3.0                   3.0   \n",
              "\n",
              "      conciliacion_faimilar_laboral  tiempo_prom_dia  \\\n",
              "2675                            3.0           6.8529   \n",
              "4325                            3.0           6.3337   \n",
              "1189                            2.0           7.0588   \n",
              "3210                            3.0           7.8252   \n",
              "557                             4.0           9.9695   \n",
              "...                             ...              ...   \n",
              "990                             2.0           5.7975   \n",
              "3364                            3.0           6.9008   \n",
              "4185                            4.0           6.2989   \n",
              "4358                            2.0           7.8275   \n",
              "3344                            2.0           6.6316   \n",
              "\n",
              "      frecuencia_viajes_Non-Travel  frecuencia_viajes_Travel_Frequently  \\\n",
              "2675                             1                                    0   \n",
              "4325                             1                                    0   \n",
              "1189                             1                                    0   \n",
              "3210                             0                                    1   \n",
              "557                              0                                    0   \n",
              "...                            ...                                  ...   \n",
              "990                              0                                    0   \n",
              "3364                             1                                    0   \n",
              "4185                             0                                    0   \n",
              "4358                             0                                    0   \n",
              "3344                             0                                    0   \n",
              "\n",
              "      departamento_Human Resources  ...  nombre_cargo_Sales Executive  \\\n",
              "2675                             0  ...                             1   \n",
              "4325                             0  ...                             1   \n",
              "1189                             0  ...                             0   \n",
              "3210                             0  ...                             0   \n",
              "557                              0  ...                             0   \n",
              "...                            ...  ...                           ...   \n",
              "990                              0  ...                             0   \n",
              "3364                             0  ...                             0   \n",
              "4185                             1  ...                             1   \n",
              "4358                             0  ...                             0   \n",
              "3344                             0  ...                             1   \n",
              "\n",
              "      nombre_cargo_Sales Representative  estado_civil_Divorced  \\\n",
              "2675                                  0                      0   \n",
              "4325                                  0                      1   \n",
              "1189                                  0                      1   \n",
              "3210                                  1                      0   \n",
              "557                                   0                      0   \n",
              "...                                 ...                    ...   \n",
              "990                                   0                      0   \n",
              "3364                                  0                      0   \n",
              "4185                                  0                      0   \n",
              "4358                                  0                      1   \n",
              "3344                                  0                      0   \n",
              "\n",
              "      estado_civil_Married  estado_civil_Single  numero_capacitaciones_0  \\\n",
              "2675                     0                    1                        0   \n",
              "4325                     0                    0                        0   \n",
              "1189                     0                    0                        0   \n",
              "3210                     1                    0                        0   \n",
              "557                      0                    1                        0   \n",
              "...                    ...                  ...                      ...   \n",
              "990                      0                    1                        0   \n",
              "3364                     1                    0                        0   \n",
              "4185                     1                    0                        0   \n",
              "4358                     0                    0                        0   \n",
              "3344                     0                    1                        0   \n",
              "\n",
              "      numero_capacitaciones_2  numero_capacitaciones_3  \\\n",
              "2675                        0                        1   \n",
              "4325                        1                        0   \n",
              "1189                        0                        1   \n",
              "3210                        1                        0   \n",
              "557                         0                        1   \n",
              "...                       ...                      ...   \n",
              "990                         1                        0   \n",
              "3364                        0                        0   \n",
              "4185                        0                        1   \n",
              "4358                        0                        1   \n",
              "3344                        0                        0   \n",
              "\n",
              "      numero_capacitaciones_5  numero_capacitaciones_6  \n",
              "2675                        0                        0  \n",
              "4325                        0                        0  \n",
              "1189                        0                        0  \n",
              "3210                        0                        0  \n",
              "557                         0                        0  \n",
              "...                       ...                      ...  \n",
              "990                         0                        0  \n",
              "3364                        0                        0  \n",
              "4185                        0                        0  \n",
              "4358                        0                        0  \n",
              "3344                        0                        1  \n",
              "\n",
              "[3528 rows x 30 columns]"
            ]
          },
          "execution_count": 18,
          "metadata": {},
          "output_type": "execute_result"
        }
      ],
      "source": [
        "# Establecer Estimador\n",
        "model = LogisticRegression(max_iter=100)\n",
        "# Obtener columnas seleciconadas - (30 caracteristicas)\n",
        "X_new_class = recursive_feature_selection(X_train_std, y_train, model, 30)\n",
        "\n",
        "# Nuevo conjunto de datos\n",
        "X_train_base2 = X_train_std[:,X_new_class]\n",
        "X_test_base2= X_test_std[:,X_new_class]\n",
        "X_train.iloc[:,X_new_class]"
      ]
    },
    {
      "cell_type": "markdown",
      "metadata": {},
      "source": [
        "Columnas elegidas, se eliminaron 16 columnas"
      ]
    },
    {
      "cell_type": "code",
      "execution_count": 19,
      "metadata": {},
      "outputs": [
        {
          "data": {
            "text/plain": [
              "Index(['empresas_anteriores', 'años_de_trabajo', 'años_jefe_actual',\n",
              "       'satisfaccion_entorno', 'satisfaccion_laboral',\n",
              "       'conciliacion_faimilar_laboral', 'tiempo_prom_dia',\n",
              "       'frecuencia_viajes_Non-Travel', 'frecuencia_viajes_Travel_Frequently',\n",
              "       'departamento_Human Resources', 'departamento_Research & Development',\n",
              "       'departamento_Sales', 'formacion_Human Resources',\n",
              "       'formacion_Life Sciences', 'formacion_Marketing', 'formacion_Other',\n",
              "       'formacion_Technical Degree', 'nombre_cargo_Manager',\n",
              "       'nombre_cargo_Manufacturing Director', 'nombre_cargo_Research Director',\n",
              "       'nombre_cargo_Sales Executive', 'nombre_cargo_Sales Representative',\n",
              "       'estado_civil_Divorced', 'estado_civil_Married', 'estado_civil_Single',\n",
              "       'numero_capacitaciones_0', 'numero_capacitaciones_2',\n",
              "       'numero_capacitaciones_3', 'numero_capacitaciones_5',\n",
              "       'numero_capacitaciones_6'],\n",
              "      dtype='object')"
            ]
          },
          "execution_count": 19,
          "metadata": {},
          "output_type": "execute_result"
        }
      ],
      "source": [
        "X_train.iloc[:,X_new_class].columns"
      ]
    },
    {
      "cell_type": "markdown",
      "metadata": {},
      "source": [
        "# Modelo 1 de Regresión Logística"
      ]
    },
    {
      "cell_type": "markdown",
      "metadata": {},
      "source": [
        "### Modelo 1.1 Regresion logistica con Lasso"
      ]
    },
    {
      "cell_type": "markdown",
      "metadata": {},
      "source": [
        "Construccion del modelo y exactitud en el entrenamiento "
      ]
    },
    {
      "cell_type": "code",
      "execution_count": 30,
      "metadata": {},
      "outputs": [
        {
          "name": "stdout",
          "output_type": "stream",
          "text": [
            "Exactitud en el entrenamiento: 0.747\n"
          ]
        }
      ],
      "source": [
        "from sklearn.metrics import accuracy_score\n",
        "\n",
        "# Entrenamiento del modelo\n",
        "modelo = LogisticRegression(random_state=142, class_weight='balanced')\n",
        "\n",
        "# Ajustar el modelo a los datos\n",
        "modelo.fit(X_train_base1, y_train)\n",
        "\n",
        "# Desempeño en el entrenamiento\n",
        "y_train_pred2 = modelo.predict(X_train_base1)\n",
        "\n",
        "print('Exactitud en el entrenamiento: %.3f'  %accuracy_score(y_train, y_train_pred2) )"
      ]
    },
    {
      "cell_type": "markdown",
      "metadata": {},
      "source": [
        "Exactitud en la validacion"
      ]
    },
    {
      "cell_type": "code",
      "execution_count": 31,
      "metadata": {},
      "outputs": [
        {
          "name": "stdout",
          "output_type": "stream",
          "text": [
            "Exactitud en la validacion: 0.734\n"
          ]
        }
      ],
      "source": [
        "y_pred = modelo.predict(X_test_base1)\n",
        "\n",
        "# Exactitud en el conjunto de validación\n",
        "print('Exactitud en la validacion: %.3f'  %accuracy_score(y_test, y_pred))"
      ]
    },
    {
      "cell_type": "markdown",
      "metadata": {},
      "source": [
        " Matriz de confusión"
      ]
    },
    {
      "cell_type": "code",
      "execution_count": 32,
      "metadata": {},
      "outputs": [
        {
          "data": {
            "image/png": "[encoded data removed]",
            "text/plain": [
              "<Figure size 640x480 with 2 Axes>"
            ]
          },
          "metadata": {},
          "output_type": "display_data"
        }
      ],
      "source": [
        "from sklearn.metrics import confusion_matrix, ConfusionMatrixDisplay\n",
        "matriz= confusion_matrix(y_test, y_pred)\n",
        "matriz_display = ConfusionMatrixDisplay(confusion_matrix=matriz, display_labels=['No renuncia', 'renuncia'])\n",
        "matriz_display.plot()\n",
        "plt.show()"
      ]
    },
    {
      "cell_type": "markdown",
      "metadata": {},
      "source": [
        "Metricas de desempeño"
      ]
    },
    {
      "cell_type": "code",
      "execution_count": 33,
      "metadata": {},
      "outputs": [
        {
          "name": "stdout",
          "output_type": "stream",
          "text": [
            "Precision: 0.3344594594594595\n",
            "Recall: 0.7226277372262774\n",
            "Especificidad: 0.7355704697986577\n",
            "F1 score: 0.45727482678983833\n"
          ]
        }
      ],
      "source": [
        "tn, fp, fn, tp = matriz.ravel()\n",
        "\n",
        "precision = tp / (tp + fp)\n",
        "recall = tp / (tp + fn)\n",
        "especificidad = tn / (fp + tn)\n",
        "f1_score = 2*(precision*recall)/(precision+recall)\n",
        "\n",
        "print(f'Precision: {precision}')\n",
        "print(f'Recall: {recall}')\n",
        "print(f'Especificidad: {especificidad}')\n",
        "print(f'F1 score: {f1_score}')"
      ]
    },
    {
      "cell_type": "markdown",
      "metadata": {},
      "source": [
        "La exactitud del modelo es 73%, mejorando el accuracy del modelo base sin seleccion de variables, aunque en poca magnitud.\n",
        "Precision: El 33% de los predichos a desertar realmente lo haran, mejoro en un 1% la precision del modelo base.\n",
        "Recall: este modelo es capaz de identificar el 72% de los empleados que realmente van a renunciar, igual valor al modelo base.\n",
        "Del modelo base a este modelo construido con la base 1, no presenta muchas mejoras, es decir que eliminar estas 16 varibles no mejoro los resultados."
      ]
    },
    {
      "cell_type": "markdown",
      "metadata": {},
      "source": [
        "### Modelo 1.2 regresion logistica con Wrapper"
      ]
    },
    {
      "cell_type": "markdown",
      "metadata": {},
      "source": [
        "Construccion del modelo y exactitud en el entrenamiento"
      ]
    },
    {
      "cell_type": "code",
      "execution_count": 36,
      "metadata": {},
      "outputs": [
        {
          "name": "stdout",
          "output_type": "stream",
          "text": [
            "Exactitud en el entrenamiento: 0.741\n"
          ]
        }
      ],
      "source": [
        "from sklearn.metrics import accuracy_score\n",
        "\n",
        "# Entrenamiento del modelo\n",
        "modelo = LogisticRegression(random_state=142, class_weight='balanced')\n",
        "\n",
        "# Ajustar el modelo a los datos\n",
        "modelo.fit(X_train_base2, y_train)\n",
        "\n",
        "# Desempeño en el entrenamiento\n",
        "y_train_pred2 = modelo.predict(X_train_base2)\n",
        "\n",
        "print('Exactitud en el entrenamiento: %.3f'  %accuracy_score(y_train, y_train_pred2) )"
      ]
    },
    {
      "cell_type": "markdown",
      "metadata": {},
      "source": [
        "Exactitud en la validacion"
      ]
    },
    {
      "cell_type": "code",
      "execution_count": 37,
      "metadata": {},
      "outputs": [
        {
          "name": "stdout",
          "output_type": "stream",
          "text": [
            "Exactitud en la validacion: 0.723\n"
          ]
        }
      ],
      "source": [
        "y_pred = modelo.predict(X_test_base2)\n",
        "\n",
        "# Exactitud en el conjunto de validación\n",
        "print('Exactitud en la validacion: %.3f'  %accuracy_score(y_test, y_pred))"
      ]
    },
    {
      "cell_type": "markdown",
      "metadata": {},
      "source": [
        "Matriz de Confusión"
      ]
    },
    {
      "cell_type": "code",
      "execution_count": 38,
      "metadata": {},
      "outputs": [
        {
          "data": {
            "image/png": "[encoded data removed]",
            "text/plain": [
              "<Figure size 640x480 with 2 Axes>"
            ]
          },
          "metadata": {},
          "output_type": "display_data"
        }
      ],
      "source": [
        "from sklearn.metrics import confusion_matrix, ConfusionMatrixDisplay\n",
        "matriz= confusion_matrix(y_test, y_pred)\n",
        "matriz_display = ConfusionMatrixDisplay(confusion_matrix=matriz, display_labels=['No renuncia', 'renuncia'])\n",
        "matriz_display.plot()\n",
        "plt.show()"
      ]
    },
    {
      "cell_type": "markdown",
      "metadata": {},
      "source": [
        "Metricas de desempeño"
      ]
    },
    {
      "cell_type": "code",
      "execution_count": 39,
      "metadata": {},
      "outputs": [
        {
          "name": "stdout",
          "output_type": "stream",
          "text": [
            "Precision: 0.32459016393442625\n",
            "Recall: 0.7226277372262774\n",
            "Especificidad: 0.723489932885906\n",
            "F1 score: 0.44796380090497734\n"
          ]
        }
      ],
      "source": [
        "tn, fp, fn, tp = matriz.ravel()\n",
        "\n",
        "precision = tp / (tp + fp)\n",
        "recall = tp / (tp + fn)\n",
        "especificidad = tn / (fp + tn)\n",
        "f1_score = 2*(precision*recall)/(precision+recall)\n",
        "\n",
        "print(f'Precision: {precision}')\n",
        "print(f'Recall: {recall}')\n",
        "print(f'Especificidad: {especificidad}')\n",
        "print(f'F1 score: {f1_score}')"
      ]
    },
    {
      "cell_type": "markdown",
      "metadata": {},
      "source": [
        "La exactitud del modelo es 72%, igualando el accuracy del modelo base sin seleccion de variables.\n",
        "Precision: El 33% de los predichos a desertar realmente lo haran, igualo la precision del modelo base.\n",
        "Recall: este modelo es capaz de identificar el 72% de los empleados que realmente van a renunciar, igual valor al modelo base.\n",
        "Del modelo base a este modelo construido con la base 2, no presenta mejoras, es decir que eliminar estas 16 varibles no mejoro los resultados."
      ]
    },
    {
      "cell_type": "markdown",
      "metadata": {},
      "source": [
        "### Modelo 1.3 regresion logistica con balanceo de clases manual"
      ]
    },
    {
      "cell_type": "markdown",
      "metadata": {},
      "source": [
        " Construccion del modelo y xactitud en el entrenamiento "
      ]
    },
    {
      "cell_type": "code",
      "execution_count": 41,
      "metadata": {},
      "outputs": [
        {
          "name": "stdout",
          "output_type": "stream",
          "text": [
            "Exactitud en el entrenamiento: 0.765\n"
          ]
        }
      ],
      "source": [
        "from sklearn.metrics import accuracy_score\n",
        "\n",
        "# Entrenamiento del modelo\n",
        "modelo = LogisticRegression(random_state=142)\n",
        "\n",
        "# Ajustar el modelo a los datos\n",
        "modelo.fit(x_train_res, y_train_res)\n",
        "\n",
        "# Desempeño en el entrenamiento\n",
        "y_train_pred2 = modelo.predict(x_train_res)\n",
        "\n",
        "print('Exactitud en el entrenamiento: %.3f'  %accuracy_score(y_train_res, y_train_pred2) )"
      ]
    },
    {
      "cell_type": "markdown",
      "metadata": {},
      "source": [
        " Exactitud en la validación "
      ]
    },
    {
      "cell_type": "code",
      "execution_count": 42,
      "metadata": {},
      "outputs": [
        {
          "name": "stdout",
          "output_type": "stream",
          "text": [
            "Exactitud en la validacion: 0.738\n"
          ]
        }
      ],
      "source": [
        "y_pred = modelo.predict(X_test_std)\n",
        "\n",
        "# Exactitud en el conjunto de validación\n",
        "print('Exactitud en la validacion: %.3f'  %accuracy_score(y_test, y_pred))"
      ]
    },
    {
      "cell_type": "markdown",
      "metadata": {},
      "source": [
        " Matriz de confusión "
      ]
    },
    {
      "cell_type": "code",
      "execution_count": 43,
      "metadata": {},
      "outputs": [
        {
          "data": {
            "image/png": "[encoded data removed]",
            "text/plain": [
              "<Figure size 640x480 with 2 Axes>"
            ]
          },
          "metadata": {},
          "output_type": "display_data"
        }
      ],
      "source": [
        "from sklearn.metrics import confusion_matrix, ConfusionMatrixDisplay\n",
        "matriz= confusion_matrix(y_test, y_pred)\n",
        "matriz_display = ConfusionMatrixDisplay(confusion_matrix=matriz, display_labels=['No renuncia', 'renuncia'])\n",
        "matriz_display.plot()\n",
        "plt.show()"
      ]
    },
    {
      "cell_type": "markdown",
      "metadata": {},
      "source": [
        "Metricas de desempeño"
      ]
    },
    {
      "cell_type": "code",
      "execution_count": 44,
      "metadata": {},
      "outputs": [
        {
          "name": "stdout",
          "output_type": "stream",
          "text": [
            "Precision: 0.3356643356643357\n",
            "Recall: 0.7007299270072993\n",
            "Especificidad: 0.7449664429530202\n",
            "F1 score: 0.4539007092198582\n"
          ]
        }
      ],
      "source": [
        "tn, fp, fn, tp = matriz.ravel()\n",
        "\n",
        "precision = tp / (tp + fp)\n",
        "recall = tp / (tp + fn)\n",
        "especificidad = tn / (fp + tn)\n",
        "f1_score = 2*(precision*recall)/(precision+recall)\n",
        "\n",
        "print(f'Precision: {precision}')\n",
        "print(f'Recall: {recall}')\n",
        "print(f'Especificidad: {especificidad}')\n",
        "print(f'F1 score: {f1_score}')"
      ]
    },
    {
      "cell_type": "markdown",
      "metadata": {},
      "source": [
        "La exactitud de este modelo es del 73% y del modelo base con el balanceo de hiperparametro la es del 72%, la precision de este modelo es del 32% y del modelo base es 32%, el recall de este modelo es del 70% y del modelo base es del 72%. Finalmente se puede concluir que utilizar el class_weight o balancear las clases manualmente producen similares resultados.\n",
        "\n",
        "A partir de este punto se trabajara con el hiperparametro, solo para el modelo de gradient boosting se utilizara los datos balanceados manualmente."
      ]
    },
    {
      "cell_type": "markdown",
      "metadata": {},
      "source": [
        "# Modelo 2 Random Forest Classifier"
      ]
    },
    {
      "cell_type": "markdown",
      "metadata": {},
      "source": [
        "### 2.1 Modelo random forest con metodo integrado"
      ]
    },
    {
      "cell_type": "markdown",
      "metadata": {},
      "source": [
        "Construccion del modelo"
      ]
    },
    {
      "cell_type": "code",
      "execution_count": 45,
      "metadata": {},
      "outputs": [
        {
          "data": {
            "text/html": [
              "<style>#sk-container-id-1 {color: black;background-color: white;}#sk-container-id-1 pre{padding: 0;}#sk-container-id-1 div.sk-toggleable {background-color: white;}#sk-container-id-1 label.sk-toggleable__label {cursor: pointer;display: block;width: 100%;margin-bottom: 0;padding: 0.3em;box-sizing: border-box;text-align: center;}#sk-container-id-1 label.sk-toggleable__label-arrow:before {content: \"▸\";float: left;margin-right: 0.25em;color: #696969;}#sk-container-id-1 label.sk-toggleable__label-arrow:hover:before {color: black;}#sk-container-id-1 div.sk-estimator:hover label.sk-toggleable__label-arrow:before {color: black;}#sk-container-id-1 div.sk-toggleable__content {max-height: 0;max-width: 0;overflow: hidden;text-align: left;background-color: #f0f8ff;}#sk-container-id-1 div.sk-toggleable__content pre {margin: 0.2em;color: black;border-radius: 0.25em;background-color: #f0f8ff;}#sk-container-id-1 input.sk-toggleable__control:checked~div.sk-toggleable__content {max-height: 200px;max-width: 100%;overflow: auto;}#sk-container-id-1 input.sk-toggleable__control:checked~label.sk-toggleable__label-arrow:before {content: \"▾\";}#sk-container-id-1 div.sk-estimator input.sk-toggleable__control:checked~label.sk-toggleable__label {background-color: #d4ebff;}#sk-container-id-1 div.sk-label input.sk-toggleable__control:checked~label.sk-toggleable__label {background-color: #d4ebff;}#sk-container-id-1 input.sk-hidden--visually {border: 0;clip: rect(1px 1px 1px 1px);clip: rect(1px, 1px, 1px, 1px);height: 1px;margin: -1px;overflow: hidden;padding: 0;position: absolute;width: 1px;}#sk-container-id-1 div.sk-estimator {font-family: monospace;background-color: #f0f8ff;border: 1px dotted black;border-radius: 0.25em;box-sizing: border-box;margin-bottom: 0.5em;}#sk-container-id-1 div.sk-estimator:hover {background-color: #d4ebff;}#sk-container-id-1 div.sk-parallel-item::after {content: \"\";width: 100%;border-bottom: 1px solid gray;flex-grow: 1;}#sk-container-id-1 div.sk-label:hover label.sk-toggleable__label {background-color: #d4ebff;}#sk-container-id-1 div.sk-serial::before {content: \"\";position: absolute;border-left: 1px solid gray;box-sizing: border-box;top: 0;bottom: 0;left: 50%;z-index: 0;}#sk-container-id-1 div.sk-serial {display: flex;flex-direction: column;align-items: center;background-color: white;padding-right: 0.2em;padding-left: 0.2em;position: relative;}#sk-container-id-1 div.sk-item {position: relative;z-index: 1;}#sk-container-id-1 div.sk-parallel {display: flex;align-items: stretch;justify-content: center;background-color: white;position: relative;}#sk-container-id-1 div.sk-item::before, #sk-container-id-1 div.sk-parallel-item::before {content: \"\";position: absolute;border-left: 1px solid gray;box-sizing: border-box;top: 0;bottom: 0;left: 50%;z-index: -1;}#sk-container-id-1 div.sk-parallel-item {display: flex;flex-direction: column;z-index: 1;position: relative;background-color: white;}#sk-container-id-1 div.sk-parallel-item:first-child::after {align-self: flex-end;width: 50%;}#sk-container-id-1 div.sk-parallel-item:last-child::after {align-self: flex-start;width: 50%;}#sk-container-id-1 div.sk-parallel-item:only-child::after {width: 0;}#sk-container-id-1 div.sk-dashed-wrapped {border: 1px dashed gray;margin: 0 0.4em 0.5em 0.4em;box-sizing: border-box;padding-bottom: 0.4em;background-color: white;}#sk-container-id-1 div.sk-label label {font-family: monospace;font-weight: bold;display: inline-block;line-height: 1.2em;}#sk-container-id-1 div.sk-label-container {text-align: center;}#sk-container-id-1 div.sk-container {/* jupyter's `normalize.less` sets `[hidden] { display: none; }` but bootstrap.min.css set `[hidden] { display: none !important; }` so we also need the `!important` here to be able to override the default hidden behavior on the sphinx rendered scikit-learn.org. See: https://github.com/scikit-learn/scikit-learn/issues/21755 */display: inline-block !important;position: relative;}#sk-container-id-1 div.sk-text-repr-fallback {display: none;}</style><div id=\"sk-container-id-1\" class=\"sk-top-container\"><div class=\"sk-text-repr-fallback\"><pre>RandomForestClassifier(class_weight=&#x27;balanced&#x27;, max_depth=5, max_leaf_nodes=10,\n",
              "                       n_estimators=150, n_jobs=-1, random_state=123)</pre><b>In a Jupyter environment, please rerun this cell to show the HTML representation or trust the notebook. <br />On GitHub, the HTML representation is unable to render, please try loading this page with nbviewer.org.</b></div><div class=\"sk-container\" hidden><div class=\"sk-item\"><div class=\"sk-estimator sk-toggleable\"><input class=\"sk-toggleable__control sk-hidden--visually\" id=\"sk-estimator-id-1\" type=\"checkbox\" checked><label for=\"sk-estimator-id-1\" class=\"sk-toggleable__label sk-toggleable__label-arrow\">RandomForestClassifier</label><div class=\"sk-toggleable__content\"><pre>RandomForestClassifier(class_weight=&#x27;balanced&#x27;, max_depth=5, max_leaf_nodes=10,\n",
              "                       n_estimators=150, n_jobs=-1, random_state=123)</pre></div></div></div></div></div>"
            ],
            "text/plain": [
              "RandomForestClassifier(class_weight='balanced', max_depth=5, max_leaf_nodes=10,\n",
              "                       n_estimators=150, n_jobs=-1, random_state=123)"
            ]
          },
          "execution_count": 45,
          "metadata": {},
          "output_type": "execute_result"
        }
      ],
      "source": [
        "from sklearn.ensemble import RandomForestClassifier\n",
        "X_train_modelo3=X_train_base1\n",
        "X_test_modelo3=X_test_base1\n",
        "\n",
        "ranfor = RandomForestClassifier(class_weight=\"balanced\",n_estimators = 150,criterion= 'gini', max_depth= 5,max_leaf_nodes = 10,n_jobs= -1,random_state = 123)\n",
        "ranfor.fit(X_train_modelo3, y_train)"
      ]
    },
    {
      "cell_type": "markdown",
      "metadata": {},
      "source": [
        "Metricas de desempeño"
      ]
    },
    {
      "cell_type": "code",
      "execution_count": 46,
      "metadata": {},
      "outputs": [
        {
          "name": "stdout",
          "output_type": "stream",
          "text": [
            "Train - Accuracy : 0.7939342403628118\n",
            "Train - classification report:\n",
            "               precision    recall  f1-score   support\n",
            "\n",
            "           0       0.94      0.81      0.87      2954\n",
            "           1       0.42      0.73      0.54       574\n",
            "\n",
            "    accuracy                           0.79      3528\n",
            "   macro avg       0.68      0.77      0.70      3528\n",
            "weighted avg       0.86      0.79      0.81      3528\n",
            "\n",
            "Test - Accuracy : 0.8027210884353742\n",
            "Test - classification report :               precision    recall  f1-score   support\n",
            "\n",
            "           0       0.93      0.83      0.88       745\n",
            "           1       0.42      0.68      0.52       137\n",
            "\n",
            "    accuracy                           0.80       882\n",
            "   macro avg       0.68      0.75      0.70       882\n",
            "weighted avg       0.85      0.80      0.82       882\n",
            "\n"
          ]
        }
      ],
      "source": [
        "\n",
        "print (\"Train - Accuracy :\", metrics.accuracy_score(y_train, ranfor.predict(X_train_modelo3)))\n",
        "print (\"Train - classification report:\\n\", metrics.classification_report(y_train, ranfor.predict(X_train_modelo3)))\n",
        "print (\"Test - Accuracy :\", metrics.accuracy_score(y_test, ranfor.predict(X_test_modelo3)))\n",
        "print (\"Test - classification report :\", metrics.classification_report(y_test, ranfor.predict(X_test_modelo3)))"
      ]
    },
    {
      "cell_type": "markdown",
      "metadata": {},
      "source": [
        "La exactitud del modelo es 80%, mejorando los resultados del modelo regresion logistica para la tabla de datos 1.\n",
        "Precision: El 42% de los predichos a desertar realmente lo haran, mejorando los resultados del modelo regresion logistica para la tabla de datos 1.\n",
        "Recall: este modelo es capaz de identificar el 68% de los empleados que realmente van a renunciar, desmejorando los resultados del modelo de regresion logistica para la tabla 1.\n",
        "Este modelo mejora en poca cantidad el modelo de regresion logistica.\n",
        "\n",
        "\n",
        "\n"
      ]
    },
    {
      "cell_type": "markdown",
      "metadata": {},
      "source": [
        " Matriz de confusión "
      ]
    },
    {
      "cell_type": "code",
      "execution_count": 47,
      "metadata": {},
      "outputs": [
        {
          "data": {
            "image/png": "[encoded data removed]",
            "text/plain": [
              "<Figure size 640x480 with 2 Axes>"
            ]
          },
          "metadata": {},
          "output_type": "display_data"
        }
      ],
      "source": [
        "from sklearn.metrics import confusion_matrix, ConfusionMatrixDisplay\n",
        "# Matriz de confusion\n",
        "cm= confusion_matrix(y_test, ranfor.predict(X_test_modelo3))\n",
        "# Visualización de la matriz de confusion\n",
        "cm_display = ConfusionMatrixDisplay(confusion_matrix = cm, display_labels=['No renuncia', 'renuncia'])\n",
        "cm_display.plot()\n",
        "plt.show()"
      ]
    },
    {
      "cell_type": "markdown",
      "metadata": {},
      "source": [
        "### Modelo con tuning de hiperparametros"
      ]
    },
    {
      "cell_type": "markdown",
      "metadata": {},
      "source": [
        "Cuadricula de hiperparametros"
      ]
    },
    {
      "cell_type": "code",
      "execution_count": 48,
      "metadata": {},
      "outputs": [],
      "source": [
        "parameters = {'max_depth': [ 1, 3, 5, 7],\n",
        "              'max_features': [0.05,0.4, 1],\n",
        "              'max_leaf_nodes': [4,7,9, 15],\n",
        "              'min_samples_leaf': [0.5, 1,3,5],\n",
        "              'n_estimators': [10, 20, 30, 40]}"
      ]
    },
    {
      "cell_type": "markdown",
      "metadata": {},
      "source": [
        "Busqueda en cuadricula"
      ]
    },
    {
      "cell_type": "code",
      "execution_count": 49,
      "metadata": {},
      "outputs": [
        {
          "name": "stdout",
          "output_type": "stream",
          "text": [
            "Best Params:  {'max_depth': 5, 'max_features': 0.4, 'max_leaf_nodes': 15, 'min_samples_leaf': 5, 'n_estimators': 10}\n",
            "Best Score:  -0.03409489706257858\n"
          ]
        }
      ],
      "source": [
        "#Definición del modelo\n",
        "ranfor = RandomForestClassifier(random_state = 123)\n",
        "\n",
        "grid_search = GridSearchCV(ranfor, parameters, scoring='r2', cv=5, n_jobs=-1)\n",
        "\n",
        "# Iniciamos la busqueda\n",
        "grid_result = grid_search.fit(X_train_modelo3, y_train)\n",
        "\n",
        "print('Best Params: ', grid_result.best_params_)\n",
        "print('Best Score: ', grid_result.best_score_)"
      ]
    },
    {
      "cell_type": "markdown",
      "metadata": {},
      "source": [
        "Construccion del modelo"
      ]
    },
    {
      "cell_type": "code",
      "execution_count": 50,
      "metadata": {},
      "outputs": [
        {
          "data": {
            "text/html": [
              "<style>#sk-container-id-2 {color: black;background-color: white;}#sk-container-id-2 pre{padding: 0;}#sk-container-id-2 div.sk-toggleable {background-color: white;}#sk-container-id-2 label.sk-toggleable__label {cursor: pointer;display: block;width: 100%;margin-bottom: 0;padding: 0.3em;box-sizing: border-box;text-align: center;}#sk-container-id-2 label.sk-toggleable__label-arrow:before {content: \"▸\";float: left;margin-right: 0.25em;color: #696969;}#sk-container-id-2 label.sk-toggleable__label-arrow:hover:before {color: black;}#sk-container-id-2 div.sk-estimator:hover label.sk-toggleable__label-arrow:before {color: black;}#sk-container-id-2 div.sk-toggleable__content {max-height: 0;max-width: 0;overflow: hidden;text-align: left;background-color: #f0f8ff;}#sk-container-id-2 div.sk-toggleable__content pre {margin: 0.2em;color: black;border-radius: 0.25em;background-color: #f0f8ff;}#sk-container-id-2 input.sk-toggleable__control:checked~div.sk-toggleable__content {max-height: 200px;max-width: 100%;overflow: auto;}#sk-container-id-2 input.sk-toggleable__control:checked~label.sk-toggleable__label-arrow:before {content: \"▾\";}#sk-container-id-2 div.sk-estimator input.sk-toggleable__control:checked~label.sk-toggleable__label {background-color: #d4ebff;}#sk-container-id-2 div.sk-label input.sk-toggleable__control:checked~label.sk-toggleable__label {background-color: #d4ebff;}#sk-container-id-2 input.sk-hidden--visually {border: 0;clip: rect(1px 1px 1px 1px);clip: rect(1px, 1px, 1px, 1px);height: 1px;margin: -1px;overflow: hidden;padding: 0;position: absolute;width: 1px;}#sk-container-id-2 div.sk-estimator {font-family: monospace;background-color: #f0f8ff;border: 1px dotted black;border-radius: 0.25em;box-sizing: border-box;margin-bottom: 0.5em;}#sk-container-id-2 div.sk-estimator:hover {background-color: #d4ebff;}#sk-container-id-2 div.sk-parallel-item::after {content: \"\";width: 100%;border-bottom: 1px solid gray;flex-grow: 1;}#sk-container-id-2 div.sk-label:hover label.sk-toggleable__label {background-color: #d4ebff;}#sk-container-id-2 div.sk-serial::before {content: \"\";position: absolute;border-left: 1px solid gray;box-sizing: border-box;top: 0;bottom: 0;left: 50%;z-index: 0;}#sk-container-id-2 div.sk-serial {display: flex;flex-direction: column;align-items: center;background-color: white;padding-right: 0.2em;padding-left: 0.2em;position: relative;}#sk-container-id-2 div.sk-item {position: relative;z-index: 1;}#sk-container-id-2 div.sk-parallel {display: flex;align-items: stretch;justify-content: center;background-color: white;position: relative;}#sk-container-id-2 div.sk-item::before, #sk-container-id-2 div.sk-parallel-item::before {content: \"\";position: absolute;border-left: 1px solid gray;box-sizing: border-box;top: 0;bottom: 0;left: 50%;z-index: -1;}#sk-container-id-2 div.sk-parallel-item {display: flex;flex-direction: column;z-index: 1;position: relative;background-color: white;}#sk-container-id-2 div.sk-parallel-item:first-child::after {align-self: flex-end;width: 50%;}#sk-container-id-2 div.sk-parallel-item:last-child::after {align-self: flex-start;width: 50%;}#sk-container-id-2 div.sk-parallel-item:only-child::after {width: 0;}#sk-container-id-2 div.sk-dashed-wrapped {border: 1px dashed gray;margin: 0 0.4em 0.5em 0.4em;box-sizing: border-box;padding-bottom: 0.4em;background-color: white;}#sk-container-id-2 div.sk-label label {font-family: monospace;font-weight: bold;display: inline-block;line-height: 1.2em;}#sk-container-id-2 div.sk-label-container {text-align: center;}#sk-container-id-2 div.sk-container {/* jupyter's `normalize.less` sets `[hidden] { display: none; }` but bootstrap.min.css set `[hidden] { display: none !important; }` so we also need the `!important` here to be able to override the default hidden behavior on the sphinx rendered scikit-learn.org. See: https://github.com/scikit-learn/scikit-learn/issues/21755 */display: inline-block !important;position: relative;}#sk-container-id-2 div.sk-text-repr-fallback {display: none;}</style><div id=\"sk-container-id-2\" class=\"sk-top-container\"><div class=\"sk-text-repr-fallback\"><pre>RandomForestClassifier(class_weight=&#x27;balanced&#x27;, max_depth=5, max_features=0.4,\n",
              "                       max_leaf_nodes=15, min_samples_leaf=3, n_estimators=10,\n",
              "                       n_jobs=-1, random_state=123)</pre><b>In a Jupyter environment, please rerun this cell to show the HTML representation or trust the notebook. <br />On GitHub, the HTML representation is unable to render, please try loading this page with nbviewer.org.</b></div><div class=\"sk-container\" hidden><div class=\"sk-item\"><div class=\"sk-estimator sk-toggleable\"><input class=\"sk-toggleable__control sk-hidden--visually\" id=\"sk-estimator-id-2\" type=\"checkbox\" checked><label for=\"sk-estimator-id-2\" class=\"sk-toggleable__label sk-toggleable__label-arrow\">RandomForestClassifier</label><div class=\"sk-toggleable__content\"><pre>RandomForestClassifier(class_weight=&#x27;balanced&#x27;, max_depth=5, max_features=0.4,\n",
              "                       max_leaf_nodes=15, min_samples_leaf=3, n_estimators=10,\n",
              "                       n_jobs=-1, random_state=123)</pre></div></div></div></div></div>"
            ],
            "text/plain": [
              "RandomForestClassifier(class_weight='balanced', max_depth=5, max_features=0.4,\n",
              "                       max_leaf_nodes=15, min_samples_leaf=3, n_estimators=10,\n",
              "                       n_jobs=-1, random_state=123)"
            ]
          },
          "execution_count": 50,
          "metadata": {},
          "output_type": "execute_result"
        }
      ],
      "source": [
        "from sklearn.ensemble import RandomForestClassifier\n",
        "X_train_modelo3=X_train_base1\n",
        "X_test_modelo3=X_test_base1\n",
        "\n",
        "ranfor = RandomForestClassifier(class_weight=\"balanced\", max_features=0.4, n_estimators = 10, max_depth= 5,max_leaf_nodes = 15, min_samples_leaf=3, n_jobs= -1,random_state = 123)\n",
        "ranfor.fit(X_train_modelo3, y_train)"
      ]
    },
    {
      "cell_type": "markdown",
      "metadata": {},
      "source": [
        "Metricas de desempeño"
      ]
    },
    {
      "cell_type": "code",
      "execution_count": 51,
      "metadata": {},
      "outputs": [
        {
          "name": "stdout",
          "output_type": "stream",
          "text": [
            "Train - Accuracy : 0.7947845804988662\n",
            "Train - classification report:\n",
            "               precision    recall  f1-score   support\n",
            "\n",
            "           0       0.94      0.81      0.87      2954\n",
            "           1       0.42      0.72      0.53       574\n",
            "\n",
            "    accuracy                           0.79      3528\n",
            "   macro avg       0.68      0.77      0.70      3528\n",
            "weighted avg       0.85      0.79      0.81      3528\n",
            "\n",
            "Test - Accuracy : 0.8027210884353742\n",
            "Test - classification report :               precision    recall  f1-score   support\n",
            "\n",
            "           0       0.93      0.83      0.88       745\n",
            "           1       0.41      0.65      0.51       137\n",
            "\n",
            "    accuracy                           0.80       882\n",
            "   macro avg       0.67      0.74      0.69       882\n",
            "weighted avg       0.85      0.80      0.82       882\n",
            "\n"
          ]
        }
      ],
      "source": [
        "\n",
        "print (\"Train - Accuracy :\", metrics.accuracy_score(y_train, ranfor.predict(X_train_modelo3)))\n",
        "print (\"Train - classification report:\\n\", metrics.classification_report(y_train, ranfor.predict(X_train_modelo3)))\n",
        "print (\"Test - Accuracy :\", metrics.accuracy_score(y_test, ranfor.predict(X_test_modelo3)))\n",
        "print (\"Test - classification report :\", metrics.classification_report(y_test, ranfor.predict(X_test_modelo3)))"
      ]
    },
    {
      "cell_type": "markdown",
      "metadata": {},
      "source": [
        "La exactitud del modelo tuneado es 80%, igualando los resultados del modelo regresion logistica para la tabla de datos 1.\n",
        "Precision: El 41% de los predichos a desertar realmente lo haran, desmejorando los resultados del modelo regresion logistica para la tabla de datos 1.\n",
        "Recall: este modelo es capaz de identificar el 65% de los empleados que realmente van a renunciar, desmejorando los resultados del modelo de regresion logistica para la tabla 1.\n",
        "Este modelo desmejora en poca cantidad el modelo de regresion logistica, se debe de buscar nuvos hiperparametros para optimizar el modelo.\n",
        "\n"
      ]
    },
    {
      "cell_type": "markdown",
      "metadata": {},
      "source": [
        "### 2.2 Modelo random forest con metodo wrapper"
      ]
    },
    {
      "cell_type": "markdown",
      "metadata": {},
      "source": [
        "Construccion del modelo"
      ]
    },
    {
      "cell_type": "code",
      "execution_count": 52,
      "metadata": {},
      "outputs": [
        {
          "data": {
            "text/html": [
              "<style>#sk-container-id-3 {color: black;background-color: white;}#sk-container-id-3 pre{padding: 0;}#sk-container-id-3 div.sk-toggleable {background-color: white;}#sk-container-id-3 label.sk-toggleable__label {cursor: pointer;display: block;width: 100%;margin-bottom: 0;padding: 0.3em;box-sizing: border-box;text-align: center;}#sk-container-id-3 label.sk-toggleable__label-arrow:before {content: \"▸\";float: left;margin-right: 0.25em;color: #696969;}#sk-container-id-3 label.sk-toggleable__label-arrow:hover:before {color: black;}#sk-container-id-3 div.sk-estimator:hover label.sk-toggleable__label-arrow:before {color: black;}#sk-container-id-3 div.sk-toggleable__content {max-height: 0;max-width: 0;overflow: hidden;text-align: left;background-color: #f0f8ff;}#sk-container-id-3 div.sk-toggleable__content pre {margin: 0.2em;color: black;border-radius: 0.25em;background-color: #f0f8ff;}#sk-container-id-3 input.sk-toggleable__control:checked~div.sk-toggleable__content {max-height: 200px;max-width: 100%;overflow: auto;}#sk-container-id-3 input.sk-toggleable__control:checked~label.sk-toggleable__label-arrow:before {content: \"▾\";}#sk-container-id-3 div.sk-estimator input.sk-toggleable__control:checked~label.sk-toggleable__label {background-color: #d4ebff;}#sk-container-id-3 div.sk-label input.sk-toggleable__control:checked~label.sk-toggleable__label {background-color: #d4ebff;}#sk-container-id-3 input.sk-hidden--visually {border: 0;clip: rect(1px 1px 1px 1px);clip: rect(1px, 1px, 1px, 1px);height: 1px;margin: -1px;overflow: hidden;padding: 0;position: absolute;width: 1px;}#sk-container-id-3 div.sk-estimator {font-family: monospace;background-color: #f0f8ff;border: 1px dotted black;border-radius: 0.25em;box-sizing: border-box;margin-bottom: 0.5em;}#sk-container-id-3 div.sk-estimator:hover {background-color: #d4ebff;}#sk-container-id-3 div.sk-parallel-item::after {content: \"\";width: 100%;border-bottom: 1px solid gray;flex-grow: 1;}#sk-container-id-3 div.sk-label:hover label.sk-toggleable__label {background-color: #d4ebff;}#sk-container-id-3 div.sk-serial::before {content: \"\";position: absolute;border-left: 1px solid gray;box-sizing: border-box;top: 0;bottom: 0;left: 50%;z-index: 0;}#sk-container-id-3 div.sk-serial {display: flex;flex-direction: column;align-items: center;background-color: white;padding-right: 0.2em;padding-left: 0.2em;position: relative;}#sk-container-id-3 div.sk-item {position: relative;z-index: 1;}#sk-container-id-3 div.sk-parallel {display: flex;align-items: stretch;justify-content: center;background-color: white;position: relative;}#sk-container-id-3 div.sk-item::before, #sk-container-id-3 div.sk-parallel-item::before {content: \"\";position: absolute;border-left: 1px solid gray;box-sizing: border-box;top: 0;bottom: 0;left: 50%;z-index: -1;}#sk-container-id-3 div.sk-parallel-item {display: flex;flex-direction: column;z-index: 1;position: relative;background-color: white;}#sk-container-id-3 div.sk-parallel-item:first-child::after {align-self: flex-end;width: 50%;}#sk-container-id-3 div.sk-parallel-item:last-child::after {align-self: flex-start;width: 50%;}#sk-container-id-3 div.sk-parallel-item:only-child::after {width: 0;}#sk-container-id-3 div.sk-dashed-wrapped {border: 1px dashed gray;margin: 0 0.4em 0.5em 0.4em;box-sizing: border-box;padding-bottom: 0.4em;background-color: white;}#sk-container-id-3 div.sk-label label {font-family: monospace;font-weight: bold;display: inline-block;line-height: 1.2em;}#sk-container-id-3 div.sk-label-container {text-align: center;}#sk-container-id-3 div.sk-container {/* jupyter's `normalize.less` sets `[hidden] { display: none; }` but bootstrap.min.css set `[hidden] { display: none !important; }` so we also need the `!important` here to be able to override the default hidden behavior on the sphinx rendered scikit-learn.org. See: https://github.com/scikit-learn/scikit-learn/issues/21755 */display: inline-block !important;position: relative;}#sk-container-id-3 div.sk-text-repr-fallback {display: none;}</style><div id=\"sk-container-id-3\" class=\"sk-top-container\"><div class=\"sk-text-repr-fallback\"><pre>RandomForestClassifier(class_weight=&#x27;balanced&#x27;, max_depth=5, max_leaf_nodes=10,\n",
              "                       n_estimators=150, n_jobs=-1, random_state=123)</pre><b>In a Jupyter environment, please rerun this cell to show the HTML representation or trust the notebook. <br />On GitHub, the HTML representation is unable to render, please try loading this page with nbviewer.org.</b></div><div class=\"sk-container\" hidden><div class=\"sk-item\"><div class=\"sk-estimator sk-toggleable\"><input class=\"sk-toggleable__control sk-hidden--visually\" id=\"sk-estimator-id-3\" type=\"checkbox\" checked><label for=\"sk-estimator-id-3\" class=\"sk-toggleable__label sk-toggleable__label-arrow\">RandomForestClassifier</label><div class=\"sk-toggleable__content\"><pre>RandomForestClassifier(class_weight=&#x27;balanced&#x27;, max_depth=5, max_leaf_nodes=10,\n",
              "                       n_estimators=150, n_jobs=-1, random_state=123)</pre></div></div></div></div></div>"
            ],
            "text/plain": [
              "RandomForestClassifier(class_weight='balanced', max_depth=5, max_leaf_nodes=10,\n",
              "                       n_estimators=150, n_jobs=-1, random_state=123)"
            ]
          },
          "execution_count": 52,
          "metadata": {},
          "output_type": "execute_result"
        }
      ],
      "source": [
        "from sklearn.ensemble import RandomForestClassifier\n",
        "X_train_modelo3_2=X_train_base2\n",
        "X_test_modelo3_2=X_test_base2\n",
        "\n",
        "ranfor = RandomForestClassifier(class_weight=\"balanced\",n_estimators = 150,criterion= 'gini', max_depth= 5,max_leaf_nodes = 10,n_jobs= -1,random_state = 123)\n",
        "ranfor.fit(X_train_modelo3_2, y_train)"
      ]
    },
    {
      "cell_type": "markdown",
      "metadata": {},
      "source": [
        "Metricas de desempeño"
      ]
    },
    {
      "cell_type": "code",
      "execution_count": 53,
      "metadata": {},
      "outputs": [
        {
          "name": "stdout",
          "output_type": "stream",
          "text": [
            "Train - Accuracy : 0.7953514739229025\n",
            "Train - classification report:\n",
            "               precision    recall  f1-score   support\n",
            "\n",
            "           0       0.94      0.81      0.87      2954\n",
            "           1       0.42      0.72      0.53       574\n",
            "\n",
            "    accuracy                           0.80      3528\n",
            "   macro avg       0.68      0.77      0.70      3528\n",
            "weighted avg       0.85      0.80      0.81      3528\n",
            "\n",
            "Test - Accuracy : 0.7959183673469388\n",
            "Test - classification report :               precision    recall  f1-score   support\n",
            "\n",
            "           0       0.93      0.82      0.87       745\n",
            "           1       0.41      0.68      0.51       137\n",
            "\n",
            "    accuracy                           0.80       882\n",
            "   macro avg       0.67      0.75      0.69       882\n",
            "weighted avg       0.85      0.80      0.81       882\n",
            "\n"
          ]
        }
      ],
      "source": [
        "\n",
        "print (\"Train - Accuracy :\", metrics.accuracy_score(y_train, ranfor.predict(X_train_modelo3_2)))\n",
        "print (\"Train - classification report:\\n\", metrics.classification_report(y_train, ranfor.predict(X_train_modelo3_2)))\n",
        "print (\"Test - Accuracy :\", metrics.accuracy_score(y_test, ranfor.predict(X_test_modelo3_2)))\n",
        "print (\"Test - classification report :\", metrics.classification_report(y_test, ranfor.predict(X_test_modelo3_2)))"
      ]
    },
    {
      "cell_type": "markdown",
      "metadata": {},
      "source": [
        "La exactitud del modelo es 79%, mejorando los resultados del modelo regresion logistica para la tabla de datos 2.\n",
        "Precision: El 41% de los predichos a desertar realmente lo haran, mejorando los resultados del modelo regresion logistica para la tabla de datos 2.\n",
        "Recall: este modelo es capaz de identificar el 68% de los empleados que realmente van a renunciar, desmejorando los resultados del modelo de regresion logistica para la tabla 2.\n",
        "Este modelo mejora en poca cantidad el modelo de regresion logistica.\n",
        "\n",
        "Finalmente los dos modelos con las dos tablas presentan similares resultados\n"
      ]
    },
    {
      "cell_type": "markdown",
      "metadata": {},
      "source": [
        " Matriz de Confusión"
      ]
    },
    {
      "cell_type": "code",
      "execution_count": 54,
      "metadata": {},
      "outputs": [
        {
          "data": {
            "image/png": "[encoded data removed]",
            "text/plain": [
              "<Figure size 640x480 with 2 Axes>"
            ]
          },
          "metadata": {},
          "output_type": "display_data"
        }
      ],
      "source": [
        "from sklearn.metrics import confusion_matrix, ConfusionMatrixDisplay\n",
        "# Matriz de confusion\n",
        "cm= confusion_matrix(y_test, ranfor.predict(X_test_modelo3_2))\n",
        "# Visualización de la matriz de confusion\n",
        "cm_display = ConfusionMatrixDisplay(confusion_matrix = cm,  display_labels=['No renuncia', 'renuncia'])\n",
        "cm_display.plot()\n",
        "plt.show()"
      ]
    },
    {
      "cell_type": "markdown",
      "metadata": {},
      "source": [
        "# Modelo 3 Gradient Boosting Classifier"
      ]
    },
    {
      "cell_type": "markdown",
      "metadata": {},
      "source": [
        "### 3.1 Modelo de Gradient Boosting con metodo integrado"
      ]
    },
    {
      "cell_type": "markdown",
      "metadata": {},
      "source": [
        "Construccion del modelo"
      ]
    },
    {
      "cell_type": "code",
      "execution_count": 22,
      "metadata": {},
      "outputs": [
        {
          "data": {
            "text/html": [
              "<style>#sk-container-id-1 {color: black;background-color: white;}#sk-container-id-1 pre{padding: 0;}#sk-container-id-1 div.sk-toggleable {background-color: white;}#sk-container-id-1 label.sk-toggleable__label {cursor: pointer;display: block;width: 100%;margin-bottom: 0;padding: 0.3em;box-sizing: border-box;text-align: center;}#sk-container-id-1 label.sk-toggleable__label-arrow:before {content: \"▸\";float: left;margin-right: 0.25em;color: #696969;}#sk-container-id-1 label.sk-toggleable__label-arrow:hover:before {color: black;}#sk-container-id-1 div.sk-estimator:hover label.sk-toggleable__label-arrow:before {color: black;}#sk-container-id-1 div.sk-toggleable__content {max-height: 0;max-width: 0;overflow: hidden;text-align: left;background-color: #f0f8ff;}#sk-container-id-1 div.sk-toggleable__content pre {margin: 0.2em;color: black;border-radius: 0.25em;background-color: #f0f8ff;}#sk-container-id-1 input.sk-toggleable__control:checked~div.sk-toggleable__content {max-height: 200px;max-width: 100%;overflow: auto;}#sk-container-id-1 input.sk-toggleable__control:checked~label.sk-toggleable__label-arrow:before {content: \"▾\";}#sk-container-id-1 div.sk-estimator input.sk-toggleable__control:checked~label.sk-toggleable__label {background-color: #d4ebff;}#sk-container-id-1 div.sk-label input.sk-toggleable__control:checked~label.sk-toggleable__label {background-color: #d4ebff;}#sk-container-id-1 input.sk-hidden--visually {border: 0;clip: rect(1px 1px 1px 1px);clip: rect(1px, 1px, 1px, 1px);height: 1px;margin: -1px;overflow: hidden;padding: 0;position: absolute;width: 1px;}#sk-container-id-1 div.sk-estimator {font-family: monospace;background-color: #f0f8ff;border: 1px dotted black;border-radius: 0.25em;box-sizing: border-box;margin-bottom: 0.5em;}#sk-container-id-1 div.sk-estimator:hover {background-color: #d4ebff;}#sk-container-id-1 div.sk-parallel-item::after {content: \"\";width: 100%;border-bottom: 1px solid gray;flex-grow: 1;}#sk-container-id-1 div.sk-label:hover label.sk-toggleable__label {background-color: #d4ebff;}#sk-container-id-1 div.sk-serial::before {content: \"\";position: absolute;border-left: 1px solid gray;box-sizing: border-box;top: 0;bottom: 0;left: 50%;z-index: 0;}#sk-container-id-1 div.sk-serial {display: flex;flex-direction: column;align-items: center;background-color: white;padding-right: 0.2em;padding-left: 0.2em;position: relative;}#sk-container-id-1 div.sk-item {position: relative;z-index: 1;}#sk-container-id-1 div.sk-parallel {display: flex;align-items: stretch;justify-content: center;background-color: white;position: relative;}#sk-container-id-1 div.sk-item::before, #sk-container-id-1 div.sk-parallel-item::before {content: \"\";position: absolute;border-left: 1px solid gray;box-sizing: border-box;top: 0;bottom: 0;left: 50%;z-index: -1;}#sk-container-id-1 div.sk-parallel-item {display: flex;flex-direction: column;z-index: 1;position: relative;background-color: white;}#sk-container-id-1 div.sk-parallel-item:first-child::after {align-self: flex-end;width: 50%;}#sk-container-id-1 div.sk-parallel-item:last-child::after {align-self: flex-start;width: 50%;}#sk-container-id-1 div.sk-parallel-item:only-child::after {width: 0;}#sk-container-id-1 div.sk-dashed-wrapped {border: 1px dashed gray;margin: 0 0.4em 0.5em 0.4em;box-sizing: border-box;padding-bottom: 0.4em;background-color: white;}#sk-container-id-1 div.sk-label label {font-family: monospace;font-weight: bold;display: inline-block;line-height: 1.2em;}#sk-container-id-1 div.sk-label-container {text-align: center;}#sk-container-id-1 div.sk-container {/* jupyter's `normalize.less` sets `[hidden] { display: none; }` but bootstrap.min.css set `[hidden] { display: none !important; }` so we also need the `!important` here to be able to override the default hidden behavior on the sphinx rendered scikit-learn.org. See: https://github.com/scikit-learn/scikit-learn/issues/21755 */display: inline-block !important;position: relative;}#sk-container-id-1 div.sk-text-repr-fallback {display: none;}</style><div id=\"sk-container-id-1\" class=\"sk-top-container\"><div class=\"sk-text-repr-fallback\"><pre>GradientBoostingClassifier(max_features=4, random_state=123)</pre><b>In a Jupyter environment, please rerun this cell to show the HTML representation or trust the notebook. <br />On GitHub, the HTML representation is unable to render, please try loading this page with nbviewer.org.</b></div><div class=\"sk-container\" hidden><div class=\"sk-item\"><div class=\"sk-estimator sk-toggleable\"><input class=\"sk-toggleable__control sk-hidden--visually\" id=\"sk-estimator-id-1\" type=\"checkbox\" checked><label for=\"sk-estimator-id-1\" class=\"sk-toggleable__label sk-toggleable__label-arrow\">GradientBoostingClassifier</label><div class=\"sk-toggleable__content\"><pre>GradientBoostingClassifier(max_features=4, random_state=123)</pre></div></div></div></div></div>"
            ],
            "text/plain": [
              "GradientBoostingClassifier(max_features=4, random_state=123)"
            ]
          },
          "execution_count": 22,
          "metadata": {},
          "output_type": "execute_result"
        }
      ],
      "source": [
        "from sklearn.ensemble import GradientBoostingClassifier\n",
        "X_train_modelo4= x_train_res[:, X_new]\n",
        "X_test_modelo4 = X_test_std[:, X_new]\n",
        "gboos = GradientBoostingClassifier( n_estimators = 100, learning_rate= 0.1, max_features = 4, random_state = 123)\n",
        "gboos.fit(X_train_modelo4, y_train_res)"
      ]
    },
    {
      "cell_type": "markdown",
      "metadata": {},
      "source": [
        "Metricas de desempeño"
      ]
    },
    {
      "cell_type": "code",
      "execution_count": 56,
      "metadata": {},
      "outputs": [
        {
          "name": "stdout",
          "output_type": "stream",
          "text": [
            "Train - Accuracy : 0.8992890995260664\n",
            "Train - classification report:\n",
            "               precision    recall  f1-score   support\n",
            "\n",
            "           0       0.89      0.91      0.90      2954\n",
            "           1       0.91      0.89      0.90      2954\n",
            "\n",
            "    accuracy                           0.90      5908\n",
            "   macro avg       0.90      0.90      0.90      5908\n",
            "weighted avg       0.90      0.90      0.90      5908\n",
            "\n",
            "Test - Accuracy : 0.8741496598639455\n",
            "Test - classification report :               precision    recall  f1-score   support\n",
            "\n",
            "           0       0.93      0.92      0.92       745\n",
            "           1       0.59      0.65      0.62       137\n",
            "\n",
            "    accuracy                           0.87       882\n",
            "   macro avg       0.76      0.78      0.77       882\n",
            "weighted avg       0.88      0.87      0.88       882\n",
            "\n"
          ]
        }
      ],
      "source": [
        "print (\"Train - Accuracy :\", metrics.accuracy_score(y_train_res, gboos.predict(X_train_modelo4)))\n",
        "print (\"Train - classification report:\\n\", metrics.classification_report(y_train_res, gboos.predict(X_train_modelo4)))\n",
        "print (\"Test - Accuracy :\", metrics.accuracy_score(y_test, gboos.predict(X_test_modelo4)))\n",
        "print (\"Test - classification report :\", metrics.classification_report(y_test, gboos.predict(X_test_modelo4)))"
      ]
    },
    {
      "cell_type": "markdown",
      "metadata": {},
      "source": [
        "La exactitud del modelo es 87%, mejorando los resultados del modelo de random foreste para la tabla de datos 1.\n",
        "Precision: El 59% de los predichos a desertar realmente lo haran, mejorando los resultados del modelo regresion logistica para la tabla de datos 1.\n",
        "Recall: este modelo es capaz de identificar el 65% de los empleados que realmente van a renunciar, desmejorando los resultados del modelo de regresion logistica para la tabla 1.\n",
        "Este modelo mejora el modelo de random forest aplicado a la tabla 1, aca se sospecha que este puede ser de los mejores modelos a tomar por la empresa"
      ]
    },
    {
      "cell_type": "markdown",
      "metadata": {},
      "source": [
        " Matriz de confusión"
      ]
    },
    {
      "cell_type": "code",
      "execution_count": 57,
      "metadata": {},
      "outputs": [
        {
          "data": {
            "image/png": "[encoded data removed]",
            "text/plain": [
              "<Figure size 640x480 with 2 Axes>"
            ]
          },
          "metadata": {},
          "output_type": "display_data"
        }
      ],
      "source": [
        "from sklearn.metrics import confusion_matrix, ConfusionMatrixDisplay\n",
        "cm1= confusion_matrix(y_test, gboos.predict(X_test_modelo4))\n",
        "cm1_display = ConfusionMatrixDisplay(confusion_matrix = cm1,  display_labels=['No renuncia', 'renuncia'])\n",
        "cm1_display.plot()\n",
        "plt.show()"
      ]
    },
    {
      "cell_type": "markdown",
      "metadata": {},
      "source": [
        "Curva ROC"
      ]
    },
    {
      "cell_type": "code",
      "execution_count": 58,
      "metadata": {},
      "outputs": [
        {
          "data": {
            "image/png": "[encoded data removed]",
            "text/plain": [
              "<Figure size 640x480 with 1 Axes>"
            ]
          },
          "metadata": {},
          "output_type": "display_data"
        }
      ],
      "source": [
        "from sklearn.metrics import roc_curve, auc, roc_auc_score\n",
        "y_pred = gboos.predict_proba(X_test_modelo4)[::,1]\n",
        "fpr, tpr,_ =roc_curve(y_test, y_pred)\n",
        "# auc=auc(fpr, tpr) #opción 1\n",
        "auc = roc_auc_score(y_test, y_pred) #opción 2\n",
        "plt.plot(fpr, tpr,marker='.',label='Logistic (auc= %0.3f)'%auc)\n",
        "plt.xlabel('False positive rate')\n",
        "plt.ylabel('True positive rate')\n",
        "plt.legend()\n",
        "plt.show()"
      ]
    },
    {
      "cell_type": "markdown",
      "metadata": {},
      "source": [
        "### Modelo con tunning de hiperparametros"
      ]
    },
    {
      "cell_type": "markdown",
      "metadata": {},
      "source": [
        "Cuadricula de hiperparametros"
      ]
    },
    {
      "cell_type": "code",
      "execution_count": 59,
      "metadata": {},
      "outputs": [],
      "source": [
        "parameters = {'learning_rate': [0.05, 0.1,0.3],\n",
        "              'max_features': [2, 4, 6, 8],\n",
        "              'max_depth': [4,6,8,10,12],\n",
        "              'n_estimators': [80, 100, 150, 200]}"
      ]
    },
    {
      "cell_type": "markdown",
      "metadata": {},
      "source": [
        "Busqueda en cuadricula"
      ]
    },
    {
      "cell_type": "code",
      "execution_count": 60,
      "metadata": {},
      "outputs": [
        {
          "name": "stdout",
          "output_type": "stream",
          "text": [
            "Best Params:  {'learning_rate': 0.3, 'max_depth': 10, 'max_features': 2, 'n_estimators': 80}\n",
            "Best Score:  0.969539705755829\n"
          ]
        }
      ],
      "source": [
        "#Definición del modelo\n",
        "from sklearn.ensemble import GradientBoostingClassifier\n",
        "ranfor = GradientBoostingClassifier(random_state = 123)\n",
        "\n",
        "grid_search = GridSearchCV(ranfor, parameters, scoring='r2', cv=5, n_jobs=-1)\n",
        "\n",
        "# Iniciamos la busqueda\n",
        "grid_result = grid_search.fit(X_train_modelo4, y_train_res)\n",
        "\n",
        "print('Best Params: ', grid_result.best_params_)\n",
        "print('Best Score: ', grid_result.best_score_)"
      ]
    },
    {
      "cell_type": "markdown",
      "metadata": {},
      "source": [
        "Construccion del modelo"
      ]
    },
    {
      "cell_type": "code",
      "execution_count": 37,
      "metadata": {},
      "outputs": [
        {
          "data": {
            "text/html": [
              "<style>#sk-container-id-4 {color: black;background-color: white;}#sk-container-id-4 pre{padding: 0;}#sk-container-id-4 div.sk-toggleable {background-color: white;}#sk-container-id-4 label.sk-toggleable__label {cursor: pointer;display: block;width: 100%;margin-bottom: 0;padding: 0.3em;box-sizing: border-box;text-align: center;}#sk-container-id-4 label.sk-toggleable__label-arrow:before {content: \"▸\";float: left;margin-right: 0.25em;color: #696969;}#sk-container-id-4 label.sk-toggleable__label-arrow:hover:before {color: black;}#sk-container-id-4 div.sk-estimator:hover label.sk-toggleable__label-arrow:before {color: black;}#sk-container-id-4 div.sk-toggleable__content {max-height: 0;max-width: 0;overflow: hidden;text-align: left;background-color: #f0f8ff;}#sk-container-id-4 div.sk-toggleable__content pre {margin: 0.2em;color: black;border-radius: 0.25em;background-color: #f0f8ff;}#sk-container-id-4 input.sk-toggleable__control:checked~div.sk-toggleable__content {max-height: 200px;max-width: 100%;overflow: auto;}#sk-container-id-4 input.sk-toggleable__control:checked~label.sk-toggleable__label-arrow:before {content: \"▾\";}#sk-container-id-4 div.sk-estimator input.sk-toggleable__control:checked~label.sk-toggleable__label {background-color: #d4ebff;}#sk-container-id-4 div.sk-label input.sk-toggleable__control:checked~label.sk-toggleable__label {background-color: #d4ebff;}#sk-container-id-4 input.sk-hidden--visually {border: 0;clip: rect(1px 1px 1px 1px);clip: rect(1px, 1px, 1px, 1px);height: 1px;margin: -1px;overflow: hidden;padding: 0;position: absolute;width: 1px;}#sk-container-id-4 div.sk-estimator {font-family: monospace;background-color: #f0f8ff;border: 1px dotted black;border-radius: 0.25em;box-sizing: border-box;margin-bottom: 0.5em;}#sk-container-id-4 div.sk-estimator:hover {background-color: #d4ebff;}#sk-container-id-4 div.sk-parallel-item::after {content: \"\";width: 100%;border-bottom: 1px solid gray;flex-grow: 1;}#sk-container-id-4 div.sk-label:hover label.sk-toggleable__label {background-color: #d4ebff;}#sk-container-id-4 div.sk-serial::before {content: \"\";position: absolute;border-left: 1px solid gray;box-sizing: border-box;top: 0;bottom: 0;left: 50%;z-index: 0;}#sk-container-id-4 div.sk-serial {display: flex;flex-direction: column;align-items: center;background-color: white;padding-right: 0.2em;padding-left: 0.2em;position: relative;}#sk-container-id-4 div.sk-item {position: relative;z-index: 1;}#sk-container-id-4 div.sk-parallel {display: flex;align-items: stretch;justify-content: center;background-color: white;position: relative;}#sk-container-id-4 div.sk-item::before, #sk-container-id-4 div.sk-parallel-item::before {content: \"\";position: absolute;border-left: 1px solid gray;box-sizing: border-box;top: 0;bottom: 0;left: 50%;z-index: -1;}#sk-container-id-4 div.sk-parallel-item {display: flex;flex-direction: column;z-index: 1;position: relative;background-color: white;}#sk-container-id-4 div.sk-parallel-item:first-child::after {align-self: flex-end;width: 50%;}#sk-container-id-4 div.sk-parallel-item:last-child::after {align-self: flex-start;width: 50%;}#sk-container-id-4 div.sk-parallel-item:only-child::after {width: 0;}#sk-container-id-4 div.sk-dashed-wrapped {border: 1px dashed gray;margin: 0 0.4em 0.5em 0.4em;box-sizing: border-box;padding-bottom: 0.4em;background-color: white;}#sk-container-id-4 div.sk-label label {font-family: monospace;font-weight: bold;display: inline-block;line-height: 1.2em;}#sk-container-id-4 div.sk-label-container {text-align: center;}#sk-container-id-4 div.sk-container {/* jupyter's `normalize.less` sets `[hidden] { display: none; }` but bootstrap.min.css set `[hidden] { display: none !important; }` so we also need the `!important` here to be able to override the default hidden behavior on the sphinx rendered scikit-learn.org. See: https://github.com/scikit-learn/scikit-learn/issues/21755 */display: inline-block !important;position: relative;}#sk-container-id-4 div.sk-text-repr-fallback {display: none;}</style><div id=\"sk-container-id-4\" class=\"sk-top-container\"><div class=\"sk-text-repr-fallback\"><pre>GradientBoostingClassifier(learning_rate=0.3, max_depth=12, max_features=2,\n",
              "                           n_estimators=150, random_state=123)</pre><b>In a Jupyter environment, please rerun this cell to show the HTML representation or trust the notebook. <br />On GitHub, the HTML representation is unable to render, please try loading this page with nbviewer.org.</b></div><div class=\"sk-container\" hidden><div class=\"sk-item\"><div class=\"sk-estimator sk-toggleable\"><input class=\"sk-toggleable__control sk-hidden--visually\" id=\"sk-estimator-id-4\" type=\"checkbox\" checked><label for=\"sk-estimator-id-4\" class=\"sk-toggleable__label sk-toggleable__label-arrow\">GradientBoostingClassifier</label><div class=\"sk-toggleable__content\"><pre>GradientBoostingClassifier(learning_rate=0.3, max_depth=12, max_features=2,\n",
              "                           n_estimators=150, random_state=123)</pre></div></div></div></div></div>"
            ],
            "text/plain": [
              "GradientBoostingClassifier(learning_rate=0.3, max_depth=12, max_features=2,\n",
              "                           n_estimators=150, random_state=123)"
            ]
          },
          "execution_count": 37,
          "metadata": {},
          "output_type": "execute_result"
        }
      ],
      "source": [
        "from sklearn.ensemble import GradientBoostingClassifier\n",
        "X_train_modelo4= x_train_res[:, X_new]\n",
        "X_test_modelo4 = X_test_std [:, X_new]\n",
        "gboos = GradientBoostingClassifier( n_estimators = 150, max_depth= 12, learning_rate= 0.3, max_features = 2, random_state = 123)\n",
        "gboos.fit(X_train_modelo4, y_train_res)"
      ]
    },
    {
      "cell_type": "markdown",
      "metadata": {},
      "source": [
        "Metricas de desempeño"
      ]
    },
    {
      "cell_type": "code",
      "execution_count": 38,
      "metadata": {},
      "outputs": [
        {
          "name": "stdout",
          "output_type": "stream",
          "text": [
            "Train - Accuracy : 1.0\n",
            "Train - classification report:\n",
            "               precision    recall  f1-score   support\n",
            "\n",
            "           0       1.00      1.00      1.00      2964\n",
            "           1       1.00      1.00      1.00      2964\n",
            "\n",
            "    accuracy                           1.00      5928\n",
            "   macro avg       1.00      1.00      1.00      5928\n",
            "weighted avg       1.00      1.00      1.00      5928\n",
            "\n",
            "Test - Accuracy : 0.9931972789115646\n",
            "Test - classification report :               precision    recall  f1-score   support\n",
            "\n",
            "           0       1.00      1.00      1.00       735\n",
            "           1       0.98      0.98      0.98       147\n",
            "\n",
            "    accuracy                           0.99       882\n",
            "   macro avg       0.99      0.99      0.99       882\n",
            "weighted avg       0.99      0.99      0.99       882\n",
            "\n"
          ]
        }
      ],
      "source": [
        "print (\"Train - Accuracy :\", metrics.accuracy_score(y_train_res, gboos.predict(X_train_modelo4)))\n",
        "print (\"Train - classification report:\\n\", metrics.classification_report(y_train_res, gboos.predict(X_train_modelo4)))\n",
        "print (\"Test - Accuracy :\", metrics.accuracy_score(y_test, gboos.predict(X_test_modelo4)))\n",
        "print (\"Test - classification report :\", metrics.classification_report(y_test, gboos.predict(X_test_modelo4)))"
      ]
    },
    {
      "cell_type": "markdown",
      "metadata": {},
      "source": [
        "La exactitud del modelo tuneado es 99%, igualando los resultaods del modelo regresion logistica para la tabla de datos 1.\n",
        "Precision: El 98% de los predichos a desertar realmente lo haran, mejorando los resultados del modelo regresion logistica para la tabla de datos 1.\n",
        "Recall: este modelo es capaz de identificar el 98% de los empleados que realmente van a renunciar, mejorando los resultados del modelo de regresion logistica para la tabla 1.\n",
        "Este modelo con el tuning de hiperparametros presenta las mejores metricas hasta el momento, hasta este punto se puede tomar la decision de elegir este modelo\n"
      ]
    },
    {
      "cell_type": "markdown",
      "metadata": {},
      "source": [
        "Matriz de confusión "
      ]
    },
    {
      "cell_type": "code",
      "execution_count": 39,
      "metadata": {},
      "outputs": [
        {
          "data": {
            "image/png": "[encoded data removed]",
            "text/plain": [
              "<Figure size 640x480 with 2 Axes>"
            ]
          },
          "metadata": {},
          "output_type": "display_data"
        }
      ],
      "source": [
        "from sklearn.metrics import confusion_matrix, ConfusionMatrixDisplay\n",
        "cm1= confusion_matrix(y_test, gboos.predict(X_test_modelo4))\n",
        "cm1_display = ConfusionMatrixDisplay(confusion_matrix = cm1,  display_labels=['No renuncia', 'renuncia'])\n",
        "cm1_display.plot()\n",
        "plt.show()"
      ]
    },
    {
      "cell_type": "markdown",
      "metadata": {},
      "source": [
        "Curva ROC"
      ]
    },
    {
      "cell_type": "code",
      "execution_count": 40,
      "metadata": {},
      "outputs": [
        {
          "data": {
            "image/png": "[encoded data removed]",
            "text/plain": [
              "<Figure size 640x480 with 1 Axes>"
            ]
          },
          "metadata": {},
          "output_type": "display_data"
        }
      ],
      "source": [
        "from sklearn.metrics import roc_curve, auc, roc_auc_score\n",
        "y_pred = gboos.predict_proba(X_test_modelo4)[::,1]\n",
        "fpr, tpr,_ =roc_curve(y_test, y_pred)\n",
        "# auc=auc(fpr, tpr) #opción 1\n",
        "auc = roc_auc_score(y_test, y_pred) #opción 2\n",
        "plt.plot(fpr, tpr,marker='.',label='Logistic (auc= %0.3f)'%auc)\n",
        "plt.xlabel('False positive rate')\n",
        "plt.ylabel('True positive rate')\n",
        "plt.legend()\n",
        "plt.show()"
      ]
    },
    {
      "cell_type": "markdown",
      "metadata": {},
      "source": [
        "Selección de la variable más representativa"
      ]
    },
    {
      "cell_type": "code",
      "execution_count": 41,
      "metadata": {},
      "outputs": [
        {
          "data": {
            "text/plain": [
              "Text(0.5, 0, 'Gradient Boosting classifier Feature Importance')"
            ]
          },
          "execution_count": 41,
          "metadata": {},
          "output_type": "execute_result"
        },
        {
          "data": {
            "image/png": "[encoded data removed]",
            "text/plain": [
              "<Figure size 640x480 with 1 Axes>"
            ]
          },
          "metadata": {},
          "output_type": "display_data"
        }
      ],
      "source": [
        "importance = gboos.feature_importances_\n",
        "sorted_idx = gboos.feature_importances_.argsort()\n",
        "plt.barh(X_train.columns[sorted_idx], importance[sorted_idx])\n",
        "plt.xlabel(\"Gradient Boosting classifier Feature Importance\")"
      ]
    },
    {
      "cell_type": "markdown",
      "metadata": {},
      "source": [
        "### 3.2 Modelo de Gradient Boosting con metodo wrapper"
      ]
    },
    {
      "cell_type": "markdown",
      "metadata": {},
      "source": [
        "Construccion del modelo"
      ]
    },
    {
      "cell_type": "code",
      "execution_count": 65,
      "metadata": {},
      "outputs": [
        {
          "data": {
            "text/html": [
              "<style>#sk-container-id-6 {color: black;background-color: white;}#sk-container-id-6 pre{padding: 0;}#sk-container-id-6 div.sk-toggleable {background-color: white;}#sk-container-id-6 label.sk-toggleable__label {cursor: pointer;display: block;width: 100%;margin-bottom: 0;padding: 0.3em;box-sizing: border-box;text-align: center;}#sk-container-id-6 label.sk-toggleable__label-arrow:before {content: \"▸\";float: left;margin-right: 0.25em;color: #696969;}#sk-container-id-6 label.sk-toggleable__label-arrow:hover:before {color: black;}#sk-container-id-6 div.sk-estimator:hover label.sk-toggleable__label-arrow:before {color: black;}#sk-container-id-6 div.sk-toggleable__content {max-height: 0;max-width: 0;overflow: hidden;text-align: left;background-color: #f0f8ff;}#sk-container-id-6 div.sk-toggleable__content pre {margin: 0.2em;color: black;border-radius: 0.25em;background-color: #f0f8ff;}#sk-container-id-6 input.sk-toggleable__control:checked~div.sk-toggleable__content {max-height: 200px;max-width: 100%;overflow: auto;}#sk-container-id-6 input.sk-toggleable__control:checked~label.sk-toggleable__label-arrow:before {content: \"▾\";}#sk-container-id-6 div.sk-estimator input.sk-toggleable__control:checked~label.sk-toggleable__label {background-color: #d4ebff;}#sk-container-id-6 div.sk-label input.sk-toggleable__control:checked~label.sk-toggleable__label {background-color: #d4ebff;}#sk-container-id-6 input.sk-hidden--visually {border: 0;clip: rect(1px 1px 1px 1px);clip: rect(1px, 1px, 1px, 1px);height: 1px;margin: -1px;overflow: hidden;padding: 0;position: absolute;width: 1px;}#sk-container-id-6 div.sk-estimator {font-family: monospace;background-color: #f0f8ff;border: 1px dotted black;border-radius: 0.25em;box-sizing: border-box;margin-bottom: 0.5em;}#sk-container-id-6 div.sk-estimator:hover {background-color: #d4ebff;}#sk-container-id-6 div.sk-parallel-item::after {content: \"\";width: 100%;border-bottom: 1px solid gray;flex-grow: 1;}#sk-container-id-6 div.sk-label:hover label.sk-toggleable__label {background-color: #d4ebff;}#sk-container-id-6 div.sk-serial::before {content: \"\";position: absolute;border-left: 1px solid gray;box-sizing: border-box;top: 0;bottom: 0;left: 50%;z-index: 0;}#sk-container-id-6 div.sk-serial {display: flex;flex-direction: column;align-items: center;background-color: white;padding-right: 0.2em;padding-left: 0.2em;position: relative;}#sk-container-id-6 div.sk-item {position: relative;z-index: 1;}#sk-container-id-6 div.sk-parallel {display: flex;align-items: stretch;justify-content: center;background-color: white;position: relative;}#sk-container-id-6 div.sk-item::before, #sk-container-id-6 div.sk-parallel-item::before {content: \"\";position: absolute;border-left: 1px solid gray;box-sizing: border-box;top: 0;bottom: 0;left: 50%;z-index: -1;}#sk-container-id-6 div.sk-parallel-item {display: flex;flex-direction: column;z-index: 1;position: relative;background-color: white;}#sk-container-id-6 div.sk-parallel-item:first-child::after {align-self: flex-end;width: 50%;}#sk-container-id-6 div.sk-parallel-item:last-child::after {align-self: flex-start;width: 50%;}#sk-container-id-6 div.sk-parallel-item:only-child::after {width: 0;}#sk-container-id-6 div.sk-dashed-wrapped {border: 1px dashed gray;margin: 0 0.4em 0.5em 0.4em;box-sizing: border-box;padding-bottom: 0.4em;background-color: white;}#sk-container-id-6 div.sk-label label {font-family: monospace;font-weight: bold;display: inline-block;line-height: 1.2em;}#sk-container-id-6 div.sk-label-container {text-align: center;}#sk-container-id-6 div.sk-container {/* jupyter's `normalize.less` sets `[hidden] { display: none; }` but bootstrap.min.css set `[hidden] { display: none !important; }` so we also need the `!important` here to be able to override the default hidden behavior on the sphinx rendered scikit-learn.org. See: https://github.com/scikit-learn/scikit-learn/issues/21755 */display: inline-block !important;position: relative;}#sk-container-id-6 div.sk-text-repr-fallback {display: none;}</style><div id=\"sk-container-id-6\" class=\"sk-top-container\"><div class=\"sk-text-repr-fallback\"><pre>GradientBoostingClassifier(max_features=4, random_state=123)</pre><b>In a Jupyter environment, please rerun this cell to show the HTML representation or trust the notebook. <br />On GitHub, the HTML representation is unable to render, please try loading this page with nbviewer.org.</b></div><div class=\"sk-container\" hidden><div class=\"sk-item\"><div class=\"sk-estimator sk-toggleable\"><input class=\"sk-toggleable__control sk-hidden--visually\" id=\"sk-estimator-id-6\" type=\"checkbox\" checked><label for=\"sk-estimator-id-6\" class=\"sk-toggleable__label sk-toggleable__label-arrow\">GradientBoostingClassifier</label><div class=\"sk-toggleable__content\"><pre>GradientBoostingClassifier(max_features=4, random_state=123)</pre></div></div></div></div></div>"
            ],
            "text/plain": [
              "GradientBoostingClassifier(max_features=4, random_state=123)"
            ]
          },
          "execution_count": 65,
          "metadata": {},
          "output_type": "execute_result"
        }
      ],
      "source": [
        "from sklearn.ensemble import GradientBoostingClassifier\n",
        "X_train_modelo4_2= x_train_res[:, X_new_class]\n",
        "X_test_modelo4_2 = X_test_std[:, X_new_class]\n",
        "gboos = GradientBoostingClassifier( n_estimators = 100, learning_rate= 0.1, max_features = 4, random_state = 123)\n",
        "gboos.fit(X_train_modelo4_2, y_train_res)"
      ]
    },
    {
      "cell_type": "markdown",
      "metadata": {},
      "source": [
        "Metricas de desempeño"
      ]
    },
    {
      "cell_type": "code",
      "execution_count": 66,
      "metadata": {},
      "outputs": [
        {
          "name": "stdout",
          "output_type": "stream",
          "text": [
            "Train - Accuracy : 0.8945497630331753\n",
            "Train - classification report:\n",
            "               precision    recall  f1-score   support\n",
            "\n",
            "           0       0.89      0.91      0.90      2954\n",
            "           1       0.90      0.88      0.89      2954\n",
            "\n",
            "    accuracy                           0.89      5908\n",
            "   macro avg       0.89      0.89      0.89      5908\n",
            "weighted avg       0.89      0.89      0.89      5908\n",
            "\n",
            "Test - Accuracy : 0.8775510204081632\n",
            "Test - classification report :               precision    recall  f1-score   support\n",
            "\n",
            "           0       0.94      0.92      0.93       745\n",
            "           1       0.59      0.66      0.63       137\n",
            "\n",
            "    accuracy                           0.88       882\n",
            "   macro avg       0.77      0.79      0.78       882\n",
            "weighted avg       0.88      0.88      0.88       882\n",
            "\n"
          ]
        }
      ],
      "source": [
        "print (\"Train - Accuracy :\", metrics.accuracy_score(y_train_res, gboos.predict(X_train_modelo4_2)))\n",
        "print (\"Train - classification report:\\n\", metrics.classification_report(y_train_res, gboos.predict(X_train_modelo4_2)))\n",
        "print (\"Test - Accuracy :\", metrics.accuracy_score(y_test, gboos.predict(X_test_modelo4_2)))\n",
        "print (\"Test - classification report :\", metrics.classification_report(y_test, gboos.predict(X_test_modelo4_2)))"
      ]
    },
    {
      "cell_type": "markdown",
      "metadata": {},
      "source": [
        "La exactitud del modelo es 87%, mejorando los resultados del modelo de random forest para la tabla de datos 2.\n",
        "Precision: El 59% de los predichos a desertar realmente lo haran, mejorando los resultados del modelo de random forest para la tabla de datos 2.\n",
        "Recall: este modelo es capaz de identificar el 66% de los empleados que realmente van a renunciar, desmejorando los resultados del modelo de random forest para la tabla 2.\n",
        "Este modelo mejora el modelo de random forest para la tabla 2.\n",
        "\n",
        "Finalmente los dos modelos con las dos tablas ambos modelos de gradient boosting presentan similares resultados\n",
        "\n",
        "\n",
        "\n",
        "\n"
      ]
    },
    {
      "cell_type": "markdown",
      "metadata": {},
      "source": [
        "Matriz de confusión "
      ]
    },
    {
      "cell_type": "code",
      "execution_count": 67,
      "metadata": {},
      "outputs": [
        {
          "data": {
            "image/png": "[encoded data removed]",
            "text/plain": [
              "<Figure size 640x480 with 2 Axes>"
            ]
          },
          "metadata": {},
          "output_type": "display_data"
        }
      ],
      "source": [
        "from sklearn.metrics import confusion_matrix, ConfusionMatrixDisplay\n",
        "cm1= confusion_matrix(y_test, gboos.predict(X_test_modelo4_2))\n",
        "cm1_display = ConfusionMatrixDisplay(confusion_matrix = cm1,  display_labels=['No renuncia', 'renuncia'])\n",
        "cm1_display.plot()\n",
        "plt.show()"
      ]
    },
    {
      "cell_type": "markdown",
      "metadata": {},
      "source": [
        "Por los resultados del modelo de gradient boosting con los hiperparametros tuneados, se toma la decision de elegir este modelo. Ahora se va a probar un ultimo modelo, en este solo se va analizar el modelo con los hiperparametros tuneados"
      ]
    },
    {
      "cell_type": "markdown",
      "metadata": {},
      "source": [
        "# Modelo 4 Support Vector Machine "
      ]
    },
    {
      "cell_type": "markdown",
      "metadata": {},
      "source": [
        "### 4.1 Modelo de support vector machine con metodo integrado"
      ]
    },
    {
      "cell_type": "markdown",
      "metadata": {},
      "source": [
        "Construccion del modelo"
      ]
    },
    {
      "cell_type": "code",
      "execution_count": 68,
      "metadata": {},
      "outputs": [
        {
          "data": {
            "text/html": [
              "<style>#sk-container-id-7 {color: black;background-color: white;}#sk-container-id-7 pre{padding: 0;}#sk-container-id-7 div.sk-toggleable {background-color: white;}#sk-container-id-7 label.sk-toggleable__label {cursor: pointer;display: block;width: 100%;margin-bottom: 0;padding: 0.3em;box-sizing: border-box;text-align: center;}#sk-container-id-7 label.sk-toggleable__label-arrow:before {content: \"▸\";float: left;margin-right: 0.25em;color: #696969;}#sk-container-id-7 label.sk-toggleable__label-arrow:hover:before {color: black;}#sk-container-id-7 div.sk-estimator:hover label.sk-toggleable__label-arrow:before {color: black;}#sk-container-id-7 div.sk-toggleable__content {max-height: 0;max-width: 0;overflow: hidden;text-align: left;background-color: #f0f8ff;}#sk-container-id-7 div.sk-toggleable__content pre {margin: 0.2em;color: black;border-radius: 0.25em;background-color: #f0f8ff;}#sk-container-id-7 input.sk-toggleable__control:checked~div.sk-toggleable__content {max-height: 200px;max-width: 100%;overflow: auto;}#sk-container-id-7 input.sk-toggleable__control:checked~label.sk-toggleable__label-arrow:before {content: \"▾\";}#sk-container-id-7 div.sk-estimator input.sk-toggleable__control:checked~label.sk-toggleable__label {background-color: #d4ebff;}#sk-container-id-7 div.sk-label input.sk-toggleable__control:checked~label.sk-toggleable__label {background-color: #d4ebff;}#sk-container-id-7 input.sk-hidden--visually {border: 0;clip: rect(1px 1px 1px 1px);clip: rect(1px, 1px, 1px, 1px);height: 1px;margin: -1px;overflow: hidden;padding: 0;position: absolute;width: 1px;}#sk-container-id-7 div.sk-estimator {font-family: monospace;background-color: #f0f8ff;border: 1px dotted black;border-radius: 0.25em;box-sizing: border-box;margin-bottom: 0.5em;}#sk-container-id-7 div.sk-estimator:hover {background-color: #d4ebff;}#sk-container-id-7 div.sk-parallel-item::after {content: \"\";width: 100%;border-bottom: 1px solid gray;flex-grow: 1;}#sk-container-id-7 div.sk-label:hover label.sk-toggleable__label {background-color: #d4ebff;}#sk-container-id-7 div.sk-serial::before {content: \"\";position: absolute;border-left: 1px solid gray;box-sizing: border-box;top: 0;bottom: 0;left: 50%;z-index: 0;}#sk-container-id-7 div.sk-serial {display: flex;flex-direction: column;align-items: center;background-color: white;padding-right: 0.2em;padding-left: 0.2em;position: relative;}#sk-container-id-7 div.sk-item {position: relative;z-index: 1;}#sk-container-id-7 div.sk-parallel {display: flex;align-items: stretch;justify-content: center;background-color: white;position: relative;}#sk-container-id-7 div.sk-item::before, #sk-container-id-7 div.sk-parallel-item::before {content: \"\";position: absolute;border-left: 1px solid gray;box-sizing: border-box;top: 0;bottom: 0;left: 50%;z-index: -1;}#sk-container-id-7 div.sk-parallel-item {display: flex;flex-direction: column;z-index: 1;position: relative;background-color: white;}#sk-container-id-7 div.sk-parallel-item:first-child::after {align-self: flex-end;width: 50%;}#sk-container-id-7 div.sk-parallel-item:last-child::after {align-self: flex-start;width: 50%;}#sk-container-id-7 div.sk-parallel-item:only-child::after {width: 0;}#sk-container-id-7 div.sk-dashed-wrapped {border: 1px dashed gray;margin: 0 0.4em 0.5em 0.4em;box-sizing: border-box;padding-bottom: 0.4em;background-color: white;}#sk-container-id-7 div.sk-label label {font-family: monospace;font-weight: bold;display: inline-block;line-height: 1.2em;}#sk-container-id-7 div.sk-label-container {text-align: center;}#sk-container-id-7 div.sk-container {/* jupyter's `normalize.less` sets `[hidden] { display: none; }` but bootstrap.min.css set `[hidden] { display: none !important; }` so we also need the `!important` here to be able to override the default hidden behavior on the sphinx rendered scikit-learn.org. See: https://github.com/scikit-learn/scikit-learn/issues/21755 */display: inline-block !important;position: relative;}#sk-container-id-7 div.sk-text-repr-fallback {display: none;}</style><div id=\"sk-container-id-7\" class=\"sk-top-container\"><div class=\"sk-text-repr-fallback\"><pre>SVC(C=1.5, class_weight=&#x27;balanced&#x27;, kernel=&#x27;linear&#x27;, random_state=123)</pre><b>In a Jupyter environment, please rerun this cell to show the HTML representation or trust the notebook. <br />On GitHub, the HTML representation is unable to render, please try loading this page with nbviewer.org.</b></div><div class=\"sk-container\" hidden><div class=\"sk-item\"><div class=\"sk-estimator sk-toggleable\"><input class=\"sk-toggleable__control sk-hidden--visually\" id=\"sk-estimator-id-7\" type=\"checkbox\" checked><label for=\"sk-estimator-id-7\" class=\"sk-toggleable__label sk-toggleable__label-arrow\">SVC</label><div class=\"sk-toggleable__content\"><pre>SVC(C=1.5, class_weight=&#x27;balanced&#x27;, kernel=&#x27;linear&#x27;, random_state=123)</pre></div></div></div></div></div>"
            ],
            "text/plain": [
              "SVC(C=1.5, class_weight='balanced', kernel='linear', random_state=123)"
            ]
          },
          "execution_count": 68,
          "metadata": {},
          "output_type": "execute_result"
        }
      ],
      "source": [
        "from sklearn.svm import SVC\n",
        "X_train_modelo5=X_train_base1\n",
        "X_test_modelo5=X_test_base1\n",
        "svm_model = SVC(C = 1.5, kernel = 'linear', class_weight = 'balanced', max_iter =-1, random_state=123)\n",
        "svm_model.fit(X_train_modelo5, y_train)"
      ]
    },
    {
      "cell_type": "markdown",
      "metadata": {},
      "source": [
        "Metricas de desempeño"
      ]
    },
    {
      "cell_type": "code",
      "execution_count": 69,
      "metadata": {},
      "outputs": [
        {
          "name": "stdout",
          "output_type": "stream",
          "text": [
            "Train - Accuracy : 0.7417800453514739\n",
            "Train - classification report:\n",
            "               precision    recall  f1-score   support\n",
            "\n",
            "           0       0.94      0.74      0.83      2954\n",
            "           1       0.36      0.77      0.49       574\n",
            "\n",
            "    accuracy                           0.74      3528\n",
            "   macro avg       0.65      0.75      0.66      3528\n",
            "weighted avg       0.85      0.74      0.77      3528\n",
            "\n",
            "Test - Accuracy : 0.7324263038548753\n",
            "Test - classification report :               precision    recall  f1-score   support\n",
            "\n",
            "           0       0.94      0.73      0.82       745\n",
            "           1       0.33      0.72      0.46       137\n",
            "\n",
            "    accuracy                           0.73       882\n",
            "   macro avg       0.63      0.73      0.64       882\n",
            "weighted avg       0.84      0.73      0.77       882\n",
            "\n"
          ]
        }
      ],
      "source": [
        "print (\"Train - Accuracy :\", metrics.accuracy_score(y_train, svm_model.predict(X_train_modelo5)))\n",
        "print (\"Train - classification report:\\n\", metrics.classification_report(y_train, svm_model.predict(X_train_modelo5)))\n",
        "print (\"Test - Accuracy :\", metrics.accuracy_score(y_test, svm_model.predict(X_test_modelo5)))\n",
        "print (\"Test - classification report :\", metrics.classification_report(y_test, svm_model.predict(X_test_modelo5)))"
      ]
    },
    {
      "cell_type": "markdown",
      "metadata": {},
      "source": [
        "Matriz de confusión "
      ]
    },
    {
      "cell_type": "code",
      "execution_count": 70,
      "metadata": {},
      "outputs": [
        {
          "data": {
            "image/png": "[encoded data removed]",
            "text/plain": [
              "<Figure size 640x480 with 2 Axes>"
            ]
          },
          "metadata": {},
          "output_type": "display_data"
        }
      ],
      "source": [
        "from sklearn.metrics import confusion_matrix, ConfusionMatrixDisplay\n",
        "cm1= confusion_matrix(y_test, svm_model.predict(X_test_modelo5))\n",
        "cm1_display = ConfusionMatrixDisplay(confusion_matrix = cm1,  display_labels=['No renuncia', 'renuncia'])\n",
        "cm1_display.plot()\n",
        "plt.show()"
      ]
    },
    {
      "cell_type": "markdown",
      "metadata": {},
      "source": [
        "### Modelo support vector machine con hiperparametros optimizados"
      ]
    },
    {
      "cell_type": "markdown",
      "metadata": {},
      "source": [
        "Cuadricula de hiperparametros"
      ]
    },
    {
      "cell_type": "code",
      "execution_count": 71,
      "metadata": {},
      "outputs": [],
      "source": [
        "parameters = {'kernel': ['linear', 'poly', 'sigmoid', 'rbf'],\n",
        "              'C': [-1,0.01, 0.08, 1.5, 3], \n",
        "              'max_iter': [-1, 0.08, 1, 5, 10],} "
      ]
    },
    {
      "cell_type": "markdown",
      "metadata": {},
      "source": [
        "Busqueda en cuadricula"
      ]
    },
    {
      "cell_type": "code",
      "execution_count": 72,
      "metadata": {},
      "outputs": [
        {
          "name": "stdout",
          "output_type": "stream",
          "text": [
            "Best Params:  {'C': 3, 'kernel': 'poly', 'max_iter': -1}\n",
            "Best Score:  0.6399987714724081\n"
          ]
        }
      ],
      "source": [
        "#Definición del modelo\n",
        "from sklearn.ensemble import GradientBoostingClassifier\n",
        "from sklearn.svm import SVC\n",
        "ranfor = SVC(random_state = 123)\n",
        "\n",
        "grid_search = GridSearchCV(ranfor, parameters, scoring='r2', cv=5, n_jobs=-1)\n",
        "\n",
        "# Iniciamos la busqueda\n",
        "grid_result = grid_search.fit(X_train_modelo5, y_train)\n",
        "\n",
        "print('Best Params: ', grid_result.best_params_)\n",
        "print('Best Score: ', grid_result.best_score_)"
      ]
    },
    {
      "cell_type": "markdown",
      "metadata": {},
      "source": [
        "Construccion del modelo"
      ]
    },
    {
      "cell_type": "code",
      "execution_count": 73,
      "metadata": {},
      "outputs": [
        {
          "data": {
            "text/html": [
              "<style>#sk-container-id-8 {color: black;background-color: white;}#sk-container-id-8 pre{padding: 0;}#sk-container-id-8 div.sk-toggleable {background-color: white;}#sk-container-id-8 label.sk-toggleable__label {cursor: pointer;display: block;width: 100%;margin-bottom: 0;padding: 0.3em;box-sizing: border-box;text-align: center;}#sk-container-id-8 label.sk-toggleable__label-arrow:before {content: \"▸\";float: left;margin-right: 0.25em;color: #696969;}#sk-container-id-8 label.sk-toggleable__label-arrow:hover:before {color: black;}#sk-container-id-8 div.sk-estimator:hover label.sk-toggleable__label-arrow:before {color: black;}#sk-container-id-8 div.sk-toggleable__content {max-height: 0;max-width: 0;overflow: hidden;text-align: left;background-color: #f0f8ff;}#sk-container-id-8 div.sk-toggleable__content pre {margin: 0.2em;color: black;border-radius: 0.25em;background-color: #f0f8ff;}#sk-container-id-8 input.sk-toggleable__control:checked~div.sk-toggleable__content {max-height: 200px;max-width: 100%;overflow: auto;}#sk-container-id-8 input.sk-toggleable__control:checked~label.sk-toggleable__label-arrow:before {content: \"▾\";}#sk-container-id-8 div.sk-estimator input.sk-toggleable__control:checked~label.sk-toggleable__label {background-color: #d4ebff;}#sk-container-id-8 div.sk-label input.sk-toggleable__control:checked~label.sk-toggleable__label {background-color: #d4ebff;}#sk-container-id-8 input.sk-hidden--visually {border: 0;clip: rect(1px 1px 1px 1px);clip: rect(1px, 1px, 1px, 1px);height: 1px;margin: -1px;overflow: hidden;padding: 0;position: absolute;width: 1px;}#sk-container-id-8 div.sk-estimator {font-family: monospace;background-color: #f0f8ff;border: 1px dotted black;border-radius: 0.25em;box-sizing: border-box;margin-bottom: 0.5em;}#sk-container-id-8 div.sk-estimator:hover {background-color: #d4ebff;}#sk-container-id-8 div.sk-parallel-item::after {content: \"\";width: 100%;border-bottom: 1px solid gray;flex-grow: 1;}#sk-container-id-8 div.sk-label:hover label.sk-toggleable__label {background-color: #d4ebff;}#sk-container-id-8 div.sk-serial::before {content: \"\";position: absolute;border-left: 1px solid gray;box-sizing: border-box;top: 0;bottom: 0;left: 50%;z-index: 0;}#sk-container-id-8 div.sk-serial {display: flex;flex-direction: column;align-items: center;background-color: white;padding-right: 0.2em;padding-left: 0.2em;position: relative;}#sk-container-id-8 div.sk-item {position: relative;z-index: 1;}#sk-container-id-8 div.sk-parallel {display: flex;align-items: stretch;justify-content: center;background-color: white;position: relative;}#sk-container-id-8 div.sk-item::before, #sk-container-id-8 div.sk-parallel-item::before {content: \"\";position: absolute;border-left: 1px solid gray;box-sizing: border-box;top: 0;bottom: 0;left: 50%;z-index: -1;}#sk-container-id-8 div.sk-parallel-item {display: flex;flex-direction: column;z-index: 1;position: relative;background-color: white;}#sk-container-id-8 div.sk-parallel-item:first-child::after {align-self: flex-end;width: 50%;}#sk-container-id-8 div.sk-parallel-item:last-child::after {align-self: flex-start;width: 50%;}#sk-container-id-8 div.sk-parallel-item:only-child::after {width: 0;}#sk-container-id-8 div.sk-dashed-wrapped {border: 1px dashed gray;margin: 0 0.4em 0.5em 0.4em;box-sizing: border-box;padding-bottom: 0.4em;background-color: white;}#sk-container-id-8 div.sk-label label {font-family: monospace;font-weight: bold;display: inline-block;line-height: 1.2em;}#sk-container-id-8 div.sk-label-container {text-align: center;}#sk-container-id-8 div.sk-container {/* jupyter's `normalize.less` sets `[hidden] { display: none; }` but bootstrap.min.css set `[hidden] { display: none !important; }` so we also need the `!important` here to be able to override the default hidden behavior on the sphinx rendered scikit-learn.org. See: https://github.com/scikit-learn/scikit-learn/issues/21755 */display: inline-block !important;position: relative;}#sk-container-id-8 div.sk-text-repr-fallback {display: none;}</style><div id=\"sk-container-id-8\" class=\"sk-top-container\"><div class=\"sk-text-repr-fallback\"><pre>SVC(C=3, class_weight=&#x27;balanced&#x27;, random_state=123)</pre><b>In a Jupyter environment, please rerun this cell to show the HTML representation or trust the notebook. <br />On GitHub, the HTML representation is unable to render, please try loading this page with nbviewer.org.</b></div><div class=\"sk-container\" hidden><div class=\"sk-item\"><div class=\"sk-estimator sk-toggleable\"><input class=\"sk-toggleable__control sk-hidden--visually\" id=\"sk-estimator-id-8\" type=\"checkbox\" checked><label for=\"sk-estimator-id-8\" class=\"sk-toggleable__label sk-toggleable__label-arrow\">SVC</label><div class=\"sk-toggleable__content\"><pre>SVC(C=3, class_weight=&#x27;balanced&#x27;, random_state=123)</pre></div></div></div></div></div>"
            ],
            "text/plain": [
              "SVC(C=3, class_weight='balanced', random_state=123)"
            ]
          },
          "execution_count": 73,
          "metadata": {},
          "output_type": "execute_result"
        }
      ],
      "source": [
        "from sklearn.svm import SVC\n",
        "X_train_modelo5=X_train_base1\n",
        "X_test_modelo5=X_test_base1\n",
        "svm_model = SVC(C = 3, kernel = 'rbf', class_weight = 'balanced', max_iter =-1, random_state=123)\n",
        "svm_model.fit(X_train_modelo5, y_train)"
      ]
    },
    {
      "cell_type": "markdown",
      "metadata": {},
      "source": [
        "Metricas de desempeño"
      ]
    },
    {
      "cell_type": "code",
      "execution_count": 74,
      "metadata": {},
      "outputs": [
        {
          "name": "stdout",
          "output_type": "stream",
          "text": [
            "Train - Accuracy : 0.9923469387755102\n",
            "Train - classification report:\n",
            "               precision    recall  f1-score   support\n",
            "\n",
            "           0       1.00      0.99      1.00      2954\n",
            "           1       0.96      1.00      0.98       574\n",
            "\n",
            "    accuracy                           0.99      3528\n",
            "   macro avg       0.98      0.99      0.99      3528\n",
            "weighted avg       0.99      0.99      0.99      3528\n",
            "\n",
            "Test - Accuracy : 0.9773242630385488\n",
            "Test - classification report :               precision    recall  f1-score   support\n",
            "\n",
            "           0       0.99      0.98      0.99       745\n",
            "           1       0.89      0.97      0.93       137\n",
            "\n",
            "    accuracy                           0.98       882\n",
            "   macro avg       0.94      0.97      0.96       882\n",
            "weighted avg       0.98      0.98      0.98       882\n",
            "\n"
          ]
        }
      ],
      "source": [
        "print (\"Train - Accuracy :\", metrics.accuracy_score(y_train, svm_model.predict(X_train_modelo5)))\n",
        "print (\"Train - classification report:\\n\", metrics.classification_report(y_train, svm_model.predict(X_train_modelo5)))\n",
        "print (\"Test - Accuracy :\", metrics.accuracy_score(y_test, svm_model.predict(X_test_modelo5)))\n",
        "print (\"Test - classification report :\", metrics.classification_report(y_test, svm_model.predict(X_test_modelo5)))"
      ]
    },
    {
      "cell_type": "markdown",
      "metadata": {},
      "source": [
        "La exactitud del modelo tuneado es 97%, un poco menos que el modelo de gradient boosting.\n",
        "Precision: El 89% de los predichos a desertar realmente lo haran, desmejorando los resultados del modelo de gradient boosting.\n",
        "Recall: este modelo es capaz de identificar el 97% de los empleados que realmente van a renunciar, desmejorando los resultados del modelo de gradient boosting.\n",
        "Este modelo con el tuning de hiperparametros presenta las segundas mejores metricas hasta el momento.\n"
      ]
    },
    {
      "cell_type": "markdown",
      "metadata": {},
      "source": [
        "###  4.2 Modelo support vector machine con metodo wrapper\n"
      ]
    },
    {
      "cell_type": "markdown",
      "metadata": {},
      "source": [
        "Construccion del modelo"
      ]
    },
    {
      "cell_type": "code",
      "execution_count": 75,
      "metadata": {},
      "outputs": [
        {
          "data": {
            "text/html": [
              "<style>#sk-container-id-9 {color: black;background-color: white;}#sk-container-id-9 pre{padding: 0;}#sk-container-id-9 div.sk-toggleable {background-color: white;}#sk-container-id-9 label.sk-toggleable__label {cursor: pointer;display: block;width: 100%;margin-bottom: 0;padding: 0.3em;box-sizing: border-box;text-align: center;}#sk-container-id-9 label.sk-toggleable__label-arrow:before {content: \"▸\";float: left;margin-right: 0.25em;color: #696969;}#sk-container-id-9 label.sk-toggleable__label-arrow:hover:before {color: black;}#sk-container-id-9 div.sk-estimator:hover label.sk-toggleable__label-arrow:before {color: black;}#sk-container-id-9 div.sk-toggleable__content {max-height: 0;max-width: 0;overflow: hidden;text-align: left;background-color: #f0f8ff;}#sk-container-id-9 div.sk-toggleable__content pre {margin: 0.2em;color: black;border-radius: 0.25em;background-color: #f0f8ff;}#sk-container-id-9 input.sk-toggleable__control:checked~div.sk-toggleable__content {max-height: 200px;max-width: 100%;overflow: auto;}#sk-container-id-9 input.sk-toggleable__control:checked~label.sk-toggleable__label-arrow:before {content: \"▾\";}#sk-container-id-9 div.sk-estimator input.sk-toggleable__control:checked~label.sk-toggleable__label {background-color: #d4ebff;}#sk-container-id-9 div.sk-label input.sk-toggleable__control:checked~label.sk-toggleable__label {background-color: #d4ebff;}#sk-container-id-9 input.sk-hidden--visually {border: 0;clip: rect(1px 1px 1px 1px);clip: rect(1px, 1px, 1px, 1px);height: 1px;margin: -1px;overflow: hidden;padding: 0;position: absolute;width: 1px;}#sk-container-id-9 div.sk-estimator {font-family: monospace;background-color: #f0f8ff;border: 1px dotted black;border-radius: 0.25em;box-sizing: border-box;margin-bottom: 0.5em;}#sk-container-id-9 div.sk-estimator:hover {background-color: #d4ebff;}#sk-container-id-9 div.sk-parallel-item::after {content: \"\";width: 100%;border-bottom: 1px solid gray;flex-grow: 1;}#sk-container-id-9 div.sk-label:hover label.sk-toggleable__label {background-color: #d4ebff;}#sk-container-id-9 div.sk-serial::before {content: \"\";position: absolute;border-left: 1px solid gray;box-sizing: border-box;top: 0;bottom: 0;left: 50%;z-index: 0;}#sk-container-id-9 div.sk-serial {display: flex;flex-direction: column;align-items: center;background-color: white;padding-right: 0.2em;padding-left: 0.2em;position: relative;}#sk-container-id-9 div.sk-item {position: relative;z-index: 1;}#sk-container-id-9 div.sk-parallel {display: flex;align-items: stretch;justify-content: center;background-color: white;position: relative;}#sk-container-id-9 div.sk-item::before, #sk-container-id-9 div.sk-parallel-item::before {content: \"\";position: absolute;border-left: 1px solid gray;box-sizing: border-box;top: 0;bottom: 0;left: 50%;z-index: -1;}#sk-container-id-9 div.sk-parallel-item {display: flex;flex-direction: column;z-index: 1;position: relative;background-color: white;}#sk-container-id-9 div.sk-parallel-item:first-child::after {align-self: flex-end;width: 50%;}#sk-container-id-9 div.sk-parallel-item:last-child::after {align-self: flex-start;width: 50%;}#sk-container-id-9 div.sk-parallel-item:only-child::after {width: 0;}#sk-container-id-9 div.sk-dashed-wrapped {border: 1px dashed gray;margin: 0 0.4em 0.5em 0.4em;box-sizing: border-box;padding-bottom: 0.4em;background-color: white;}#sk-container-id-9 div.sk-label label {font-family: monospace;font-weight: bold;display: inline-block;line-height: 1.2em;}#sk-container-id-9 div.sk-label-container {text-align: center;}#sk-container-id-9 div.sk-container {/* jupyter's `normalize.less` sets `[hidden] { display: none; }` but bootstrap.min.css set `[hidden] { display: none !important; }` so we also need the `!important` here to be able to override the default hidden behavior on the sphinx rendered scikit-learn.org. See: https://github.com/scikit-learn/scikit-learn/issues/21755 */display: inline-block !important;position: relative;}#sk-container-id-9 div.sk-text-repr-fallback {display: none;}</style><div id=\"sk-container-id-9\" class=\"sk-top-container\"><div class=\"sk-text-repr-fallback\"><pre>SVC(C=1.5, class_weight=&#x27;balanced&#x27;, kernel=&#x27;linear&#x27;, random_state=123)</pre><b>In a Jupyter environment, please rerun this cell to show the HTML representation or trust the notebook. <br />On GitHub, the HTML representation is unable to render, please try loading this page with nbviewer.org.</b></div><div class=\"sk-container\" hidden><div class=\"sk-item\"><div class=\"sk-estimator sk-toggleable\"><input class=\"sk-toggleable__control sk-hidden--visually\" id=\"sk-estimator-id-9\" type=\"checkbox\" checked><label for=\"sk-estimator-id-9\" class=\"sk-toggleable__label sk-toggleable__label-arrow\">SVC</label><div class=\"sk-toggleable__content\"><pre>SVC(C=1.5, class_weight=&#x27;balanced&#x27;, kernel=&#x27;linear&#x27;, random_state=123)</pre></div></div></div></div></div>"
            ],
            "text/plain": [
              "SVC(C=1.5, class_weight='balanced', kernel='linear', random_state=123)"
            ]
          },
          "execution_count": 75,
          "metadata": {},
          "output_type": "execute_result"
        }
      ],
      "source": [
        "from sklearn.svm import SVC\n",
        "X_train_modelo5_2=X_train_base2\n",
        "X_test_modelo5_2=X_test_base2\n",
        "svm_model = SVC(C = 1.5, kernel = 'linear', class_weight = 'balanced', max_iter =-1, random_state=123)\n",
        "svm_model.fit(X_train_modelo5_2, y_train)"
      ]
    },
    {
      "cell_type": "markdown",
      "metadata": {},
      "source": [
        "Metricas de desempeño"
      ]
    },
    {
      "cell_type": "code",
      "execution_count": 76,
      "metadata": {},
      "outputs": [
        {
          "name": "stdout",
          "output_type": "stream",
          "text": [
            "Train - Accuracy : 0.735827664399093\n",
            "Train - classification report:\n",
            "               precision    recall  f1-score   support\n",
            "\n",
            "           0       0.94      0.73      0.82      2954\n",
            "           1       0.35      0.76      0.48       574\n",
            "\n",
            "    accuracy                           0.74      3528\n",
            "   macro avg       0.65      0.74      0.65      3528\n",
            "weighted avg       0.84      0.74      0.77      3528\n",
            "\n",
            "Test - Accuracy : 0.7154195011337868\n",
            "Test - classification report :               precision    recall  f1-score   support\n",
            "\n",
            "           0       0.93      0.71      0.81       745\n",
            "           1       0.32      0.72      0.44       137\n",
            "\n",
            "    accuracy                           0.72       882\n",
            "   macro avg       0.63      0.72      0.63       882\n",
            "weighted avg       0.84      0.72      0.75       882\n",
            "\n"
          ]
        }
      ],
      "source": [
        "print (\"Train - Accuracy :\", metrics.accuracy_score(y_train, svm_model.predict(X_train_modelo5_2)))\n",
        "print (\"Train - classification report:\\n\", metrics.classification_report(y_train, svm_model.predict(X_train_modelo5_2)))\n",
        "print (\"Test - Accuracy :\", metrics.accuracy_score(y_test, svm_model.predict(X_test_modelo5_2)))\n",
        "print (\"Test - classification report :\", metrics.classification_report(y_test, svm_model.predict(X_test_modelo5_2)))"
      ]
    },
    {
      "cell_type": "markdown",
      "metadata": {},
      "source": [
        "Matriz de confusión "
      ]
    },
    {
      "cell_type": "code",
      "execution_count": 77,
      "metadata": {},
      "outputs": [
        {
          "data": {
            "image/png": "[encoded data removed]",
            "text/plain": [
              "<Figure size 640x480 with 2 Axes>"
            ]
          },
          "metadata": {},
          "output_type": "display_data"
        }
      ],
      "source": [
        "from sklearn.metrics import confusion_matrix, ConfusionMatrixDisplay\n",
        "cm1= confusion_matrix(y_test, svm_model.predict(X_test_modelo5_2))\n",
        "cm1_display = ConfusionMatrixDisplay(confusion_matrix = cm1, display_labels=['No renuncia', 'renuncia'])\n",
        "cm1_display.plot()\n",
        "plt.show()"
      ]
    },
    {
      "cell_type": "markdown",
      "metadata": {},
      "source": [
        "# ANALISIS DE RESULTADOS"
      ]
    },
    {
      "cell_type": "markdown",
      "metadata": {},
      "source": [
        "![Alt text](image.png)"
      ]
    },
    {
      "cell_type": "markdown",
      "metadata": {},
      "source": [
        "Nota: el modelo base se trata de una regresión logística con la tabla exportada luego del análisis exploratorio.\n",
        "\n",
        "A continuación se harán varios análisis comparativos entre modelos.\n",
        "\n",
        "Modelo base sin balanceo de clases vs modelo base con balanceo de clases\n",
        "\n",
        "En esta primera comparación se deseaba encontrar las diferencias que se encontraban en un modelo de regresión logística al aplicar el hiperparámetro class weight, es decir al balancear las clases de la bases de datos, en los resultados se obtuvo que el accuracy en el modelo base sin balanceo en el test es 0,851 y en el modelo con balanceo de clases 0,711. Esto sucede porque el modelo es muy bueno prediciendo cuando no renuncia un empleado, ya que en los datos se está encontrando en su mayoría empleados que no renuncian, por lo tanto este modelo sin balancear no generaliza.\n",
        "\n",
        "De aquí para adelante cuando se mencione el modelo base se trata del modelo de regresión logística con el balanceo de clases.\n",
        "\n",
        "Modelo base sin selección de variables vs otros modelos con selección de variables\n",
        "\n",
        "Recordemos que el accuracy significa la exactitud con la que el modelo clasifica correctamente, es decir las veces que acierta, además en esta comparación no se incluye el tuning de hiperparametros. Para esta comparación todos los modelos obtuvieron un mejor accuracy en el entrenamiento, sin embargo desmejoró en muy poca cantidad el accuracy en test para el caso de la regresión logística para ambas bases y el support vector machine con la base 2, en los demás se demostró que la selección de variables aporta significativamente a los resultados del modelo, esto se puede evidenciar en tabla superior.\n",
        "\n",
        "Modelo de regresión logística con balanceo de clases de hiperparámetro vs modelo de regresión logística con datos de entrada balanceados\n",
        "\n",
        "En esta comparación se quería poner a prueba cómo se podían obtener mejor resultados, a partir del hiperparámetro class weight o el balanceo manual con la función SMOTETomek(), esto se probó por medio del modelo de regresión logística, en la exactitud del modelo se observa que los dos en el test tienen aproximadamente un accuracy del 70%, por lo que se concluye que seguir trabajando con el hiperparametro o con los datos balanceados a partir del función seguirá cumpliendo de buena forma para obtener buenos resultados.\n",
        "\n",
        "Método de selección de variables: integrados (Lasso) vs wrapper (RFE)\n",
        "\n",
        "Para determinar qué método de selección de variables tendría mejor resultados se realizó un promedio para cada método de los 4 modelos en donde se aplicó (regresión logistica, random forest, gradient boosting y support vector machine), el promedio del accuracy del método integrado en los test es del 75.95% y en el método wrapper es 75.90%, concluyendo que los dos métodos obtienen una exactitud promedio muy similar, sin embargo esto podría variar dependiendo el modelo. Por las razones anteriores el tuning de hiperparametros se realizará a los modelos random forest, gradient boosting y support vector machine únicamente con la base 1, es decir con las variables predictoras elegidas por el método integrado.\n",
        "\n",
        "Modelos sin tuning de hiperparametros vs modelos con tuning de hiperparametros\n",
        "\n",
        "El método para buscar los mejores hiperparametros es la búsqueda en cuadrícula, se aplicó para los modelos random forest, gradient boosting y support machine, en todos la métrica de evaluación elegida para encontrar el mejor modelo fue el R2. Los R2 se exponen a continuación:\n",
        "\n",
        "Random forest classifier: -3,4%\n",
        "Gradient boosting classifier: 96,95%\n",
        "support vector machine:63,99%\n",
        "\n",
        "El gradient Boosting fue el modelo que mejor hiperparametros encontró obteniendo un R2 muy alto, es decir que este modelo es capaz de predecir en un 97% si un empleado renuncia o no. Luego el support vector machine fue el segundo modelo con mejores resultados, gracias también a la optimización de estos hiperparametros. Finalmente para el modelo random forest los hiperparametros desmejoraron el modelo sin tuning, se debe de buscar nuevos hiperparámetros para mejorar los resultados.\n",
        "\n",
        "Análisis de overfitting\n",
        "\n",
        "El modelo que tiene mayor sobreajuste es el gradiente boosting classifier, con la base 1 obtuvo un accuracy en train de 90,9% y en test 83,6%, para la base 2 obtuvo en train 90,7% y en test 84,9%, sin embargo la diferencia entre los valores del train y test no están tan alejados, por lo que se puede continuar con alguno de los dos modelos, sin embargo los resultados mostraron que este modelo con el tuning de hiperparametros aprendía y lograba generalizar.\n",
        "\n",
        "Modelo seleccionado\n",
        "\n",
        "Teniendo en cuenta que las métricas para seleccionar el modelo principalmente eran el accuracy y el recall se concluyó que el mejor modelo es el gradient boosting classifier, sus métricas fueron las siguientes:\n",
        "\n",
        "Accuracy: la exactitud del modelo es de 98,9%, es decir que el modelo acierta el 99% de las veces, el modelo está generalizando.\n",
        "Recall: el modelo es capaz de identificar el 96% de los empleados que van a renunciar.\n",
        "precisión: un 98% de los empleados predichos que van a renunciar realmente lo harán, es decir que el modelo solo se equivocara en un 2% de las veces que un empleado va a renunciar.\n",
        "f1-score: 99%, asume la importancia de la precisión y la exhaustividad del modelo.\n",
        "\n",
        "Es importante resaltar que la importancia del recall se respalda en que para la empresa es vital poder predecir bien sobre las personas que en verdad van a renunciar, para poder tomar posturas anticipadamente y evitar la deserción, mejorando el área de recursos humanos, poder darle continuidad a proyectos de sus empleados antiguos y evitando tiempos muertos para sus nuevos empleados mientras se adaptan. A continuación se mostrará la matriz de confusión del modelo de gradient boosting con la base 1 pero sin tuning de hiperparametros (figura 1), además el mismo modelo pero con el tuning de hiperparametros (figura 3)\n",
        " \n",
        "En la matriz de confusión se observa que los true positives y true negative cuando se hace tuning de hiperparametros aumentan, además el número de falsos positivos y falsos negativos disminuye drásticamente, evitando cometer el error tipo 1 y tipo 2.\n",
        "En la curva ROC el área bajo la curva aumenta casi llegando a 1, la medida de sensibilidad pasa de 86% a un 99%, lo que indica que el modelo es capaz de distinguir entre las clases, es decir predecir correctamente la deserción de un empleado.\n",
        "\n",
        "En general todos los modelos realizados, sin incluir el base, los modelos de gradient boosting y el modelo optimizado de support vector machine, obtienen mayor sensibilidad que precisión, es decir que los modelos cometen más el error tipo 1. En los modelos optimizados menos el de random forest se evitan en gran cantidad los escenarios de cometer el error tipo 1 y tipo 2, es decir que tienen un buenas métricas en precisión y sensibilidad, el modelo de random forest se debe hacer tuning nuevamente. En la tabla 1 se puede realizar estas comparaciones.\n",
        "\n"
      ]
    }
  ],
  "metadata": {
    "colab": {
      "collapsed_sections": [
        "AE_s_x4ndroU",
        "Q0Ny3_tPeGw_",
        "UaAorFM4qkyl",
        "NOH13MOC_FzW",
        "hRrN0e3Hq04c",
        "iraJL-3XtR_w",
        "DkwfO7dkdMwi",
        "Ael2IrSRaaOk",
        "0wRqC_otq-sN",
        "CVBRc0FxneE8",
        "ZmT8HaT2r2tV",
        "Wj9QmDNRq2ck",
        "rVMtFs0Dqd2e",
        "y_vpHkDcqKFE",
        "QdzIljkonkkg",
        "7AVgbsePRhUM",
        "FMdvnBsDZCuO",
        "sT9pPlt6Z0Rf",
        "ge1zAvh7aVPb",
        "NDimhCNEbohO",
        "wF_sskr4br_t"
      ],
      "include_colab_link": true,
      "provenance": []
    },
    "kernelspec": {
      "display_name": "Python 3",
      "name": "python3"
    },
    "language_info": {
      "codemirror_mode": {
        "name": "ipython",
        "version": 3
      },
      "file_extension": ".py",
      "mimetype": "text/x-python",
      "name": "python",
      "nbconvert_exporter": "python",
      "pygments_lexer": "ipython3",
      "version": "3.10.9"
    }
  },
  "nbformat": 4,
  "nbformat_minor": 0
}
